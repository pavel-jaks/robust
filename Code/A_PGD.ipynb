{
 "cells": [
  {
   "cell_type": "code",
   "execution_count": null,
   "metadata": {},
   "outputs": [],
   "source": [
    "%load_ext autoreload\n",
    "%autoreload 2"
   ]
  },
  {
   "cell_type": "code",
   "execution_count": null,
   "metadata": {},
   "outputs": [],
   "source": [
    "import math"
   ]
  },
  {
   "cell_type": "code",
   "execution_count": null,
   "metadata": {},
   "outputs": [],
   "source": [
    "import torch.nn as nn\n",
    "import torch"
   ]
  },
  {
   "cell_type": "code",
   "execution_count": null,
   "metadata": {
    "collapsed": false,
    "pycharm": {
     "name": "#%%\n"
    }
   },
   "outputs": [],
   "source": [
    "from utils import MnistData\n",
    "from models import ModelManager, ModelType"
   ]
  },
  {
   "cell_type": "code",
   "execution_count": 25,
   "metadata": {},
   "outputs": [],
   "source": [
    "model_loaded = ModelManager.get_trained(ModelType.MnistCnnPatt)\n",
    "data = MnistData(True)"
   ]
  },
  {
   "cell_type": "code",
   "execution_count": null,
   "metadata": {},
   "outputs": [],
   "source": [
    "max_norm = 50 / 255  # kappa - the radius of L_\\infinity ball around benign example\n",
    "step_size = 1e-2  # alpha - the size of the step"
   ]
  },
  {
   "cell_type": "code",
   "execution_count": null,
   "metadata": {},
   "outputs": [],
   "source": [
    "def clip(benign_examples: torch.Tensor, adversarial_examples: torch.Tensor, max_norm, minimum=0, maximum=1):\n",
    "    difference = adversarial_examples - benign_examples\n",
    "    difference = difference.detach()\n",
    "    difference.apply_(lambda x: x if (abs(x) < max_norm) else (-1 if x < 0 else 1 ) * max_norm)\n",
    "    clipped_stage_one = benign_examples + difference\n",
    "    clipped_stage_one = clipped_stage_one.detach()\n",
    "    clipped_stage_one.apply_(lambda x: maximum if x> maximum else (minimum if x < minimum else x))\n",
    "    return clipped_stage_one"
   ]
  },
  {
   "cell_type": "code",
   "execution_count": 30,
   "metadata": {},
   "outputs": [
    {
     "name": "stdout",
     "output_type": "stream",
     "text": [
      "--- 0 ---\n",
      "--- 10 ---\n",
      "--- 20 ---\n",
      "--- 30 ---\n",
      "--- 40 ---\n",
      "--- 50 ---\n",
      "--- 60 ---\n"
     ]
    }
   ],
   "source": [
    "benign_images, labels = data.get_training_batch(1000)\n",
    "images = benign_images + 2 * max_norm * (torch.rand((len(labels), 1, 28, 28)) - 0.5)\n",
    "\n",
    "for step in range(math.floor(min(max_norm * 4 * 255, max_norm * 255 * 1.25))):\n",
    "    images.requires_grad = True\n",
    "    if step % 10 == 0:\n",
    "        print(f'--- {step} ---')\n",
    "    if images.grad is not None:\n",
    "        images.grad.zero_()\n",
    "    loss = nn.CrossEntropyLoss()(model_loaded(images), labels)\n",
    "    loss.backward()\n",
    "    images = clip(benign_images, images + step_size * images.grad.apply_(lambda x: 1 if x >= 0 else -1), max_norm)\n",
    "altered_training_images = images"
   ]
  },
  {
   "cell_type": "code",
   "execution_count": null,
   "metadata": {
    "collapsed": false,
    "pycharm": {
     "name": "#%%\n"
    }
   },
   "outputs": [],
   "source": [
    "def get_prediction(model, image):\n",
    "    my_image = image.unsqueeze(0)\n",
    "    pred = model(my_image)\n",
    "    maxout = max(pred[0])\n",
    "    for j in range(10):\n",
    "        if pred[0, j] == maxout:\n",
    "            return j, maxout"
   ]
  },
  {
   "cell_type": "code",
   "execution_count": 31,
   "metadata": {
    "collapsed": false,
    "pycharm": {
     "name": "#%%\n"
    }
   },
   "outputs": [],
   "source": [
    "possible_adversarials = []\n",
    "for i in range(len(altered_training_images)):\n",
    "    prediction, confidence = get_prediction(model_loaded, altered_training_images[i])\n",
    "    original_prediction, original_confidence = get_prediction(model_loaded, benign_images[i])\n",
    "    if prediction != labels[i] and original_prediction == labels[i]:\n",
    "        params = {\"Label\": labels[i], \"Prediction\": prediction, \"Confidence\": confidence,\n",
    "                  \"Index\": i, \"OriginalPrediction\": original_prediction, \"OriginalConfidence\": original_confidence}\n",
    "        possible_adversarials.append(params)"
   ]
  },
  {
   "cell_type": "code",
   "execution_count": 32,
   "metadata": {
    "collapsed": false,
    "pycharm": {
     "name": "#%%\n"
    }
   },
   "outputs": [
    {
     "data": {
      "text/plain": [
       "552"
      ]
     },
     "execution_count": 32,
     "metadata": {},
     "output_type": "execute_result"
    }
   ],
   "source": [
    "len(possible_adversarials)"
   ]
  },
  {
   "cell_type": "code",
   "execution_count": null,
   "metadata": {
    "collapsed": false,
    "pycharm": {
     "name": "#%%\n"
    }
   },
   "outputs": [],
   "source": [
    "from matplotlib import pyplot as plt\n",
    "import numpy as np"
   ]
  },
  {
   "cell_type": "code",
   "execution_count": null,
   "metadata": {},
   "outputs": [],
   "source": [
    "def display(image, scale=False):\n",
    "    first_image = image[0].reshape((28 * 28,)).detach()\n",
    "    first_image = np.array(first_image, dtype='float')\n",
    "    pixels = first_image.reshape((28, 28))\n",
    "    if scale:\n",
    "        plt.imshow(pixels, cmap='gray', vmin=0, vmax=1)\n",
    "    else:\n",
    "        plt.imshow(pixels, cmap=\"gray\")\n",
    "    plt.show()"
   ]
  },
  {
   "cell_type": "code",
   "execution_count": 33,
   "metadata": {
    "collapsed": false,
    "pycharm": {
     "name": "#%%\n"
    }
   },
   "outputs": [
    {
     "data": {
      "image/png": "[encoded data removed]",
      "text/plain": [
       "<Figure size 432x288 with 1 Axes>"
      ]
     },
     "metadata": {
      "needs_background": "light"
     },
     "output_type": "display_data"
    },
    {
     "name": "stdout",
     "output_type": "stream",
     "text": [
      "+++++\n"
     ]
    },
    {
     "data": {
      "image/png": "[encoded data removed]",
      "text/plain": [
       "<Figure size 432x288 with 1 Axes>"
      ]
     },
     "metadata": {
      "needs_background": "light"
     },
     "output_type": "display_data"
    },
    {
     "name": "stdout",
     "output_type": "stream",
     "text": [
      "=====\n"
     ]
    },
    {
     "data": {
      "image/png": "[encoded data removed]",
      "text/plain": [
       "<Figure size 432x288 with 1 Axes>"
      ]
     },
     "metadata": {
      "needs_background": "light"
     },
     "output_type": "display_data"
    },
    {
     "name": "stdout",
     "output_type": "stream",
     "text": [
      "Label: 1, Prediction: 5, Confidence: 1.0\n",
      "Original prediction: 1, Original confidence: 1.0\n"
     ]
    }
   ],
   "source": [
    "adversarial = possible_adversarials[8]\n",
    "original_image = benign_images[adversarial[\"Index\"]]\n",
    "altered_image = altered_training_images[adversarial[\"Index\"]]\n",
    "mask = altered_image - original_image\n",
    "# mask = mask * 255\n",
    "# original_image = original_image * 255\n",
    "# altered_image = altered_image * 255\n",
    "display(original_image)\n",
    "print(\"+++++\")\n",
    "display(mask)\n",
    "print(\"=====\")\n",
    "display(altered_image, scale=True)\n",
    "print(f\"Label: {adversarial['Label']}, Prediction: {adversarial['Prediction']}, Confidence: {adversarial['Confidence']}\")\n",
    "print(f\"Original prediction: {adversarial['OriginalPrediction']}, Original confidence: {adversarial['OriginalConfidence']}\")"
   ]
  }
 ],
 "metadata": {
  "kernelspec": {
   "display_name": "Python 3",
   "language": "python",
   "name": "python3"
  },
  "language_info": {
   "codemirror_mode": {
    "name": "ipython",
    "version": 3
   },
   "file_extension": ".py",
   "mimetype": "text/x-python",
   "name": "python",
   "nbconvert_exporter": "python",
   "pygments_lexer": "ipython3",
   "version": "3.8.10"
  }
 },
 "nbformat": 4,
 "nbformat_minor": 0
}
