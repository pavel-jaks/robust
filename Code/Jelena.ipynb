{
 "cells": [
  {
   "cell_type": "code",
   "execution_count": 1,
   "metadata": {},
   "outputs": [],
   "source": [
    "%load_ext autoreload\n",
    "%autoreload 2"
   ]
  },
  {
   "cell_type": "code",
   "execution_count": 2,
   "metadata": {},
   "outputs": [],
   "source": [
    "import torch.nn as nn\n",
    "import torch.optim as optim"
   ]
  },
  {
   "cell_type": "code",
   "execution_count": 3,
   "metadata": {},
   "outputs": [],
   "source": [
    "from training import Coach\n",
    "from utils import MnistData\n",
    "from models import ModelManager, ModelType"
   ]
  },
  {
   "cell_type": "code",
   "execution_count": 4,
   "metadata": {},
   "outputs": [],
   "source": [
    "data = MnistData()"
   ]
  },
  {
   "cell_type": "code",
   "execution_count": 5,
   "metadata": {},
   "outputs": [],
   "source": [
    "simple, momentum, nesterov = [], [], []"
   ]
  },
  {
   "cell_type": "code",
   "execution_count": 12,
   "metadata": {},
   "outputs": [
    {
     "name": "stdout",
     "output_type": "stream",
     "text": [
      "--- (0) ---\n",
      "Training started at 1645362203.6520457\n",
      "Epoch 0: 69.06310272216797\n",
      "Epoch 5000: 55.680816650390625\n",
      "Training finished at 1645362239.1985333; lasted 35.54648756980896 seconds.\n",
      "67.96 % success on test data\n",
      "--- (1) ---\n",
      "Training started at 1645362240.2837672\n",
      "Epoch 0: 69.17224884033203\n",
      "Epoch 5000: 47.80699157714844\n",
      "Training finished at 1645362275.1876752; lasted 34.903908014297485 seconds.\n",
      "84.61 % success on test data\n",
      "--- (2) ---\n",
      "Training started at 1645362276.2672343\n",
      "Epoch 0: 69.08252716064453\n",
      "Epoch 5000: 47.80065155029297\n",
      "Training finished at 1645362311.6692917; lasted 35.4020574092865 seconds.\n",
      "83.39999999999999 % success on test data\n",
      "--- (3) ---\n",
      "Training started at 1645362312.726179\n",
      "Epoch 0: 69.08128356933594\n",
      "Epoch 5000: 49.91312789916992\n",
      "Training finished at 1645362350.4707444; lasted 37.74456548690796 seconds.\n",
      "75.46000000000001 % success on test data\n",
      "--- (4) ---\n",
      "Training started at 1645362351.5325696\n",
      "Epoch 0: 69.06108093261719\n",
      "Epoch 5000: 49.837486267089844\n",
      "Training finished at 1645362392.4924421; lasted 40.95987248420715 seconds.\n",
      "77.11 % success on test data\n",
      "--- (5) ---\n",
      "Training started at 1645362393.5977323\n",
      "Epoch 0: 69.0155258178711\n",
      "Epoch 5000: 51.74647903442383\n",
      "Training finished at 1645362431.8010721; lasted 38.20333981513977 seconds.\n",
      "75.78 % success on test data\n",
      "--- (6) ---\n",
      "Training started at 1645362432.904081\n",
      "Epoch 0: 69.20296478271484\n",
      "Epoch 5000: 50.077308654785156\n",
      "Training finished at 1645362471.3481648; lasted 38.44408369064331 seconds.\n",
      "74.58 % success on test data\n",
      "--- (7) ---\n",
      "Training started at 1645362472.4370892\n",
      "Epoch 0: 69.20986938476562\n",
      "Epoch 5000: 50.872474670410156\n",
      "Training finished at 1645362511.8897047; lasted 39.45261549949646 seconds.\n",
      "76.73 % success on test data\n",
      "--- (8) ---\n",
      "Training started at 1645362512.9513087\n",
      "Epoch 0: 69.07478332519531\n",
      "Epoch 5000: 49.54589080810547\n",
      "Training finished at 1645362550.8443904; lasted 37.89308166503906 seconds.\n",
      "82.80999999999999 % success on test data\n",
      "--- (9) ---\n",
      "Training started at 1645362551.9205039\n",
      "Epoch 0: 69.1524658203125\n",
      "Epoch 5000: 51.79819107055664\n",
      "Training finished at 1645362589.486544; lasted 37.5660400390625 seconds.\n",
      "74.95 % success on test data\n"
     ]
    }
   ],
   "source": [
    "for i in range(10):\n",
    "    print(f'--- ({i}) ---')\n",
    "    jelena = ModelManager.get_untrained(ModelType.MnistCnnJelena)\n",
    "    Coach.train(\n",
    "        jelena,\n",
    "        data,\n",
    "        nn.CrossEntropyLoss(reduction='sum'),\n",
    "        optim.SGD(jelena.parameters(), lr=1e-3),\n",
    "        30,\n",
    "        5001,\n",
    "        5000\n",
    "    )\n",
    "    simple.append(Coach.measure_performance(jelena, data))"
   ]
  },
  {
   "cell_type": "code",
   "execution_count": 7,
   "metadata": {},
   "outputs": [
    {
     "name": "stdout",
     "output_type": "stream",
     "text": [
      "--- (0) ---\n",
      "Training started at 1645361368.6443279\n",
      "Epoch 0: 68.99908447265625\n",
      "Epoch 5000: 68.83451843261719\n",
      "Training finished at 1645361406.5304937; lasted 37.88616585731506 seconds.\n",
      "9.8 % success on test data\n",
      "--- (1) ---\n",
      "Training started at 1645361407.4050858\n",
      "Epoch 0: 68.94375610351562\n",
      "Epoch 5000: 69.83451843261719\n",
      "Training finished at 1645361444.1837823; lasted 36.77869653701782 seconds.\n",
      "9.82 % success on test data\n",
      "--- (2) ---\n",
      "Training started at 1645361445.2376375\n",
      "Epoch 0: 69.1108627319336\n",
      "Epoch 5000: 70.83451843261719\n",
      "Training finished at 1645361482.3139122; lasted 37.07627463340759 seconds.\n",
      "9.82 % success on test data\n",
      "--- (3) ---\n",
      "Training started at 1645361483.4264328\n",
      "Epoch 0: 69.16016387939453\n",
      "Epoch 5000: 70.83451080322266\n",
      "Training finished at 1645361521.2077582; lasted 37.781325340270996 seconds.\n",
      "10.09 % success on test data\n",
      "--- (4) ---\n",
      "Training started at 1645361522.5007598\n",
      "Epoch 0: 69.0565185546875\n",
      "Epoch 5000: 67.83451843261719\n",
      "Training finished at 1645361559.6628764; lasted 37.16211652755737 seconds.\n",
      "9.82 % success on test data\n",
      "--- (5) ---\n",
      "Training started at 1645361560.7431493\n",
      "Epoch 0: 69.08653259277344\n",
      "Epoch 5000: 70.83451843261719\n",
      "Training finished at 1645361597.3845022; lasted 36.641352891922 seconds.\n",
      "10.32 % success on test data\n",
      "--- (6) ---\n",
      "Training started at 1645361598.344493\n",
      "Epoch 0: 69.03994750976562\n",
      "Epoch 5000: 72.83451843261719\n",
      "Training finished at 1645361634.566986; lasted 36.222493171691895 seconds.\n",
      "11.39 % success on test data\n",
      "--- (7) ---\n",
      "Training started at 1645361635.4716241\n",
      "Epoch 0: 69.16069030761719\n",
      "Epoch 5000: 72.83451843261719\n",
      "Training finished at 1645361671.620654; lasted 36.14902997016907 seconds.\n",
      "9.58 % success on test data\n",
      "--- (8) ---\n",
      "Training started at 1645361672.8167162\n",
      "Epoch 0: 69.10264587402344\n",
      "Epoch 5000: 70.83451843261719\n",
      "Training finished at 1645361710.1437201; lasted 37.327003955841064 seconds.\n",
      "11.35 % success on test data\n",
      "--- (9) ---\n",
      "Training started at 1645361711.0817368\n",
      "Epoch 0: 69.19396209716797\n",
      "Epoch 5000: 72.83451843261719\n",
      "Training finished at 1645361747.1054475; lasted 36.02371072769165 seconds.\n",
      "9.74 % success on test data\n"
     ]
    }
   ],
   "source": [
    "for i in range(10):\n",
    "    print(f'--- ({i}) ---')\n",
    "    jelena = ModelManager.get_untrained(ModelType.MnistCnnJelena)\n",
    "    Coach.train(\n",
    "        jelena,\n",
    "        data,\n",
    "        nn.CrossEntropyLoss(reduction='sum'),\n",
    "        optim.SGD(jelena.parameters(), lr=1e-2, momentum=0.9),\n",
    "        30,\n",
    "        5001,\n",
    "        5000\n",
    "    )\n",
    "    momentum.append(Coach.measure_performance(jelena, data))"
   ]
  },
  {
   "cell_type": "code",
   "execution_count": 8,
   "metadata": {},
   "outputs": [
    {
     "name": "stdout",
     "output_type": "stream",
     "text": [
      "--- (0) ---\n",
      "Training started at 1645361748.4734504\n",
      "Epoch 0: 69.24842834472656\n",
      "Epoch 5000: 70.83451843261719\n",
      "Training finished at 1645361788.206677; lasted 39.73322653770447 seconds.\n",
      "11.35 % success on test data\n",
      "--- (1) ---\n",
      "Training started at 1645361789.1085331\n",
      "Epoch 0: 68.93579864501953\n",
      "Epoch 5000: 70.83451843261719\n",
      "Training finished at 1645361827.8486285; lasted 38.740095376968384 seconds.\n",
      "9.82 % success on test data\n",
      "--- (2) ---\n",
      "Training started at 1645361828.938427\n",
      "Epoch 0: 69.04231262207031\n",
      "Epoch 5000: 69.83451843261719\n",
      "Training finished at 1645361867.2553313; lasted 38.31690430641174 seconds.\n",
      "10.280000000000001 % success on test data\n",
      "--- (3) ---\n",
      "Training started at 1645361868.4986362\n",
      "Epoch 0: 68.97080993652344\n",
      "Epoch 5000: 71.83451843261719\n",
      "Training finished at 1645361906.9695683; lasted 38.47093200683594 seconds.\n",
      "10.280000000000001 % success on test data\n",
      "--- (4) ---\n",
      "Training started at 1645361908.2799723\n",
      "Epoch 0: 69.09579467773438\n",
      "Epoch 5000: 68.83451843261719\n",
      "Training finished at 1645361946.9045582; lasted 38.6245858669281 seconds.\n",
      "10.27 % success on test data\n",
      "--- (5) ---\n",
      "Training started at 1645361948.1194172\n",
      "Epoch 0: 69.04047393798828\n",
      "Epoch 5000: 66.83451080322266\n",
      "Training finished at 1645361986.077593; lasted 37.95817589759827 seconds.\n",
      "11.35 % success on test data\n",
      "--- (6) ---\n",
      "Training started at 1645361986.9886322\n",
      "Epoch 0: 69.10694122314453\n",
      "Epoch 5000: 69.83451843261719\n",
      "Training finished at 1645362025.2336786; lasted 38.24504637718201 seconds.\n",
      "10.32 % success on test data\n",
      "--- (7) ---\n",
      "Training started at 1645362026.176622\n",
      "Epoch 0: 68.91954803466797\n",
      "Epoch 5000: 68.83450317382812\n",
      "Training finished at 1645362064.523634; lasted 38.34701204299927 seconds.\n",
      "9.8 % success on test data\n",
      "--- (8) ---\n",
      "Training started at 1645362065.406972\n",
      "Epoch 0: 69.03623962402344\n",
      "Epoch 5000: 72.83451843261719\n",
      "Training finished at 1645362103.603685; lasted 38.19671297073364 seconds.\n",
      "9.74 % success on test data\n",
      "--- (9) ---\n",
      "Training started at 1645362104.8437092\n",
      "Epoch 0: 69.21204376220703\n",
      "Epoch 5000: 72.83451843261719\n",
      "Training finished at 1645362143.821707; lasted 38.97799777984619 seconds.\n",
      "11.35 % success on test data\n"
     ]
    }
   ],
   "source": [
    "for i in range(10):\n",
    "    print(f'--- ({i}) ---')\n",
    "    jelena = ModelManager.get_untrained(ModelType.MnistCnnJelena)\n",
    "    Coach.train(\n",
    "        jelena,\n",
    "        data,\n",
    "        nn.CrossEntropyLoss(reduction='sum'),\n",
    "        optim.SGD(jelena.parameters(), lr=1e-2, momentum=0.9, nesterov=True),\n",
    "        30,\n",
    "        5001,\n",
    "        5000\n",
    "    )\n",
    "    nesterov.append(Coach.measure_performance(jelena, data))"
   ]
  },
  {
   "cell_type": "code",
   "execution_count": 9,
   "metadata": {},
   "outputs": [],
   "source": [
    "import matplotlib.pylab as lab"
   ]
  },
  {
   "cell_type": "code",
   "execution_count": 13,
   "metadata": {},
   "outputs": [
    {
     "data": {
      "text/plain": [
       "<matplotlib.legend.Legend at 0x1c6c44bf9a0>"
      ]
     },
     "execution_count": 13,
     "metadata": {},
     "output_type": "execute_result"
    },
    {
     "data": {
      "image/png": "[encoded data removed]",
      "text/plain": [
       "<Figure size 432x288 with 1 Axes>"
      ]
     },
     "metadata": {
      "needs_background": "light"
     },
     "output_type": "display_data"
    }
   ],
   "source": [
    "# for performences in [sorted(simple), sorted(momentum), sorted(nesterov)]:\n",
    "performences = sorted(simple)\n",
    "distribution = {}\n",
    "for i in range(1, len(performences) + 1):\n",
    "    distribution[performences[i - 1]] = i / len(performences)\n",
    "my_list = distribution.items()\n",
    "sorted(my_list)\n",
    "x, y = zip(*my_list)\n",
    "lab.plot(x, y, color = \"blue\", label=\"Simple\")\n",
    "\n",
    "performences = sorted(momentum)\n",
    "distribution = {}\n",
    "for i in range(1, len(performences) + 1):\n",
    "    distribution[performences[i - 1]] = i / len(performences)\n",
    "my_list = distribution.items()\n",
    "sorted(my_list)\n",
    "x, y = zip(*my_list)\n",
    "lab.plot(x, y, color = \"red\", label=\"Momentum\")\n",
    "\n",
    "performences = sorted(nesterov)\n",
    "distribution = {}\n",
    "for i in range(1, len(performences) + 1):\n",
    "    distribution[performences[i - 1]] = i / len(performences)\n",
    "my_list = distribution.items()\n",
    "sorted(my_list)\n",
    "x, y = zip(*my_list)\n",
    "lab.plot(x, y, color=\"green\", label=\"Nesterov\")\n",
    "\n",
    "lab.legend()"
   ]
  }
 ],
 "metadata": {
  "interpreter": {
   "hash": "b9d03d93fdbeeb361cc45deae4888a34596acc9ca3c93366af240ad46910d2d2"
  },
  "kernelspec": {
   "display_name": "Python 3.8.10 64-bit",
   "language": "python",
   "name": "python3"
  },
  "language_info": {
   "codemirror_mode": {
    "name": "ipython",
    "version": 3
   },
   "file_extension": ".py",
   "mimetype": "text/x-python",
   "name": "python",
   "nbconvert_exporter": "python",
   "pygments_lexer": "ipython3",
   "version": "3.8.10"
  },
  "orig_nbformat": 4
 },
 "nbformat": 4,
 "nbformat_minor": 2
}
