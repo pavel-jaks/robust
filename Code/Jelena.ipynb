{
 "cells": [
  {
   "cell_type": "code",
   "execution_count": 1,
   "metadata": {},
   "outputs": [],
   "source": [
    "%load_ext autoreload\n",
    "%autoreload 2"
   ]
  },
  {
   "cell_type": "code",
   "execution_count": 2,
   "metadata": {},
   "outputs": [],
   "source": [
    "import torch.nn as nn\n",
    "import torch.optim as optim"
   ]
  },
  {
   "cell_type": "code",
   "execution_count": 3,
   "metadata": {},
   "outputs": [],
   "source": [
    "from training import Coach\n",
    "from utils import MnistData\n",
    "from models import ModelManager, ModelType"
   ]
  },
  {
   "cell_type": "code",
   "execution_count": 4,
   "metadata": {},
   "outputs": [],
   "source": [
    "data = MnistData()"
   ]
  },
  {
   "cell_type": "code",
   "execution_count": 5,
   "metadata": {},
   "outputs": [],
   "source": [
    "simple, adagrad, rmsprop, adam = [], [], [], []"
   ]
  },
  {
   "cell_type": "code",
   "execution_count": 7,
   "metadata": {},
   "outputs": [
    {
     "name": "stdout",
     "output_type": "stream",
     "text": [
      "--- (0) ---\n",
      "Training started at 1645388529.9124568\n",
      "Epoch 0: 69.13077545166016\n",
      "Epoch 5000: 46.10470962524414\n",
      "Training finished at 1645388568.2438903; lasted 38.33143353462219 seconds.\n",
      "95.39999999999999 % success on test data\n",
      "--- (1) ---\n",
      "Training started at 1645388569.3911629\n",
      "Epoch 0: 69.24302673339844\n",
      "Epoch 5000: 48.73835754394531\n",
      "Training finished at 1645388606.2785962; lasted 36.88743329048157 seconds.\n",
      "87.0 % success on test data\n",
      "--- (2) ---\n",
      "Training started at 1645388607.3930006\n",
      "Epoch 0: 69.1031265258789\n",
      "Epoch 5000: 43.83632278442383\n",
      "Training finished at 1645388643.6598473; lasted 36.266846656799316 seconds.\n",
      "96.67 % success on test data\n",
      "--- (3) ---\n",
      "Training started at 1645388644.7211044\n",
      "Epoch 0: 68.95953369140625\n",
      "Epoch 5000: 43.84518051147461\n",
      "Training finished at 1645388680.319418; lasted 35.59831357002258 seconds.\n",
      "96.26 % success on test data\n",
      "--- (4) ---\n",
      "Training started at 1645388681.356419\n",
      "Epoch 0: 68.99239349365234\n",
      "Epoch 5000: 46.33183288574219\n",
      "Training finished at 1645388717.074086; lasted 35.71766686439514 seconds.\n",
      "95.03 % success on test data\n",
      "--- (5) ---\n",
      "Training started at 1645388718.118634\n",
      "Epoch 0: 69.10099792480469\n",
      "Epoch 5000: 44.074344635009766\n",
      "Training finished at 1645388754.9362655; lasted 36.817631483078 seconds.\n",
      "95.67 % success on test data\n",
      "--- (6) ---\n",
      "Training started at 1645388755.9712033\n",
      "Epoch 0: 69.08588409423828\n",
      "Epoch 5000: 43.845767974853516\n",
      "Training finished at 1645388791.2229435; lasted 35.25174021720886 seconds.\n",
      "97.18 % success on test data\n",
      "--- (7) ---\n",
      "Training started at 1645388792.267595\n",
      "Epoch 0: 69.1720962524414\n",
      "Epoch 5000: 45.802268981933594\n",
      "Training finished at 1645388827.0712926; lasted 34.80369758605957 seconds.\n",
      "96.82 % success on test data\n",
      "--- (8) ---\n",
      "Training started at 1645388828.121255\n",
      "Epoch 0: 69.27753448486328\n",
      "Epoch 5000: 45.748504638671875\n",
      "Training finished at 1645388863.4283774; lasted 35.307122468948364 seconds.\n",
      "96.17 % success on test data\n",
      "--- (9) ---\n",
      "Training started at 1645388864.4782686\n",
      "Epoch 0: 69.09440612792969\n",
      "Epoch 5000: 45.71523666381836\n",
      "Training finished at 1645388899.5017734; lasted 35.02350473403931 seconds.\n",
      "96.03 % success on test data\n"
     ]
    }
   ],
   "source": [
    "for i in range(10):\n",
    "    print(f'--- ({i}) ---')\n",
    "    jelena = ModelManager.get_untrained(ModelType.MnistCnnJelena)\n",
    "    Coach.train(\n",
    "        jelena,\n",
    "        data,\n",
    "        nn.CrossEntropyLoss(reduction='sum'),\n",
    "        optim.SGD(jelena.parameters(), lr=1e-2),\n",
    "        30,\n",
    "        5001,\n",
    "        5000\n",
    "    )\n",
    "    simple.append(Coach.measure_performance(jelena, data))"
   ]
  },
  {
   "cell_type": "code",
   "execution_count": 8,
   "metadata": {},
   "outputs": [
    {
     "name": "stdout",
     "output_type": "stream",
     "text": [
      "--- (0) ---\n",
      "Training started at 1645388900.6895547\n",
      "Epoch 0: 68.95246887207031\n",
      "Epoch 5000: 49.78708267211914\n",
      "Training finished at 1645388941.0662017; lasted 40.376646995544434 seconds.\n",
      "67.65 % success on test data\n",
      "--- (1) ---\n",
      "Training started at 1645388942.2003274\n",
      "Epoch 0: 69.12401580810547\n",
      "Epoch 5000: 50.79351043701172\n",
      "Training finished at 1645388979.712595; lasted 37.51226758956909 seconds.\n",
      "87.33999999999999 % success on test data\n",
      "--- (2) ---\n",
      "Training started at 1645388980.720534\n",
      "Epoch 0: 69.14765930175781\n",
      "Epoch 5000: 47.749176025390625\n",
      "Training finished at 1645389019.9177198; lasted 39.197185754776 seconds.\n",
      "87.12 % success on test data\n",
      "--- (3) ---\n",
      "Training started at 1645389020.9657109\n",
      "Epoch 0: 69.11067199707031\n",
      "Epoch 5000: 54.66183853149414\n",
      "Training finished at 1645389059.2508476; lasted 38.285136699676514 seconds.\n",
      "67.58 % success on test data\n",
      "--- (4) ---\n",
      "Training started at 1645389060.3878937\n",
      "Epoch 0: 69.08219146728516\n",
      "Epoch 5000: 47.687705993652344\n",
      "Training finished at 1645389098.7240994; lasted 38.33620572090149 seconds.\n",
      "85.85000000000001 % success on test data\n",
      "--- (5) ---\n",
      "Training started at 1645389099.7789912\n",
      "Epoch 0: 68.97748565673828\n",
      "Epoch 5000: 50.511085510253906\n",
      "Training finished at 1645389139.7601357; lasted 39.981144428253174 seconds.\n",
      "77.64 % success on test data\n",
      "--- (6) ---\n",
      "Training started at 1645389140.7774549\n",
      "Epoch 0: 69.05896759033203\n",
      "Epoch 5000: 52.659400939941406\n",
      "Training finished at 1645389178.860403; lasted 38.082948207855225 seconds.\n",
      "78.21000000000001 % success on test data\n",
      "--- (7) ---\n",
      "Training started at 1645389179.8727415\n",
      "Epoch 0: 69.01678466796875\n",
      "Epoch 5000: 48.11008834838867\n",
      "Training finished at 1645389218.7198064; lasted 38.84706497192383 seconds.\n",
      "86.45 % success on test data\n",
      "--- (8) ---\n",
      "Training started at 1645389219.7875159\n",
      "Epoch 0: 69.18035888671875\n",
      "Epoch 5000: 49.12406539916992\n",
      "Training finished at 1645389257.668072; lasted 37.88055610656738 seconds.\n",
      "86.88 % success on test data\n",
      "--- (9) ---\n",
      "Training started at 1645389258.732609\n",
      "Epoch 0: 69.18236541748047\n",
      "Epoch 5000: 46.860595703125\n",
      "Training finished at 1645389297.0150557; lasted 38.28244662284851 seconds.\n",
      "86.35000000000001 % success on test data\n"
     ]
    }
   ],
   "source": [
    "for i in range(10):\n",
    "    print(f'--- ({i}) ---')\n",
    "    jelena = ModelManager.get_untrained(ModelType.MnistCnnJelena)\n",
    "    Coach.train(\n",
    "        jelena,\n",
    "        data,\n",
    "        nn.CrossEntropyLoss(reduction='sum'),\n",
    "        optim.Adagrad(jelena.parameters(), lr=1e-2),\n",
    "        30,\n",
    "        5001,\n",
    "        5000\n",
    "    )\n",
    "    adagrad.append(Coach.measure_performance(jelena, data))"
   ]
  },
  {
   "cell_type": "code",
   "execution_count": 9,
   "metadata": {},
   "outputs": [
    {
     "name": "stdout",
     "output_type": "stream",
     "text": [
      "--- (0) ---\n",
      "Training started at 1645389298.3605256\n",
      "Epoch 0: 69.17866516113281\n",
      "Epoch 5000: 71.83451843261719\n",
      "Training finished at 1645389340.2583466; lasted 41.89782094955444 seconds.\n",
      "9.82 % success on test data\n",
      "--- (1) ---\n",
      "Training started at 1645389341.3445017\n",
      "Epoch 0: 69.17289733886719\n",
      "Epoch 5000: 70.83451843261719\n",
      "Training finished at 1645389381.198472; lasted 39.85397028923035 seconds.\n",
      "11.35 % success on test data\n",
      "--- (2) ---\n",
      "Training started at 1645389382.098547\n",
      "Epoch 0: 69.1170654296875\n",
      "Epoch 5000: 70.83451843261719\n",
      "Training finished at 1645389421.9117215; lasted 39.81317448616028 seconds.\n",
      "8.92 % success on test data\n",
      "--- (3) ---\n",
      "Training started at 1645389423.0791206\n",
      "Epoch 0: 68.96424865722656\n",
      "Epoch 5000: 69.83451843261719\n",
      "Training finished at 1645389462.910061; lasted 39.83094024658203 seconds.\n",
      "11.35 % success on test data\n",
      "--- (4) ---\n",
      "Training started at 1645389463.8392296\n",
      "Epoch 0: 68.97514343261719\n",
      "Epoch 5000: 71.83451843261719\n",
      "Training finished at 1645389503.1193035; lasted 39.28007388114929 seconds.\n",
      "8.92 % success on test data\n",
      "--- (5) ---\n",
      "Training started at 1645389504.6132023\n",
      "Epoch 0: 69.0811996459961\n",
      "Epoch 5000: 71.83451843261719\n",
      "Training finished at 1645389543.9085503; lasted 39.295347929000854 seconds.\n",
      "9.58 % success on test data\n",
      "--- (6) ---\n",
      "Training started at 1645389545.05633\n",
      "Epoch 0: 69.0053482055664\n",
      "Epoch 5000: 71.83451843261719\n",
      "Training finished at 1645389584.479592; lasted 39.42326211929321 seconds.\n",
      "11.35 % success on test data\n",
      "--- (7) ---\n",
      "Training started at 1645389585.369933\n",
      "Epoch 0: 69.10945129394531\n",
      "Epoch 5000: 69.83451080322266\n",
      "Training finished at 1645389626.7935958; lasted 41.42366290092468 seconds.\n",
      "9.8 % success on test data\n",
      "--- (8) ---\n",
      "Training started at 1645389627.6707993\n",
      "Epoch 0: 69.1380386352539\n",
      "Epoch 5000: 67.83451843261719\n",
      "Training finished at 1645389668.0534022; lasted 40.38260293006897 seconds.\n",
      "10.32 % success on test data\n",
      "--- (9) ---\n",
      "Training started at 1645389669.0156896\n",
      "Epoch 0: 69.1099624633789\n",
      "Epoch 5000: 68.83451843261719\n",
      "Training finished at 1645389711.612559; lasted 42.596869468688965 seconds.\n",
      "10.09 % success on test data\n"
     ]
    }
   ],
   "source": [
    "for i in range(10):\n",
    "    print(f'--- ({i}) ---')\n",
    "    jelena = ModelManager.get_untrained(ModelType.MnistCnnJelena)\n",
    "    Coach.train(\n",
    "        jelena,\n",
    "        data,\n",
    "        nn.CrossEntropyLoss(reduction='sum'),\n",
    "        optim.RMSprop(jelena.parameters(), lr=1e-2),\n",
    "        30,\n",
    "        5001,\n",
    "        5000\n",
    "    )\n",
    "    rmsprop.append(Coach.measure_performance(jelena, data))"
   ]
  },
  {
   "cell_type": "code",
   "execution_count": 10,
   "metadata": {},
   "outputs": [
    {
     "name": "stdout",
     "output_type": "stream",
     "text": [
      "--- (0) ---\n",
      "Training started at 1645389713.041928\n",
      "Epoch 0: 69.01564025878906\n",
      "Epoch 5000: 45.834503173828125\n",
      "Training finished at 1645389755.539672; lasted 42.49774384498596 seconds.\n",
      "88.58 % success on test data\n",
      "--- (1) ---\n",
      "Training started at 1645389756.579575\n",
      "Epoch 0: 69.05148315429688\n",
      "Epoch 5000: 46.834503173828125\n",
      "Training finished at 1645389799.60879; lasted 43.02921485900879 seconds.\n",
      "88.29 % success on test data\n",
      "--- (2) ---\n",
      "Training started at 1645389800.644757\n",
      "Epoch 0: 68.9900894165039\n",
      "Epoch 5000: 48.834503173828125\n",
      "Training finished at 1645389843.400571; lasted 42.75581407546997 seconds.\n",
      "92.11 % success on test data\n",
      "--- (3) ---\n",
      "Training started at 1645389844.464464\n",
      "Epoch 0: 69.0049819946289\n",
      "Epoch 5000: 44.834503173828125\n",
      "Training finished at 1645389886.3487427; lasted 41.884278774261475 seconds.\n",
      "85.68 % success on test data\n",
      "--- (4) ---\n",
      "Training started at 1645389887.433609\n",
      "Epoch 0: 69.01287078857422\n",
      "Epoch 5000: 52.834503173828125\n",
      "Training finished at 1645389930.0258055; lasted 42.592196464538574 seconds.\n",
      "70.98 % success on test data\n",
      "--- (5) ---\n",
      "Training started at 1645389931.1576579\n",
      "Epoch 0: 69.06916809082031\n",
      "Epoch 5000: 46.834503173828125\n",
      "Training finished at 1645389973.9465516; lasted 42.788893699645996 seconds.\n",
      "80.87 % success on test data\n",
      "--- (6) ---\n",
      "Training started at 1645389975.0017788\n",
      "Epoch 0: 69.11454772949219\n",
      "Epoch 5000: 50.834503173828125\n",
      "Training finished at 1645390017.8418767; lasted 42.84009790420532 seconds.\n",
      "80.05 % success on test data\n",
      "--- (7) ---\n",
      "Training started at 1645390018.9034145\n",
      "Epoch 0: 68.91233825683594\n",
      "Epoch 5000: 52.834510803222656\n",
      "Training finished at 1645390060.810442; lasted 41.90702748298645 seconds.\n",
      "70.97 % success on test data\n",
      "--- (8) ---\n",
      "Training started at 1645390061.9203439\n",
      "Epoch 0: 69.15687561035156\n",
      "Epoch 5000: 47.834503173828125\n",
      "Training finished at 1645390103.628135; lasted 41.7077910900116 seconds.\n",
      "86.47 % success on test data\n",
      "--- (9) ---\n",
      "Training started at 1645390104.70936\n",
      "Epoch 0: 69.04133605957031\n",
      "Epoch 5000: 47.9984245300293\n",
      "Training finished at 1645390148.2353933; lasted 43.52603340148926 seconds.\n",
      "79.84 % success on test data\n"
     ]
    }
   ],
   "source": [
    "for i in range(10):\n",
    "    print(f'--- ({i}) ---')\n",
    "    jelena = ModelManager.get_untrained(ModelType.MnistCnnJelena)\n",
    "    Coach.train(\n",
    "        jelena,\n",
    "        data,\n",
    "        nn.CrossEntropyLoss(reduction='sum'),\n",
    "        optim.Adam(jelena.parameters(), lr=1e-2),\n",
    "        30,\n",
    "        5001,\n",
    "        5000\n",
    "    )\n",
    "    adam.append(Coach.measure_performance(jelena, data))"
   ]
  },
  {
   "cell_type": "code",
   "execution_count": 11,
   "metadata": {},
   "outputs": [],
   "source": [
    "import matplotlib.pylab as lab"
   ]
  },
  {
   "cell_type": "code",
   "execution_count": 12,
   "metadata": {},
   "outputs": [
    {
     "data": {
      "text/plain": [
       "<matplotlib.legend.Legend at 0x1aa9d231d30>"
      ]
     },
     "execution_count": 12,
     "metadata": {},
     "output_type": "execute_result"
    },
    {
     "data": {
      "image/png": "[encoded data removed]",
      "text/plain": [
       "<Figure size 432x288 with 1 Axes>"
      ]
     },
     "metadata": {
      "needs_background": "light"
     },
     "output_type": "display_data"
    }
   ],
   "source": [
    "# for performences in [sorted(simple), sorted(momentum), sorted(nesterov)]:\n",
    "performences = sorted(simple)\n",
    "distribution = {}\n",
    "for i in range(1, len(performences) + 1):\n",
    "    distribution[performences[i - 1]] = i / len(performences)\n",
    "my_list = distribution.items()\n",
    "sorted(my_list)\n",
    "x, y = zip(*my_list)\n",
    "lab.plot(x, y, color = \"blue\", label=\"Simple\")\n",
    "\n",
    "performences = sorted(adagrad)\n",
    "distribution = {}\n",
    "for i in range(1, len(performences) + 1):\n",
    "    distribution[performences[i - 1]] = i / len(performences)\n",
    "my_list = distribution.items()\n",
    "sorted(my_list)\n",
    "x, y = zip(*my_list)\n",
    "lab.plot(x, y, color = \"red\", label=\"Adagrad\")\n",
    "\n",
    "performences = sorted(rmsprop)\n",
    "distribution = {}\n",
    "for i in range(1, len(performences) + 1):\n",
    "    distribution[performences[i - 1]] = i / len(performences)\n",
    "my_list = distribution.items()\n",
    "sorted(my_list)\n",
    "x, y = zip(*my_list)\n",
    "lab.plot(x, y, color=\"green\", label=\"RMSProp\")\n",
    "\n",
    "performences = sorted(adam)\n",
    "distribution = {}\n",
    "for i in range(1, len(performences) + 1):\n",
    "    distribution[performences[i - 1]] = i / len(performences)\n",
    "my_list = distribution.items()\n",
    "sorted(my_list)\n",
    "x, y = zip(*my_list)\n",
    "lab.plot(x, y, color=\"yellow\", label=\"Adam\")\n",
    "\n",
    "lab.legend()"
   ]
  },
  {
   "cell_type": "code",
   "execution_count": 23,
   "metadata": {},
   "outputs": [
    {
     "name": "stdout",
     "output_type": "stream",
     "text": [
      "Training started at 1645390665.755123\n",
      "Epoch 0: 69.19328308105469\n",
      "Epoch 500: 49.50323486328125\n",
      "Epoch 1000: 44.785362243652344\n",
      "Epoch 1500: 44.52419662475586\n",
      "Epoch 2000: 43.95610427856445\n",
      "Epoch 2500: 45.39946365356445\n",
      "Epoch 3000: 44.783592224121094\n",
      "Epoch 3500: 44.64237594604492\n",
      "Epoch 4000: 43.835899353027344\n",
      "Epoch 4500: 43.865150451660156\n",
      "Epoch 5000: 44.156673431396484\n",
      "Training finished at 1645390705.6436493; lasted 39.88852643966675 seconds.\n",
      "97.31 % success on test data\n"
     ]
    },
    {
     "data": {
      "text/plain": [
       "0.9731"
      ]
     },
     "execution_count": 23,
     "metadata": {},
     "output_type": "execute_result"
    }
   ],
   "source": [
    "jelena = ModelManager.get_untrained(ModelType.MnistCnnJelena)\n",
    "Coach.train(\n",
    "    jelena,\n",
    "    data,\n",
    "    nn.CrossEntropyLoss(reduction='sum'),\n",
    "    optim.RMSprop(jelena.parameters(), lr=1e-3),\n",
    "    30,\n",
    "    5001,\n",
    "    500\n",
    ")\n",
    "Coach.measure_performance(jelena, data)"
   ]
  },
  {
   "cell_type": "markdown",
   "metadata": {},
   "source": [
    "# Výsledky\n",
    "\n",
    "## SGD\n",
    "* Standardně 96 % úspěšnost při lr=1e-2 a 5001 ebochách a batch size 30\n",
    "\n",
    "## Adagrad\n",
    "* Bída, i při změně lr z 1e-2 na 1e-3\n",
    "\n",
    "## Adam\n",
    "* zklamal, při lr na několika řádech dosáhnul tak na 80 % test rate\n",
    "\n",
    "## RMSProp\n",
    "* Překvapil, po fiasku s lr=1e-2 dosahoval standardně 97 % test rate na lr=1e-3 -> Lepčí než SGD?\n",
    "\n"
   ]
  }
 ],
 "metadata": {
  "interpreter": {
   "hash": "b9d03d93fdbeeb361cc45deae4888a34596acc9ca3c93366af240ad46910d2d2"
  },
  "kernelspec": {
   "display_name": "Python 3.8.10 64-bit",
   "language": "python",
   "name": "python3"
  },
  "language_info": {
   "codemirror_mode": {
    "name": "ipython",
    "version": 3
   },
   "file_extension": ".py",
   "mimetype": "text/x-python",
   "name": "python",
   "nbconvert_exporter": "python",
   "pygments_lexer": "ipython3",
   "version": "3.8.10"
  },
  "orig_nbformat": 4
 },
 "nbformat": 4,
 "nbformat_minor": 2
}
