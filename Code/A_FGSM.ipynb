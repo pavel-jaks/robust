{
 "cells": [
  {
   "cell_type": "markdown",
   "metadata": {
    "collapsed": false,
    "pycharm": {
     "name": "#%% md\n"
    }
   },
   "source": [
    "![Adversarial example](adversarial_example.png \"Adversarial example\")"
   ]
  },
  {
   "cell_type": "code",
   "execution_count": 1,
   "metadata": {},
   "outputs": [],
   "source": [
    "%load_ext autoreload\n",
    "%autoreload 2"
   ]
  },
  {
   "cell_type": "code",
   "execution_count": 2,
   "metadata": {},
   "outputs": [],
   "source": [
    "import torch.nn as nn"
   ]
  },
  {
   "cell_type": "code",
   "execution_count": 3,
   "metadata": {
    "collapsed": false,
    "pycharm": {
     "name": "#%%\n"
    }
   },
   "outputs": [],
   "source": [
    "from utils import MnistData\n",
    "from models import ModelManager, ModelType"
   ]
  },
  {
   "cell_type": "code",
   "execution_count": 4,
   "metadata": {},
   "outputs": [],
   "source": [
    "model_loaded = ModelManager.get_trained(ModelType.MnistCnnMilano)\n",
    "data = MnistData(True)"
   ]
  },
  {
   "cell_type": "code",
   "execution_count": 5,
   "metadata": {},
   "outputs": [],
   "source": [
    "step_size = 50 / 255"
   ]
  },
  {
   "cell_type": "code",
   "execution_count": 18,
   "metadata": {},
   "outputs": [],
   "source": [
    "benign_images, labels = data.get_training_batch(1000)"
   ]
  },
  {
   "cell_type": "code",
   "execution_count": 19,
   "metadata": {
    "collapsed": false,
    "pycharm": {
     "name": "#%%\n"
    }
   },
   "outputs": [],
   "source": [
    "benign_images.requires_grad = True\n",
    "if benign_images.grad is not None:\n",
    "    benign_images.grad.zero_()\n",
    "loss = nn.CrossEntropyLoss()(model_loaded(benign_images), labels)\n",
    "loss.backward()\n",
    "grad = benign_images.grad"
   ]
  },
  {
   "cell_type": "code",
   "execution_count": 20,
   "metadata": {
    "collapsed": false,
    "pycharm": {
     "name": "#%%\n"
    }
   },
   "outputs": [],
   "source": [
    "altered_training_images = benign_images + step_size * grad.apply_(lambda x: 1 if x >= 0 else -1)"
   ]
  },
  {
   "cell_type": "code",
   "execution_count": 21,
   "metadata": {
    "collapsed": false,
    "pycharm": {
     "name": "#%%\n"
    }
   },
   "outputs": [
    {
     "data": {
      "text/plain": [
       "tensor([[[[0.0000, 0.0000, 0.0000,  ..., 0.0000, 0.1961, 0.1961],\n",
       "          [0.0000, 0.0000, 0.0000,  ..., 0.0000, 0.1961, 0.1961],\n",
       "          [0.0000, 0.0000, 0.0000,  ..., 0.1961, 0.0000, 0.1961],\n",
       "          ...,\n",
       "          [0.1961, 0.1961, 0.1961,  ..., 0.1961, 0.1961, 0.1961],\n",
       "          [0.1961, 0.1961, 0.1961,  ..., 0.0000, 0.1961, 0.1961],\n",
       "          [0.1961, 0.1961, 0.1961,  ..., 0.0000, 0.1961, 0.1961]]],\n",
       "\n",
       "\n",
       "        [[[0.1961, 0.1961, 0.1961,  ..., 0.1961, 0.1961, 0.1961],\n",
       "          [0.1961, 0.1961, 0.1961,  ..., 0.1961, 0.1961, 0.1961],\n",
       "          [0.1961, 0.1961, 0.1961,  ..., 0.1961, 0.1961, 0.1961],\n",
       "          ...,\n",
       "          [0.1961, 0.0000, 0.0000,  ..., 0.0000, 0.0000, 0.1961],\n",
       "          [0.1961, 0.0000, 0.0000,  ..., 0.0000, 0.0000, 0.1961],\n",
       "          [0.1961, 0.1961, 0.0000,  ..., 0.0000, 0.0000, 0.1961]]],\n",
       "\n",
       "\n",
       "        [[[0.1961, 0.1961, 0.1961,  ..., 0.0000, 0.1961, 0.1961],\n",
       "          [0.1961, 0.1961, 0.1961,  ..., 0.1961, 0.1961, 0.1961],\n",
       "          [0.1961, 0.1961, 0.1961,  ..., 0.0000, 0.1961, 0.1961],\n",
       "          ...,\n",
       "          [0.1961, 0.1961, 0.1961,  ..., 0.1961, 0.1961, 0.1961],\n",
       "          [0.1961, 0.1961, 0.1961,  ..., 0.1961, 0.1961, 0.1961],\n",
       "          [0.1961, 0.1961, 0.1961,  ..., 0.1961, 0.1961, 0.1961]]],\n",
       "\n",
       "\n",
       "        ...,\n",
       "\n",
       "\n",
       "        [[[0.1961, 0.1961, 0.0000,  ..., 0.0000, 0.1961, 0.1961],\n",
       "          [0.1961, 0.1961, 0.0000,  ..., 0.1961, 0.1961, 0.1961],\n",
       "          [0.1961, 0.1961, 0.0000,  ..., 0.0000, 0.0000, 0.1961],\n",
       "          ...,\n",
       "          [0.1961, 0.0000, 0.0000,  ..., 0.0000, 0.0000, 0.0000],\n",
       "          [0.1961, 0.1961, 0.0000,  ..., 0.0000, 0.1961, 0.1961],\n",
       "          [0.1961, 0.1961, 0.1961,  ..., 0.0000, 0.1961, 0.0000]]],\n",
       "\n",
       "\n",
       "        [[[0.0000, 0.0000, 0.0000,  ..., 0.0000, 0.0000, 0.0000],\n",
       "          [0.1961, 0.1961, 0.0000,  ..., 0.0000, 0.0000, 0.0000],\n",
       "          [0.0000, 0.1961, 0.0000,  ..., 0.0000, 0.0000, 0.0000],\n",
       "          ...,\n",
       "          [0.1961, 0.1961, 0.1961,  ..., 0.0000, 0.0000, 0.0000],\n",
       "          [0.1961, 0.1961, 0.1961,  ..., 0.1961, 0.0000, 0.0000],\n",
       "          [0.1961, 0.1961, 0.1961,  ..., 0.0000, 0.1961, 0.1961]]],\n",
       "\n",
       "\n",
       "        [[[0.1961, 0.0000, 0.0000,  ..., 0.1961, 0.1961, 0.1961],\n",
       "          [0.0000, 0.0000, 0.0000,  ..., 0.1961, 0.1961, 0.1961],\n",
       "          [0.0000, 0.1961, 0.1961,  ..., 0.1961, 0.1961, 0.1961],\n",
       "          ...,\n",
       "          [0.0000, 0.0000, 0.1961,  ..., 0.0000, 0.1961, 0.1961],\n",
       "          [0.0000, 0.1961, 0.1961,  ..., 0.0000, 0.0000, 0.1961],\n",
       "          [0.1961, 0.0000, 0.1961,  ..., 0.0000, 0.0000, 0.0000]]]])"
      ]
     },
     "execution_count": 21,
     "metadata": {},
     "output_type": "execute_result"
    }
   ],
   "source": [
    "altered_training_images = altered_training_images.detach()\n",
    "altered_training_images.apply_(lambda x: 1 if x> 1 else (0 if x < 0 else x))  # clip"
   ]
  },
  {
   "cell_type": "code",
   "execution_count": 12,
   "metadata": {
    "collapsed": false,
    "pycharm": {
     "name": "#%%\n"
    }
   },
   "outputs": [],
   "source": [
    "def get_prediction(model, image):\n",
    "    my_image = image.unsqueeze(0)\n",
    "    pred = model(my_image)\n",
    "    maxout = max(pred[0])\n",
    "    for j in range(10):\n",
    "        if pred[0, j] == maxout:\n",
    "            return j, maxout"
   ]
  },
  {
   "cell_type": "code",
   "execution_count": 22,
   "metadata": {
    "collapsed": false,
    "pycharm": {
     "name": "#%%\n"
    }
   },
   "outputs": [],
   "source": [
    "possible_adversarials = []\n",
    "for i in range(len(benign_images)):\n",
    "    prediction, confidence = get_prediction(model_loaded, altered_training_images[i])\n",
    "    original_prediction, original_confidence = get_prediction(model_loaded, benign_images[i])\n",
    "    if prediction != labels[i] and original_prediction == data.training_labels[i]:\n",
    "        params = {\"Label\": labels[i], \"Prediction\": prediction, \"Confidence\": confidence,\n",
    "                  \"Index\": i, \"OriginalPrediction\": original_prediction, \"OriginalConfidence\": original_confidence}\n",
    "        possible_adversarials.append(params)"
   ]
  },
  {
   "cell_type": "code",
   "execution_count": 23,
   "metadata": {
    "collapsed": false,
    "pycharm": {
     "name": "#%%\n"
    }
   },
   "outputs": [
    {
     "data": {
      "text/plain": [
       "39"
      ]
     },
     "execution_count": 23,
     "metadata": {},
     "output_type": "execute_result"
    }
   ],
   "source": [
    "len(possible_adversarials)"
   ]
  },
  {
   "cell_type": "code",
   "execution_count": 15,
   "metadata": {
    "collapsed": false,
    "pycharm": {
     "name": "#%%\n"
    }
   },
   "outputs": [],
   "source": [
    "from matplotlib import pyplot as plt\n",
    "import numpy as np"
   ]
  },
  {
   "cell_type": "code",
   "execution_count": 16,
   "metadata": {},
   "outputs": [],
   "source": [
    "def display(image):\n",
    "    first_image = image[0].reshape((28 * 28,)).detach()\n",
    "    first_image = np.array(first_image, dtype='float')\n",
    "    pixels = first_image.reshape((28, 28))\n",
    "    plt.imshow(pixels, cmap=\"gray\")\n",
    "    plt.show()"
   ]
  },
  {
   "cell_type": "code",
   "execution_count": 24,
   "metadata": {
    "collapsed": false,
    "pycharm": {
     "name": "#%%\n"
    }
   },
   "outputs": [
    {
     "data": {
      "image/png": "[encoded data removed]",
      "text/plain": [
       "<Figure size 432x288 with 1 Axes>"
      ]
     },
     "metadata": {
      "needs_background": "light"
     },
     "output_type": "display_data"
    },
    {
     "name": "stdout",
     "output_type": "stream",
     "text": [
      "+++++\n"
     ]
    },
    {
     "data": {
      "image/png": "[encoded data removed]",
      "text/plain": [
       "<Figure size 432x288 with 1 Axes>"
      ]
     },
     "metadata": {
      "needs_background": "light"
     },
     "output_type": "display_data"
    },
    {
     "name": "stdout",
     "output_type": "stream",
     "text": [
      "=====\n"
     ]
    },
    {
     "data": {
      "image/png": "[encoded data removed]",
      "text/plain": [
       "<Figure size 432x288 with 1 Axes>"
      ]
     },
     "metadata": {
      "needs_background": "light"
     },
     "output_type": "display_data"
    },
    {
     "name": "stdout",
     "output_type": "stream",
     "text": [
      "Label: 3, Prediction: 2, Confidence: 0.9999996423721313\n",
      "Original prediction: 3, Original confidence: 1.0\n"
     ]
    }
   ],
   "source": [
    "adversarial = possible_adversarials[0]\n",
    "original_image = benign_images[adversarial[\"Index\"]]\n",
    "altered_image = altered_training_images[adversarial[\"Index\"]]\n",
    "mask = altered_image - original_image\n",
    "# mask = mask * 255\n",
    "# original_image = original_image * 255\n",
    "# altered_image = altered_image * 255\n",
    "display(original_image)\n",
    "print(\"+++++\")\n",
    "display(mask)\n",
    "print(\"=====\")\n",
    "display(altered_image)\n",
    "print(f\"Label: {adversarial['Label']}, Prediction: {adversarial['Prediction']}, Confidence: {adversarial['Confidence']}\")\n",
    "print(f\"Original prediction: {adversarial['OriginalPrediction']}, Original confidence: {adversarial['OriginalConfidence']}\")"
   ]
  }
 ],
 "metadata": {
  "kernelspec": {
   "display_name": "Python 3",
   "language": "python",
   "name": "python3"
  },
  "language_info": {
   "codemirror_mode": {
    "name": "ipython",
    "version": 3
   },
   "file_extension": ".py",
   "mimetype": "text/x-python",
   "name": "python",
   "nbconvert_exporter": "python",
   "pygments_lexer": "ipython3",
   "version": "3.8.10"
  }
 },
 "nbformat": 4,
 "nbformat_minor": 0
}
