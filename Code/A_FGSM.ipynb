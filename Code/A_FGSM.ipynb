{
 "cells": [
  {
   "cell_type": "markdown",
   "metadata": {
    "collapsed": false,
    "pycharm": {
     "name": "#%% md\n"
    }
   },
   "source": [
    "![Adversarial example](adversarial_example.png \"Adversarial example\")"
   ]
  },
  {
   "cell_type": "code",
   "execution_count": 1,
   "metadata": {},
   "outputs": [],
   "source": [
    "%load_ext autoreload\n",
    "%autoreload 2"
   ]
  },
  {
   "cell_type": "code",
   "execution_count": 2,
   "metadata": {},
   "outputs": [],
   "source": [
    "import torch.nn as nn"
   ]
  },
  {
   "cell_type": "code",
   "execution_count": 3,
   "metadata": {
    "collapsed": false,
    "pycharm": {
     "name": "#%%\n"
    }
   },
   "outputs": [],
   "source": [
    "from utils import MnistData\n",
    "from models import ModelManager, ModelType"
   ]
  },
  {
   "cell_type": "code",
   "execution_count": 4,
   "metadata": {},
   "outputs": [],
   "source": [
    "model_loaded = ModelManager.get_trained(ModelType.MnistCnnPatt)"
   ]
  },
  {
   "cell_type": "code",
   "execution_count": 5,
   "metadata": {},
   "outputs": [],
   "source": [
    "data = MnistData(True)"
   ]
  },
  {
   "cell_type": "code",
   "execution_count": 6,
   "metadata": {},
   "outputs": [],
   "source": [
    "step_size = 50 / 255"
   ]
  },
  {
   "cell_type": "code",
   "execution_count": 7,
   "metadata": {},
   "outputs": [],
   "source": [
    "benign_images, labels = data.get_training_batch(100)"
   ]
  },
  {
   "cell_type": "code",
   "execution_count": 8,
   "metadata": {
    "collapsed": false,
    "pycharm": {
     "name": "#%%\n"
    }
   },
   "outputs": [],
   "source": [
    "benign_images.requires_grad = True\n",
    "if benign_images.grad is not None:\n",
    "    benign_images.grad.zero_()\n",
    "loss = nn.CrossEntropyLoss()(model_loaded(benign_images), labels)\n",
    "loss.backward()\n",
    "grad = benign_images.grad"
   ]
  },
  {
   "cell_type": "code",
   "execution_count": 9,
   "metadata": {
    "collapsed": false,
    "pycharm": {
     "name": "#%%\n"
    }
   },
   "outputs": [],
   "source": [
    "altered_training_images = benign_images + step_size * grad.apply_(lambda x: 1 if x >= 0 else -1)"
   ]
  },
  {
   "cell_type": "code",
   "execution_count": 10,
   "metadata": {
    "collapsed": false,
    "pycharm": {
     "name": "#%%\n"
    }
   },
   "outputs": [
    {
     "data": {
      "text/plain": [
       "tensor([[[[0.1961, 0.1961, 0.1961,  ..., 0.0000, 0.0000, 0.1961],\n",
       "          [0.0000, 0.0000, 0.1961,  ..., 0.0000, 0.0000, 0.1961],\n",
       "          [0.0000, 0.0000, 0.0000,  ..., 0.0000, 0.0000, 0.1961],\n",
       "          ...,\n",
       "          [0.1961, 0.1961, 0.1961,  ..., 0.0000, 0.0000, 0.1961],\n",
       "          [0.0000, 0.0000, 0.0000,  ..., 0.1961, 0.1961, 0.1961],\n",
       "          [0.1961, 0.1961, 0.1961,  ..., 0.1961, 0.1961, 0.1961]]],\n",
       "\n",
       "\n",
       "        [[[0.1961, 0.1961, 0.1961,  ..., 0.1961, 0.1961, 0.1961],\n",
       "          [0.1961, 0.1961, 0.1961,  ..., 0.1961, 0.1961, 0.1961],\n",
       "          [0.1961, 0.1961, 0.1961,  ..., 0.1961, 0.1961, 0.1961],\n",
       "          ...,\n",
       "          [0.1961, 0.1961, 0.1961,  ..., 0.1961, 0.1961, 0.1961],\n",
       "          [0.1961, 0.1961, 0.1961,  ..., 0.1961, 0.1961, 0.1961],\n",
       "          [0.1961, 0.1961, 0.1961,  ..., 0.1961, 0.1961, 0.1961]]],\n",
       "\n",
       "\n",
       "        [[[0.1961, 0.1961, 0.1961,  ..., 0.1961, 0.1961, 0.1961],\n",
       "          [0.1961, 0.1961, 0.1961,  ..., 0.1961, 0.1961, 0.1961],\n",
       "          [0.1961, 0.1961, 0.1961,  ..., 0.1961, 0.1961, 0.1961],\n",
       "          ...,\n",
       "          [0.1961, 0.1961, 0.1961,  ..., 0.1961, 0.1961, 0.1961],\n",
       "          [0.1961, 0.1961, 0.1961,  ..., 0.1961, 0.1961, 0.1961],\n",
       "          [0.1961, 0.1961, 0.1961,  ..., 0.1961, 0.1961, 0.1961]]],\n",
       "\n",
       "\n",
       "        ...,\n",
       "\n",
       "\n",
       "        [[[0.0000, 0.0000, 0.0000,  ..., 0.0000, 0.0000, 0.1961],\n",
       "          [0.1961, 0.1961, 0.0000,  ..., 0.1961, 0.1961, 0.1961],\n",
       "          [0.1961, 0.1961, 0.1961,  ..., 0.1961, 0.1961, 0.1961],\n",
       "          ...,\n",
       "          [0.0000, 0.0000, 0.0000,  ..., 0.0000, 0.0000, 0.1961],\n",
       "          [0.1961, 0.1961, 0.0000,  ..., 0.0000, 0.0000, 0.1961],\n",
       "          [0.1961, 0.1961, 0.1961,  ..., 0.1961, 0.1961, 0.1961]]],\n",
       "\n",
       "\n",
       "        [[[0.1961, 0.1961, 0.1961,  ..., 0.1961, 0.1961, 0.1961],\n",
       "          [0.1961, 0.1961, 0.1961,  ..., 0.1961, 0.1961, 0.1961],\n",
       "          [0.1961, 0.1961, 0.1961,  ..., 0.1961, 0.1961, 0.1961],\n",
       "          ...,\n",
       "          [0.1961, 0.1961, 0.1961,  ..., 0.1961, 0.1961, 0.1961],\n",
       "          [0.1961, 0.1961, 0.1961,  ..., 0.1961, 0.1961, 0.1961],\n",
       "          [0.1961, 0.1961, 0.1961,  ..., 0.1961, 0.1961, 0.1961]]],\n",
       "\n",
       "\n",
       "        [[[0.1961, 0.1961, 0.1961,  ..., 0.1961, 0.1961, 0.1961],\n",
       "          [0.1961, 0.1961, 0.1961,  ..., 0.1961, 0.1961, 0.1961],\n",
       "          [0.1961, 0.1961, 0.1961,  ..., 0.1961, 0.1961, 0.1961],\n",
       "          ...,\n",
       "          [0.1961, 0.1961, 0.1961,  ..., 0.1961, 0.1961, 0.1961],\n",
       "          [0.1961, 0.1961, 0.1961,  ..., 0.1961, 0.1961, 0.1961],\n",
       "          [0.1961, 0.1961, 0.1961,  ..., 0.1961, 0.1961, 0.1961]]]])"
      ]
     },
     "execution_count": 10,
     "metadata": {},
     "output_type": "execute_result"
    }
   ],
   "source": [
    "altered_training_images = altered_training_images.detach()\n",
    "altered_training_images.apply_(lambda x: 1 if x> 1 else (0 if x < 0 else x))  # clip"
   ]
  },
  {
   "cell_type": "code",
   "execution_count": 11,
   "metadata": {
    "collapsed": false,
    "pycharm": {
     "name": "#%%\n"
    }
   },
   "outputs": [
    {
     "data": {
      "text/plain": [
       "28"
      ]
     },
     "execution_count": 11,
     "metadata": {},
     "output_type": "execute_result"
    }
   ],
   "source": [
    "possible_adversarials = MnistData.get_adversarials(model_loaded, benign_images, labels, altered_training_images)\n",
    "len(possible_adversarials)"
   ]
  },
  {
   "cell_type": "code",
   "execution_count": 12,
   "metadata": {
    "collapsed": false,
    "pycharm": {
     "name": "#%%\n"
    }
   },
   "outputs": [
    {
     "data": {
      "image/png": "[encoded data removed]",
      "text/plain": [
       "<Figure size 432x288 with 1 Axes>"
      ]
     },
     "metadata": {
      "needs_background": "light"
     },
     "output_type": "display_data"
    },
    {
     "name": "stdout",
     "output_type": "stream",
     "text": [
      "+++++\n"
     ]
    },
    {
     "data": {
      "image/png": "[encoded data removed]",
      "text/plain": [
       "<Figure size 432x288 with 1 Axes>"
      ]
     },
     "metadata": {
      "needs_background": "light"
     },
     "output_type": "display_data"
    },
    {
     "name": "stdout",
     "output_type": "stream",
     "text": [
      "=====\n"
     ]
    },
    {
     "data": {
      "image/png": "[encoded data removed]",
      "text/plain": [
       "<Figure size 432x288 with 1 Axes>"
      ]
     },
     "metadata": {
      "needs_background": "light"
     },
     "output_type": "display_data"
    },
    {
     "name": "stdout",
     "output_type": "stream",
     "text": [
      "Label: 1, Prediction: 2, Confidence: 1.0\n",
      "Original prediction: 1, Original confidence: 1.0\n"
     ]
    }
   ],
   "source": [
    "MnistData.show_adversarial(possible_adversarials, benign_images, altered_training_images, 0)"
   ]
  },
  {
   "cell_type": "code",
   "execution_count": 13,
   "metadata": {},
   "outputs": [],
   "source": [
    "import numpy as np\n",
    "from matplotlib import pyplot as plt"
   ]
  },
  {
   "cell_type": "code",
   "execution_count": 14,
   "metadata": {},
   "outputs": [
    {
     "data": {
      "image/png": "[encoded data removed]",
      "text/plain": [
       "<Figure size 432x288 with 1 Axes>"
      ]
     },
     "metadata": {
      "needs_background": "light"
     },
     "output_type": "display_data"
    }
   ],
   "source": [
    "counter = 0\n",
    "for adversarial in possible_adversarials:\n",
    "    index = adversarial['Index']\n",
    "    aexample = altered_training_images[index]\n",
    "    aexample = aexample.detach()\n",
    "    aexample = np.array(aexample * 255)\n",
    "    plt.imshow(aexample.reshape(28, 28), cmap='gray')\n",
    "    plt.axis(\"off\")\n",
    "    plt.savefig(f\"AEXAMPLES\\\\FGSM\\\\ALTERED\\\\fgsm_altered_{counter}.png\", bbox_inches=\"tight\", pad_inches=0)\n",
    "    bexample = benign_images[index]\n",
    "    bexample = bexample.detach()\n",
    "    bexample = np.array(bexample * 255)\n",
    "    plt.imshow(bexample.reshape(28, 28), cmap='gray')\n",
    "    plt.axis(\"off\")\n",
    "    plt.savefig(f\"AEXAMPLES\\\\FGSM\\\\BENIGN\\\\fgsm_benign_{counter}.png\", bbox_inches=\"tight\", pad_inches=0)\n",
    "    counter += 1"
   ]
  }
 ],
 "metadata": {
  "kernelspec": {
   "display_name": "Python 3",
   "language": "python",
   "name": "python3"
  },
  "language_info": {
   "codemirror_mode": {
    "name": "ipython",
    "version": 3
   },
   "file_extension": ".py",
   "mimetype": "text/x-python",
   "name": "python",
   "nbconvert_exporter": "python",
   "pygments_lexer": "ipython3",
   "version": "3.8.10"
  }
 },
 "nbformat": 4,
 "nbformat_minor": 0
}
