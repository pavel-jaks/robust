{
 "cells": [
  {
   "cell_type": "markdown",
   "metadata": {
    "collapsed": false,
    "pycharm": {
     "name": "#%% md\n"
    }
   },
   "source": [
    "![Adversarial example](adversarial_example.png \"Adversarial example\")"
   ]
  },
  {
   "cell_type": "code",
   "execution_count": 22,
   "metadata": {},
   "outputs": [
    {
     "name": "stdout",
     "output_type": "stream",
     "text": [
      "The autoreload extension is already loaded. To reload it, use:\n",
      "  %reload_ext autoreload\n"
     ]
    }
   ],
   "source": [
    "%load_ext autoreload\n",
    "%autoreload 2"
   ]
  },
  {
   "cell_type": "code",
   "execution_count": 23,
   "metadata": {},
   "outputs": [],
   "source": [
    "import torch.nn as nn"
   ]
  },
  {
   "cell_type": "code",
   "execution_count": 24,
   "metadata": {
    "collapsed": false,
    "pycharm": {
     "name": "#%%\n"
    }
   },
   "outputs": [],
   "source": [
    "from utils import MnistData\n",
    "from models import ModelManager, ModelType"
   ]
  },
  {
   "cell_type": "code",
   "execution_count": 25,
   "metadata": {},
   "outputs": [],
   "source": [
    "model_loaded = ModelManager.get_trained(ModelType.MnistCnnPatt)"
   ]
  },
  {
   "cell_type": "code",
   "execution_count": 26,
   "metadata": {},
   "outputs": [],
   "source": [
    "data = MnistData(True)"
   ]
  },
  {
   "cell_type": "code",
   "execution_count": 27,
   "metadata": {},
   "outputs": [],
   "source": [
    "step_size = 50 / 255"
   ]
  },
  {
   "cell_type": "code",
   "execution_count": 28,
   "metadata": {},
   "outputs": [],
   "source": [
    "benign_images, labels = data.get_training_batch(1000)"
   ]
  },
  {
   "cell_type": "code",
   "execution_count": 29,
   "metadata": {
    "collapsed": false,
    "pycharm": {
     "name": "#%%\n"
    }
   },
   "outputs": [],
   "source": [
    "benign_images.requires_grad = True\n",
    "if benign_images.grad is not None:\n",
    "    benign_images.grad.zero_()\n",
    "loss = nn.CrossEntropyLoss()(model_loaded(benign_images), labels)\n",
    "loss.backward()\n",
    "grad = benign_images.grad"
   ]
  },
  {
   "cell_type": "code",
   "execution_count": 30,
   "metadata": {
    "collapsed": false,
    "pycharm": {
     "name": "#%%\n"
    }
   },
   "outputs": [],
   "source": [
    "altered_training_images = benign_images + step_size * grad.apply_(lambda x: 1 if x >= 0 else -1)"
   ]
  },
  {
   "cell_type": "code",
   "execution_count": 31,
   "metadata": {
    "collapsed": false,
    "pycharm": {
     "name": "#%%\n"
    }
   },
   "outputs": [
    {
     "data": {
      "text/plain": [
       "tensor([[[[0.1961, 0.1961, 0.0000,  ..., 0.0000, 0.1961, 0.1961],\n",
       "          [0.1961, 0.1961, 0.1961,  ..., 0.1961, 0.1961, 0.1961],\n",
       "          [0.1961, 0.1961, 0.1961,  ..., 0.1961, 0.1961, 0.1961],\n",
       "          ...,\n",
       "          [0.1961, 0.1961, 0.1961,  ..., 0.0000, 0.0000, 0.1961],\n",
       "          [0.0000, 0.0000, 0.0000,  ..., 0.1961, 0.1961, 0.1961],\n",
       "          [0.1961, 0.1961, 0.1961,  ..., 0.1961, 0.1961, 0.1961]]],\n",
       "\n",
       "\n",
       "        [[[0.1961, 0.1961, 0.1961,  ..., 0.1961, 0.1961, 0.1961],\n",
       "          [0.1961, 0.1961, 0.1961,  ..., 0.1961, 0.1961, 0.1961],\n",
       "          [0.1961, 0.1961, 0.1961,  ..., 0.1961, 0.1961, 0.1961],\n",
       "          ...,\n",
       "          [0.1961, 0.1961, 0.1961,  ..., 0.1961, 0.1961, 0.1961],\n",
       "          [0.1961, 0.1961, 0.1961,  ..., 0.1961, 0.1961, 0.1961],\n",
       "          [0.1961, 0.1961, 0.1961,  ..., 0.1961, 0.1961, 0.1961]]],\n",
       "\n",
       "\n",
       "        [[[0.1961, 0.1961, 0.1961,  ..., 0.0000, 0.0000, 0.1961],\n",
       "          [0.1961, 0.0000, 0.1961,  ..., 0.0000, 0.0000, 0.1961],\n",
       "          [0.0000, 0.0000, 0.0000,  ..., 0.0000, 0.0000, 0.1961],\n",
       "          ...,\n",
       "          [0.1961, 0.1961, 0.1961,  ..., 0.1961, 0.1961, 0.1961],\n",
       "          [0.1961, 0.1961, 0.1961,  ..., 0.1961, 0.1961, 0.1961],\n",
       "          [0.1961, 0.1961, 0.1961,  ..., 0.1961, 0.1961, 0.1961]]],\n",
       "\n",
       "\n",
       "        ...,\n",
       "\n",
       "\n",
       "        [[[0.1961, 0.1961, 0.1961,  ..., 0.1961, 0.1961, 0.1961],\n",
       "          [0.1961, 0.1961, 0.1961,  ..., 0.1961, 0.1961, 0.1961],\n",
       "          [0.1961, 0.1961, 0.1961,  ..., 0.1961, 0.1961, 0.1961],\n",
       "          ...,\n",
       "          [0.1961, 0.1961, 0.1961,  ..., 0.1961, 0.1961, 0.1961],\n",
       "          [0.1961, 0.1961, 0.1961,  ..., 0.1961, 0.1961, 0.1961],\n",
       "          [0.1961, 0.1961, 0.1961,  ..., 0.1961, 0.1961, 0.1961]]],\n",
       "\n",
       "\n",
       "        [[[0.1961, 0.1961, 0.1961,  ..., 0.1961, 0.1961, 0.1961],\n",
       "          [0.1961, 0.1961, 0.1961,  ..., 0.1961, 0.1961, 0.1961],\n",
       "          [0.1961, 0.1961, 0.1961,  ..., 0.1961, 0.1961, 0.1961],\n",
       "          ...,\n",
       "          [0.1961, 0.1961, 0.1961,  ..., 0.1961, 0.1961, 0.1961],\n",
       "          [0.1961, 0.1961, 0.1961,  ..., 0.1961, 0.1961, 0.1961],\n",
       "          [0.1961, 0.1961, 0.1961,  ..., 0.1961, 0.1961, 0.1961]]],\n",
       "\n",
       "\n",
       "        [[[0.1961, 0.1961, 0.1961,  ..., 0.1961, 0.1961, 0.1961],\n",
       "          [0.1961, 0.1961, 0.1961,  ..., 0.1961, 0.1961, 0.1961],\n",
       "          [0.1961, 0.1961, 0.1961,  ..., 0.1961, 0.1961, 0.1961],\n",
       "          ...,\n",
       "          [0.1961, 0.1961, 0.1961,  ..., 0.1961, 0.1961, 0.1961],\n",
       "          [0.1961, 0.1961, 0.1961,  ..., 0.1961, 0.1961, 0.1961],\n",
       "          [0.1961, 0.1961, 0.1961,  ..., 0.1961, 0.1961, 0.1961]]]])"
      ]
     },
     "execution_count": 31,
     "metadata": {},
     "output_type": "execute_result"
    }
   ],
   "source": [
    "altered_training_images = altered_training_images.detach()\n",
    "altered_training_images.apply_(lambda x: 1 if x> 1 else (0 if x < 0 else x))  # clip"
   ]
  },
  {
   "cell_type": "code",
   "execution_count": 32,
   "metadata": {
    "collapsed": false,
    "pycharm": {
     "name": "#%%\n"
    }
   },
   "outputs": [
    {
     "data": {
      "text/plain": [
       "282"
      ]
     },
     "execution_count": 32,
     "metadata": {},
     "output_type": "execute_result"
    }
   ],
   "source": [
    "possible_adversarials = MnistData.get_adversarials(model_loaded, benign_images, labels, altered_training_images)\n",
    "len(possible_adversarials)"
   ]
  },
  {
   "cell_type": "code",
   "execution_count": 33,
   "metadata": {
    "collapsed": false,
    "pycharm": {
     "name": "#%%\n"
    }
   },
   "outputs": [
    {
     "data": {
      "image/png": "[encoded data removed]",
      "text/plain": [
       "<Figure size 432x288 with 1 Axes>"
      ]
     },
     "metadata": {
      "needs_background": "light"
     },
     "output_type": "display_data"
    },
    {
     "name": "stdout",
     "output_type": "stream",
     "text": [
      "+++++\n"
     ]
    },
    {
     "data": {
      "image/png": "[encoded data removed]",
      "text/plain": [
       "<Figure size 432x288 with 1 Axes>"
      ]
     },
     "metadata": {
      "needs_background": "light"
     },
     "output_type": "display_data"
    },
    {
     "name": "stdout",
     "output_type": "stream",
     "text": [
      "=====\n"
     ]
    },
    {
     "data": {
      "image/png": "[encoded data removed]",
      "text/plain": [
       "<Figure size 432x288 with 1 Axes>"
      ]
     },
     "metadata": {
      "needs_background": "light"
     },
     "output_type": "display_data"
    },
    {
     "name": "stdout",
     "output_type": "stream",
     "text": [
      "Label: 2, Prediction: 7, Confidence: 1.0\n",
      "Original prediction: 2, Original confidence: 1.0\n"
     ]
    }
   ],
   "source": [
    "MnistData.show_adversarial(possible_adversarials, benign_images, altered_training_images, 0)"
   ]
  }
 ],
 "metadata": {
  "kernelspec": {
   "display_name": "Python 3",
   "language": "python",
   "name": "python3"
  },
  "language_info": {
   "codemirror_mode": {
    "name": "ipython",
    "version": 3
   },
   "file_extension": ".py",
   "mimetype": "text/x-python",
   "name": "python",
   "nbconvert_exporter": "python",
   "pygments_lexer": "ipython3",
   "version": "3.8.10"
  }
 },
 "nbformat": 4,
 "nbformat_minor": 0
}
