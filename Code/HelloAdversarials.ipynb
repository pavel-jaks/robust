{
 "cells": [
  {
   "cell_type": "markdown",
   "metadata": {
    "collapsed": false,
    "pycharm": {
     "name": "#%% md\n"
    }
   },
   "source": [
    "![Adversarial example](adversarial_example.png \"Adversarial example\")"
   ]
  },
  {
   "cell_type": "code",
   "execution_count": 1,
   "metadata": {
    "collapsed": false,
    "pycharm": {
     "name": "#%%\n"
    }
   },
   "outputs": [],
   "source": [
    "import torch\n",
    "import torch.nn as nn"
   ]
  },
  {
   "cell_type": "code",
   "execution_count": 2,
   "metadata": {
    "collapsed": false,
    "pycharm": {
     "name": "#%%\n"
    }
   },
   "outputs": [],
   "source": [
    "class ModelTwo(nn.Module):\n",
    "    def __init__(self):\n",
    "        super().__init__()\n",
    "        self.first_conv_layer = nn.Conv2d(1, 16, kernel_size=5)\n",
    "        self.first_activation = nn.ReLU()\n",
    "        self.second_layer = nn.LazyLinear(32)\n",
    "        self.second_activation = nn.ReLU()\n",
    "        self.third_layer = nn.Linear(32, 16)\n",
    "        self.third_activation = nn.ReLU()\n",
    "        self.out_layer = nn.Linear(16, 10)\n",
    "        self.out_activation = nn.Softmax(dim=1)\n",
    "\n",
    "    def forward(self, t: torch.Tensor):\n",
    "        out = self.first_activation(self.first_conv_layer(t))\n",
    "        dim = 1\n",
    "        for i in range(1, len(out.shape)):\n",
    "            dim *= out.shape[i]\n",
    "        out = out.reshape(len(t), dim)\n",
    "        out = self.second_activation(self.second_layer(out))\n",
    "        out = self.third_activation(self.third_layer(out))\n",
    "        out = self.out_activation(self.out_layer(out))\n",
    "        return out"
   ]
  },
  {
   "cell_type": "code",
   "execution_count": 3,
   "metadata": {
    "collapsed": false,
    "pycharm": {
     "name": "#%%\n"
    }
   },
   "outputs": [],
   "source": [
    "model_loaded = torch.load(\"cnnmodeltwo.model\")"
   ]
  },
  {
   "cell_type": "code",
   "execution_count": 4,
   "metadata": {
    "collapsed": false,
    "pycharm": {
     "name": "#%%\n"
    }
   },
   "outputs": [],
   "source": [
    "from mnist import MNIST\n",
    "mnist_data = MNIST('samples')\n",
    "training_images, training_labels = mnist_data.load_training()\n",
    "\n",
    "original_images = torch.tensor(training_images)\n",
    "self_training_images = original_images.type(torch.FloatTensor) / 255\n",
    "self_training_images = torch.reshape(self_training_images, (len(training_images), 28, 28)).unsqueeze(1)\n",
    "self_training_images.requires_grad = True\n",
    "self_training_labels = torch.zeros(len(training_labels), 10)\n",
    "for i in range(len(training_labels)):\n",
    "    self_training_labels[i, training_labels[i]] = 1\n",
    "self_training_labels_simple = torch.tensor(training_labels)"
   ]
  },
  {
   "cell_type": "code",
   "execution_count": 5,
   "metadata": {
    "collapsed": false,
    "pycharm": {
     "name": "#%%\n"
    }
   },
   "outputs": [],
   "source": [
    "if self_training_images.grad is not None:\n",
    "    self_training_images.grad.zero_()\n",
    "loss = nn.MSELoss()(model_loaded(self_training_images), self_training_labels)\n",
    "loss.backward()\n",
    "grad = self_training_images.grad"
   ]
  },
  {
   "cell_type": "code",
   "execution_count": 6,
   "metadata": {
    "collapsed": false,
    "pycharm": {
     "name": "#%%\n"
    }
   },
   "outputs": [],
   "source": [
    "self_altered_training_images = self_training_images + 1e-1 * grad.apply_(lambda x: 1 if x >= 0 else -1)"
   ]
  },
  {
   "cell_type": "code",
   "execution_count": 7,
   "metadata": {
    "collapsed": false,
    "pycharm": {
     "name": "#%%\n"
    }
   },
   "outputs": [
    {
     "data": {
      "text/plain": [
       "tensor([[[[0.1000, 0.1000, 0.0000,  ..., 0.1000, 0.0000, 0.0000],\n",
       "          [0.1000, 0.1000, 0.1000,  ..., 0.0000, 0.0000, 0.0000],\n",
       "          [0.1000, 0.1000, 0.1000,  ..., 0.0000, 0.0000, 0.0000],\n",
       "          ...,\n",
       "          [0.0000, 0.0000, 0.1000,  ..., 0.1000, 0.1000, 0.1000],\n",
       "          [0.1000, 0.0000, 0.1000,  ..., 0.1000, 0.1000, 0.1000],\n",
       "          [0.1000, 0.0000, 0.0000,  ..., 0.0000, 0.1000, 0.1000]]],\n",
       "\n",
       "\n",
       "        [[[0.1000, 0.1000, 0.0000,  ..., 0.0000, 0.1000, 0.1000],\n",
       "          [0.1000, 0.1000, 0.0000,  ..., 0.0000, 0.1000, 0.1000],\n",
       "          [0.1000, 0.1000, 0.1000,  ..., 0.1000, 0.1000, 0.1000],\n",
       "          ...,\n",
       "          [0.0000, 0.1000, 0.1000,  ..., 0.1000, 0.1000, 0.1000],\n",
       "          [0.0000, 0.0000, 0.0000,  ..., 0.1000, 0.1000, 0.1000],\n",
       "          [0.0000, 0.0000, 0.0000,  ..., 0.0000, 0.1000, 0.1000]]],\n",
       "\n",
       "\n",
       "        [[[0.1000, 0.1000, 0.0000,  ..., 0.0000, 0.1000, 0.1000],\n",
       "          [0.1000, 0.1000, 0.0000,  ..., 0.1000, 0.1000, 0.1000],\n",
       "          [0.1000, 0.1000, 0.0000,  ..., 0.1000, 0.1000, 0.1000],\n",
       "          ...,\n",
       "          [0.0000, 0.1000, 0.1000,  ..., 0.1000, 0.1000, 0.1000],\n",
       "          [0.0000, 0.0000, 0.0000,  ..., 0.1000, 0.1000, 0.1000],\n",
       "          [0.0000, 0.0000, 0.0000,  ..., 0.0000, 0.1000, 0.1000]]],\n",
       "\n",
       "\n",
       "        ...,\n",
       "\n",
       "\n",
       "        [[[0.0000, 0.0000, 0.1000,  ..., 0.1000, 0.0000, 0.0000],\n",
       "          [0.0000, 0.0000, 0.1000,  ..., 0.0000, 0.0000, 0.0000],\n",
       "          [0.0000, 0.0000, 0.0000,  ..., 0.0000, 0.0000, 0.0000],\n",
       "          ...,\n",
       "          [0.0000, 0.0000, 0.1000,  ..., 0.0000, 0.0000, 0.0000],\n",
       "          [0.1000, 0.1000, 0.1000,  ..., 0.1000, 0.0000, 0.0000],\n",
       "          [0.1000, 0.0000, 0.0000,  ..., 0.1000, 0.0000, 0.0000]]],\n",
       "\n",
       "\n",
       "        [[[0.0000, 0.0000, 0.1000,  ..., 0.1000, 0.0000, 0.0000],\n",
       "          [0.0000, 0.0000, 0.1000,  ..., 0.1000, 0.0000, 0.0000],\n",
       "          [0.0000, 0.0000, 0.0000,  ..., 0.0000, 0.0000, 0.0000],\n",
       "          ...,\n",
       "          [0.0000, 0.0000, 0.1000,  ..., 0.0000, 0.0000, 0.0000],\n",
       "          [0.1000, 0.1000, 0.1000,  ..., 0.0000, 0.0000, 0.0000],\n",
       "          [0.1000, 0.1000, 0.1000,  ..., 0.1000, 0.0000, 0.0000]]],\n",
       "\n",
       "\n",
       "        [[[0.1000, 0.0000, 0.0000,  ..., 0.1000, 0.0000, 0.0000],\n",
       "          [0.1000, 0.1000, 0.0000,  ..., 0.1000, 0.0000, 0.0000],\n",
       "          [0.1000, 0.1000, 0.1000,  ..., 0.0000, 0.1000, 0.1000],\n",
       "          ...,\n",
       "          [0.1000, 0.1000, 0.1000,  ..., 0.1000, 0.1000, 0.1000],\n",
       "          [0.0000, 0.0000, 0.1000,  ..., 0.1000, 0.1000, 0.1000],\n",
       "          [0.1000, 0.1000, 0.0000,  ..., 0.0000, 0.1000, 0.1000]]]])"
      ]
     },
     "execution_count": 7,
     "metadata": {},
     "output_type": "execute_result"
    }
   ],
   "source": [
    "self_altered_training_images = self_altered_training_images.detach()\n",
    "self_altered_training_images.apply_(lambda x: 1 if x> 1 else (0 if x < 0 else x))  # normalize"
   ]
  },
  {
   "cell_type": "code",
   "execution_count": 8,
   "metadata": {
    "collapsed": false,
    "pycharm": {
     "name": "#%%\n"
    }
   },
   "outputs": [],
   "source": [
    "def get_prediction(model, image):\n",
    "    my_image = image.unsqueeze(0)\n",
    "    pred = model(my_image)\n",
    "    maxout = max(pred[0])\n",
    "    for j in range(10):\n",
    "        if pred[0, j] == maxout:\n",
    "            return j, maxout"
   ]
  },
  {
   "cell_type": "code",
   "execution_count": 9,
   "metadata": {
    "collapsed": false,
    "pycharm": {
     "name": "#%%\n"
    }
   },
   "outputs": [],
   "source": [
    "possible_adversarials = []\n",
    "for i in range(len(self_training_images)):\n",
    "    prediction, confidence = get_prediction(model_loaded, self_altered_training_images[i])\n",
    "    original_prediction, original_confidence = get_prediction(model_loaded, self_training_images[i])\n",
    "    if prediction != self_training_labels_simple[i]:\n",
    "        params = {\"Label\": self_training_labels_simple[i], \"Prediction\": prediction, \"Confidence\": confidence,\n",
    "                  \"Index\": i, \"OriginalPrediction\": original_prediction, \"OriginalConfidence\": original_confidence}\n",
    "        possible_adversarials.append(params)"
   ]
  },
  {
   "cell_type": "code",
   "execution_count": 10,
   "metadata": {
    "collapsed": false,
    "pycharm": {
     "name": "#%%\n"
    }
   },
   "outputs": [
    {
     "data": {
      "text/plain": [
       "21546"
      ]
     },
     "execution_count": 10,
     "metadata": {},
     "output_type": "execute_result"
    }
   ],
   "source": [
    "len(possible_adversarials)"
   ]
  },
  {
   "cell_type": "code",
   "execution_count": 11,
   "metadata": {
    "collapsed": false,
    "pycharm": {
     "name": "#%%\n"
    }
   },
   "outputs": [],
   "source": [
    "from matplotlib import pyplot as plt\n",
    "import numpy as np"
   ]
  },
  {
   "cell_type": "code",
   "execution_count": 12,
   "metadata": {
    "collapsed": false,
    "pycharm": {
     "name": "#%%\n"
    }
   },
   "outputs": [],
   "source": [
    "def display(image):\n",
    "    first_image = image[0].reshape((28 * 28,)).detach()\n",
    "    first_image = np.array(first_image, dtype='float')\n",
    "    pixels = first_image.reshape((28, 28))\n",
    "    plt.imshow(pixels, cmap='gray')\n",
    "    plt.show()"
   ]
  },
  {
   "cell_type": "code",
   "execution_count": 26,
   "metadata": {
    "collapsed": false,
    "pycharm": {
     "name": "#%%\n"
    }
   },
   "outputs": [
    {
     "data": {
      "image/png": "[encoded data removed]",
      "text/plain": [
       "<Figure size 432x288 with 1 Axes>"
      ]
     },
     "metadata": {
      "needs_background": "light"
     },
     "output_type": "display_data"
    },
    {
     "name": "stdout",
     "output_type": "stream",
     "text": [
      "+++++\n"
     ]
    },
    {
     "data": {
      "image/png": "[encoded data removed]",
      "text/plain": [
       "<Figure size 432x288 with 1 Axes>"
      ]
     },
     "metadata": {
      "needs_background": "light"
     },
     "output_type": "display_data"
    },
    {
     "name": "stdout",
     "output_type": "stream",
     "text": [
      "=====\n"
     ]
    },
    {
     "data": {
      "image/png": "[encoded data removed]",
      "text/plain": [
       "<Figure size 432x288 with 1 Axes>"
      ]
     },
     "metadata": {
      "needs_background": "light"
     },
     "output_type": "display_data"
    },
    {
     "name": "stdout",
     "output_type": "stream",
     "text": [
      "Label: 5, Prediction: 8, Confidence: 0.7538481950759888\n",
      "Original prediction: 5, Original confidence: 1.0\n"
     ]
    }
   ],
   "source": [
    "adversarial = possible_adversarials[2]\n",
    "original_image = self_training_images[adversarial[\"Index\"]]\n",
    "altered_image = self_altered_training_images[adversarial[\"Index\"]]\n",
    "mask = altered_image - original_image\n",
    "mask = mask #* 255\n",
    "original_image = original_image #* 255\n",
    "altered_image = original_image #* 255\n",
    "display(original_image)\n",
    "print(\"+++++\")\n",
    "display(mask)\n",
    "print(\"=====\")\n",
    "display(altered_image)\n",
    "print(f\"Label: {adversarial['Label']}, Prediction: {adversarial['Prediction']}, Confidence: {adversarial['Confidence']}\")\n",
    "print(f\"Original prediction: {adversarial['OriginalPrediction']}, Original confidence: {adversarial['OriginalConfidence']}\")"
   ]
  },
  {
   "cell_type": "code",
   "execution_count": 22,
   "metadata": {
    "collapsed": false,
    "pycharm": {
     "name": "#%%\n"
    }
   },
   "outputs": [
    {
     "data": {
      "text/plain": [
       "tensor([[[0.0000, 0.0000, 0.1000, 0.1000, 0.1000, 0.1000, 0.1000, 0.1000,\n",
       "          0.1000, 0.1000, 0.1000, 0.1000, 0.1000, 0.1000, 0.1000, 0.1000,\n",
       "          0.1000, 0.1000, 0.1000, 0.1000, 0.1000, 0.1000, 0.1000, 0.1000,\n",
       "          0.1000, 0.1000, 0.1000, 0.0000],\n",
       "         [0.0000, 0.0000, 0.1000, 0.1000, 0.0000, 0.0000, 0.0000, 0.0000,\n",
       "          0.0000, 0.0000, 0.0000, 0.0000, 0.0000, 0.0000, 0.0000, 0.0000,\n",
       "          0.0000, 0.0000, 0.0000, 0.0000, 0.0000, 0.0000, 0.0000, 0.0000,\n",
       "          0.0000, 0.1000, 0.0000, 0.0000],\n",
       "         [0.0000, 0.0000, 0.0000, 0.0000, 0.0000, 0.0000, 0.0000, 0.0000,\n",
       "          0.0000, 0.0000, 0.0000, 0.0000, 0.0000, 0.0000, 0.0000, 0.0000,\n",
       "          0.0000, 0.0000, 0.0000, 0.0000, 0.0000, 0.0000, 0.0000, 0.0000,\n",
       "          0.0000, 0.0000, 0.0000, 0.0000],\n",
       "         [0.0000, 0.0000, 0.0000, 0.0000, 0.0000, 0.0000, 0.0000, 0.0000,\n",
       "          0.0000, 0.0000, 0.0000, 0.0000, 0.0000, 0.0000, 0.0000, 0.0000,\n",
       "          0.0000, 0.0000, 0.0000, 0.0000, 0.0000, 0.0000, 0.0000, 0.0000,\n",
       "          0.0000, 0.0000, 0.0000, 0.0000],\n",
       "         [0.0000, 0.0000, 0.0000, 0.0000, 0.0000, 0.0000, 0.0000, 0.0000,\n",
       "          0.0000, 0.0000, 0.0000, 0.0000, 0.0000, 0.1000, 0.0000, 0.0000,\n",
       "          0.0000, 0.1000, 0.1000, 0.1000, 0.0000, 0.0000, 0.0000, 0.0000,\n",
       "          0.0000, 0.0000, 0.0000, 0.0000],\n",
       "         [0.0000, 0.0000, 0.0000, 0.0000, 0.0000, 0.0000, 0.0000, 0.0000,\n",
       "          0.0000, 0.0000, 0.0000, 0.0000, 0.1000, 0.1000, 0.0000, 0.0000,\n",
       "          0.1000, 0.1000, 0.1000, 0.1000, 0.1000, 0.1000, 0.1000, 0.1000,\n",
       "          0.1000, 0.0000, 0.0000, 0.0000],\n",
       "         [0.0000, 0.0000, 0.0000, 0.0000, 0.0000, 0.0000, 0.1000, 0.1000,\n",
       "          0.1000, 0.1000, 0.1000, 0.1000, 0.1000, 0.1000, 0.0000, 0.0000,\n",
       "          0.1000, 0.1000, 0.1000, 0.1000, 0.1000, 0.1000, 0.1000, 0.1000,\n",
       "          0.0000, 0.0000, 0.0000, 0.1000],\n",
       "         [0.0000, 0.0000, 0.0000, 0.0000, 0.0000, 0.1000, 0.1000, 0.1000,\n",
       "          0.1000, 0.1000, 0.1000, 0.1000, 0.1000, 0.0000, 0.0000, 0.0000,\n",
       "          0.0000, 0.1000, 0.1000, 0.1000, 0.0216, 0.0569, 0.4059, 0.8176,\n",
       "          0.8176, 0.5235, 0.0000, 0.1000],\n",
       "         [0.0000, 0.0000, 0.0000, 0.0000, 0.0000, 0.1000, 0.1000, 0.1000,\n",
       "          0.1000, 0.1000, 0.1000, 0.0000, 0.0000, 0.0000, 0.0000, 0.0000,\n",
       "          0.0000, 0.0000, 0.1667, 0.4882, 0.8373, 0.8961, 0.8922, 0.8922,\n",
       "          0.8922, 0.7431, 0.0000, 0.0000],\n",
       "         [0.0000, 0.0000, 0.0000, 0.0000, 0.0000, 0.1000, 0.0000, 0.1000,\n",
       "          0.1000, 0.1000, 0.1000, 0.0000, 0.0000, 0.0000, 0.0000, 0.0000,\n",
       "          0.5118, 0.6882, 0.8961, 0.8961, 0.8961, 0.8451, 0.4882, 0.2843,\n",
       "          0.0000, 0.0000, 0.0000, 0.0000],\n",
       "         [0.0000, 0.1000, 0.0000, 0.0000, 0.0000, 0.1000, 0.0000, 0.0000,\n",
       "          0.0000, 0.1000, 0.1000, 0.0000, 0.0000, 0.0000, 0.0000, 0.5039,\n",
       "          0.8961, 1.0000, 0.8961, 0.4255, 0.2529, 0.2176, 0.1000, 0.1000,\n",
       "          0.1000, 0.0000, 0.0000, 0.0000],\n",
       "         [0.0000, 0.1000, 0.1000, 0.0000, 0.0000, 0.0000, 0.0000, 0.0000,\n",
       "          0.0000, 0.0000, 0.0000, 0.0000, 0.0000, 0.0000, 0.4647, 1.0000,\n",
       "          0.6686, 0.1471, 0.1000, 0.1000, 0.1000, 0.1000, 0.1000, 0.1000,\n",
       "          0.1000, 0.1000, 0.1000, 0.1000],\n",
       "         [0.0000, 0.1000, 0.1000, 0.0000, 0.1000, 0.1000, 0.1000, 0.0000,\n",
       "          0.1000, 0.0000, 0.0000, 0.0000, 0.4059, 0.9706, 0.4059, 0.4098,\n",
       "          0.1314, 0.1000, 0.1000, 0.1000, 0.1000, 0.1000, 0.1000, 0.1000,\n",
       "          0.1000, 0.1000, 0.1000, 0.1000],\n",
       "         [0.0000, 0.0000, 0.0000, 0.0000, 0.0000, 0.0000, 0.0000, 0.0000,\n",
       "          0.0000, 0.0000, 0.0000, 0.4255, 0.8922, 0.7549, 0.1314, 0.1000,\n",
       "          0.1000, 0.1000, 0.1000, 0.1000, 0.1000, 0.1000, 0.1000, 0.1000,\n",
       "          0.1000, 0.1000, 0.0000, 0.0000],\n",
       "         [0.0000, 0.0000, 0.0000, 0.0000, 0.0000, 0.0000, 0.0000, 0.0000,\n",
       "          0.0000, 0.0000, 0.1000, 1.0000, 0.8961, 0.4059, 0.1000, 0.1000,\n",
       "          0.1000, 0.1000, 0.1000, 0.1000, 0.1000, 0.0000, 0.0000, 0.0000,\n",
       "          0.0000, 0.0000, 0.0000, 0.0000],\n",
       "         [0.0000, 0.1000, 0.0000, 0.0000, 0.0000, 0.0000, 0.0000, 0.0000,\n",
       "          0.0000, 0.1000, 0.1000, 0.8882, 0.8922, 0.9863, 0.3706, 0.1000,\n",
       "          0.1000, 0.1000, 0.1000, 0.1000, 0.1000, 0.0000, 0.0000, 0.0000,\n",
       "          0.0000, 0.0000, 0.0000, 0.0000],\n",
       "         [0.0000, 0.0000, 0.0000, 0.0000, 0.0000, 0.0000, 0.0000, 0.1000,\n",
       "          0.3157, 0.1235, 0.1000, 0.1706, 0.6020, 1.0000, 1.0000, 0.2608,\n",
       "          0.0000, 0.0000, 0.1000, 0.0000, 0.0000, 0.0000, 0.0000, 0.0000,\n",
       "          0.0000, 0.0000, 0.0000, 0.0000],\n",
       "         [0.0000, 0.0000, 0.0000, 0.0000, 0.0000, 0.0000, 0.0000, 0.9039,\n",
       "          1.0000, 0.4608, 0.1000, 0.1000, 0.1784, 1.0000, 1.0000, 0.1275,\n",
       "          0.0000, 0.0000, 0.0000, 0.0000, 0.0000, 0.0000, 0.0000, 0.0000,\n",
       "          0.0000, 0.0000, 0.0000, 0.0000],\n",
       "         [0.0000, 0.0000, 0.0000, 0.0000, 0.0000, 0.0000, 0.8059, 1.0000,\n",
       "          0.5235, 0.0000, 0.0000, 0.1000, 0.6176, 1.0000, 0.6255, 0.0000,\n",
       "          0.0000, 0.0000, 0.0000, 0.0000, 0.0000, 0.0000, 0.0000, 0.0000,\n",
       "          0.0000, 0.0000, 0.0000, 0.0000],\n",
       "         [0.0000, 0.0000, 0.0000, 0.0000, 0.0000, 0.0000, 0.3745, 0.8608,\n",
       "          0.8961, 0.8961, 0.8961, 0.7510, 0.8961, 0.7745, 0.0961, 0.0000,\n",
       "          0.0000, 0.0000, 0.0000, 0.0000, 0.0000, 0.0000, 0.0000, 0.0000,\n",
       "          0.0000, 0.0000, 0.0000, 0.0000],\n",
       "         [0.0000, 0.0000, 0.0000, 0.0000, 0.0000, 0.0000, 0.0000, 0.5549,\n",
       "          0.7471, 0.8137, 0.8137, 0.8176, 0.6059, 0.0529, 0.0000, 0.0000,\n",
       "          0.0000, 0.0000, 0.0000, 0.0000, 0.0000, 0.0000, 0.0000, 0.0000,\n",
       "          0.0000, 0.0000, 0.0000, 0.0000],\n",
       "         [0.0000, 0.0000, 0.1000, 0.1000, 0.1000, 0.1000, 0.1000, 0.1000,\n",
       "          0.1000, 0.1000, 0.1000, 0.1000, 0.1000, 0.1000, 0.1000, 0.1000,\n",
       "          0.1000, 0.0000, 0.0000, 0.0000, 0.0000, 0.0000, 0.0000, 0.0000,\n",
       "          0.0000, 0.0000, 0.0000, 0.0000],\n",
       "         [0.0000, 0.0000, 0.1000, 0.1000, 0.1000, 0.1000, 0.1000, 0.1000,\n",
       "          0.1000, 0.1000, 0.1000, 0.1000, 0.1000, 0.1000, 0.1000, 0.1000,\n",
       "          0.1000, 0.0000, 0.0000, 0.0000, 0.0000, 0.0000, 0.0000, 0.0000,\n",
       "          0.0000, 0.0000, 0.0000, 0.0000],\n",
       "         [0.0000, 0.0000, 0.0000, 0.0000, 0.1000, 0.1000, 0.1000, 0.1000,\n",
       "          0.1000, 0.1000, 0.1000, 0.1000, 0.1000, 0.1000, 0.1000, 0.1000,\n",
       "          0.0000, 0.0000, 0.0000, 0.0000, 0.0000, 0.0000, 0.0000, 0.0000,\n",
       "          0.0000, 0.0000, 0.0000, 0.0000],\n",
       "         [0.0000, 0.0000, 0.0000, 0.0000, 0.0000, 0.0000, 0.0000, 0.0000,\n",
       "          0.0000, 0.0000, 0.0000, 0.0000, 0.0000, 0.1000, 0.1000, 0.0000,\n",
       "          0.0000, 0.0000, 0.0000, 0.0000, 0.0000, 0.0000, 0.0000, 0.0000,\n",
       "          0.0000, 0.0000, 0.0000, 0.0000],\n",
       "         [0.0000, 0.0000, 0.0000, 0.0000, 0.0000, 0.0000, 0.0000, 0.0000,\n",
       "          0.0000, 0.0000, 0.0000, 0.0000, 0.0000, 0.0000, 0.1000, 0.1000,\n",
       "          0.1000, 0.1000, 0.1000, 0.0000, 0.0000, 0.0000, 0.0000, 0.0000,\n",
       "          0.0000, 0.0000, 0.0000, 0.0000],\n",
       "         [0.1000, 0.1000, 0.1000, 0.1000, 0.1000, 0.1000, 0.1000, 0.1000,\n",
       "          0.1000, 0.0000, 0.0000, 0.0000, 0.0000, 0.0000, 0.0000, 0.0000,\n",
       "          0.1000, 0.1000, 0.1000, 0.0000, 0.0000, 0.0000, 0.0000, 0.0000,\n",
       "          0.1000, 0.0000, 0.0000, 0.0000],\n",
       "         [0.1000, 0.1000, 0.1000, 0.1000, 0.1000, 0.1000, 0.1000, 0.1000,\n",
       "          0.1000, 0.1000, 0.1000, 0.1000, 0.1000, 0.0000, 0.0000, 0.0000,\n",
       "          0.1000, 0.1000, 0.1000, 0.1000, 0.0000, 0.0000, 0.1000, 0.1000,\n",
       "          0.1000, 0.1000, 0.0000, 0.0000]]])"
      ]
     },
     "execution_count": 22,
     "metadata": {},
     "output_type": "execute_result"
    }
   ],
   "source": [
    "adversarial = possible_adversarials[2]\n",
    "original_image = self_training_images[adversarial[\"Index\"]]\n",
    "altered_image = self_altered_training_images[adversarial[\"Index\"]]\n",
    "mask = altered_image - original_image\n",
    "mask = mask * 255\n",
    "altered_image"
   ]
  }
 ],
 "metadata": {
  "kernelspec": {
   "display_name": "Python 3",
   "language": "python",
   "name": "python3"
  },
  "language_info": {
   "codemirror_mode": {
    "name": "ipython",
    "version": 3
   },
   "file_extension": ".py",
   "mimetype": "text/x-python",
   "name": "python",
   "nbconvert_exporter": "python",
   "pygments_lexer": "ipython3",
   "version": "3.8.10"
  }
 },
 "nbformat": 4,
 "nbformat_minor": 0
}
