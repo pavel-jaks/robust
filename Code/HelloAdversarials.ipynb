{
 "cells": [
  {
   "cell_type": "markdown",
   "metadata": {
    "collapsed": false,
    "pycharm": {
     "name": "#%% md\n"
    }
   },
   "source": [
    "![Adversarial example](adversarial_example.png \"Adversarial example\")"
   ]
  },
  {
   "cell_type": "code",
   "execution_count": 1,
   "metadata": {
    "collapsed": false,
    "pycharm": {
     "name": "#%%\n"
    }
   },
   "outputs": [],
   "source": [
    "import torch\n",
    "import torch.nn as nn"
   ]
  },
  {
   "cell_type": "code",
   "execution_count": 2,
   "metadata": {
    "collapsed": false,
    "pycharm": {
     "name": "#%%\n"
    }
   },
   "outputs": [],
   "source": [
    "class ModelTwo(nn.Module):\n",
    "    def __init__(self):\n",
    "        super().__init__()\n",
    "        self.first_conv_layer = nn.Conv2d(1, 16, kernel_size=5)\n",
    "        self.first_activation = nn.ReLU()\n",
    "        self.second_layer = nn.LazyLinear(32)\n",
    "        self.second_activation = nn.ReLU()\n",
    "        self.third_layer = nn.Linear(32, 16)\n",
    "        self.third_activation = nn.ReLU()\n",
    "        self.out_layer = nn.Linear(16, 10)\n",
    "        self.out_activation = nn.Softmax(dim=1)\n",
    "\n",
    "    def forward(self, t: torch.Tensor):\n",
    "        out = self.first_activation(self.first_conv_layer(t))\n",
    "        dim = 1\n",
    "        for i in range(1, len(out.shape)):\n",
    "            dim *= out.shape[i]\n",
    "        out = out.reshape(len(t), dim)\n",
    "        out = self.second_activation(self.second_layer(out))\n",
    "        out = self.third_activation(self.third_layer(out))\n",
    "        out = self.out_activation(self.out_layer(out))\n",
    "        return out"
   ]
  },
  {
   "cell_type": "code",
   "execution_count": 3,
   "metadata": {
    "collapsed": false,
    "pycharm": {
     "name": "#%%\n"
    }
   },
   "outputs": [],
   "source": [
    "model_loaded = torch.load(\"cnnmodeltwo.model\")"
   ]
  },
  {
   "cell_type": "code",
   "execution_count": 5,
   "metadata": {
    "collapsed": false,
    "pycharm": {
     "name": "#%%\n"
    }
   },
   "outputs": [],
   "source": [
    "from mnist import MNIST\n",
    "mnist_data = MNIST('samples')\n",
    "training_images, training_labels = mnist_data.load_training()\n",
    "\n",
    "original_images = torch.tensor(training_images)\n",
    "self_training_images = original_images.type(torch.FloatTensor) / 255\n",
    "self_training_images = torch.reshape(self_training_images, (len(training_images), 28, 28)).unsqueeze(1)\n",
    "self_training_images.requires_grad = True\n",
    "self_training_labels = torch.zeros(len(training_labels), 10)\n",
    "for i in range(len(training_labels)):\n",
    "    self_training_labels[i, training_labels[i]] = 1\n",
    "self_training_labels_simple = torch.tensor(training_labels)"
   ]
  },
  {
   "cell_type": "code",
   "execution_count": 6,
   "metadata": {
    "collapsed": false,
    "pycharm": {
     "name": "#%%\n"
    }
   },
   "outputs": [],
   "source": [
    "if self_training_images.grad is not None:\n",
    "    self_training_images.grad.zero_()\n",
    "loss = nn.MSELoss()(model_loaded(self_training_images), self_training_labels)\n",
    "loss.backward()\n",
    "grad = self_training_images.grad"
   ]
  },
  {
   "cell_type": "code",
   "execution_count": 7,
   "metadata": {
    "collapsed": false,
    "pycharm": {
     "name": "#%%\n"
    }
   },
   "outputs": [],
   "source": [
    "self_altered_training_images = self_training_images + 1e-1 * grad.apply_(lambda x: 1 if x >= 0 else -1)"
   ]
  },
  {
   "cell_type": "code",
   "execution_count": 8,
   "metadata": {
    "collapsed": false,
    "pycharm": {
     "name": "#%%\n"
    }
   },
   "outputs": [
    {
     "data": {
      "text/plain": [
       "tensor([[[[0.1000, 0.1000, 0.0000,  ..., 0.1000, 0.0000, 0.0000],\n",
       "          [0.1000, 0.1000, 0.1000,  ..., 0.0000, 0.0000, 0.0000],\n",
       "          [0.1000, 0.1000, 0.1000,  ..., 0.0000, 0.0000, 0.0000],\n",
       "          ...,\n",
       "          [0.0000, 0.0000, 0.1000,  ..., 0.1000, 0.1000, 0.1000],\n",
       "          [0.1000, 0.0000, 0.1000,  ..., 0.1000, 0.1000, 0.1000],\n",
       "          [0.1000, 0.0000, 0.0000,  ..., 0.0000, 0.1000, 0.1000]]],\n",
       "\n",
       "\n",
       "        [[[0.1000, 0.1000, 0.0000,  ..., 0.0000, 0.1000, 0.1000],\n",
       "          [0.1000, 0.1000, 0.0000,  ..., 0.0000, 0.1000, 0.1000],\n",
       "          [0.1000, 0.1000, 0.1000,  ..., 0.1000, 0.1000, 0.1000],\n",
       "          ...,\n",
       "          [0.0000, 0.1000, 0.1000,  ..., 0.1000, 0.1000, 0.1000],\n",
       "          [0.0000, 0.0000, 0.0000,  ..., 0.1000, 0.1000, 0.1000],\n",
       "          [0.0000, 0.0000, 0.0000,  ..., 0.0000, 0.1000, 0.1000]]],\n",
       "\n",
       "\n",
       "        [[[0.1000, 0.1000, 0.0000,  ..., 0.0000, 0.1000, 0.1000],\n",
       "          [0.1000, 0.1000, 0.0000,  ..., 0.1000, 0.1000, 0.1000],\n",
       "          [0.1000, 0.1000, 0.0000,  ..., 0.1000, 0.1000, 0.1000],\n",
       "          ...,\n",
       "          [0.0000, 0.1000, 0.1000,  ..., 0.1000, 0.1000, 0.1000],\n",
       "          [0.0000, 0.0000, 0.0000,  ..., 0.1000, 0.1000, 0.1000],\n",
       "          [0.0000, 0.0000, 0.0000,  ..., 0.0000, 0.1000, 0.1000]]],\n",
       "\n",
       "\n",
       "        ...,\n",
       "\n",
       "\n",
       "        [[[0.0000, 0.0000, 0.1000,  ..., 0.1000, 0.0000, 0.0000],\n",
       "          [0.0000, 0.0000, 0.1000,  ..., 0.0000, 0.0000, 0.0000],\n",
       "          [0.0000, 0.0000, 0.0000,  ..., 0.0000, 0.0000, 0.0000],\n",
       "          ...,\n",
       "          [0.0000, 0.0000, 0.1000,  ..., 0.0000, 0.0000, 0.0000],\n",
       "          [0.1000, 0.1000, 0.1000,  ..., 0.1000, 0.0000, 0.0000],\n",
       "          [0.1000, 0.0000, 0.0000,  ..., 0.1000, 0.0000, 0.0000]]],\n",
       "\n",
       "\n",
       "        [[[0.0000, 0.0000, 0.1000,  ..., 0.1000, 0.0000, 0.0000],\n",
       "          [0.0000, 0.0000, 0.1000,  ..., 0.1000, 0.0000, 0.0000],\n",
       "          [0.0000, 0.0000, 0.0000,  ..., 0.0000, 0.0000, 0.0000],\n",
       "          ...,\n",
       "          [0.0000, 0.0000, 0.1000,  ..., 0.0000, 0.0000, 0.0000],\n",
       "          [0.1000, 0.1000, 0.1000,  ..., 0.0000, 0.0000, 0.0000],\n",
       "          [0.1000, 0.1000, 0.1000,  ..., 0.1000, 0.0000, 0.0000]]],\n",
       "\n",
       "\n",
       "        [[[0.1000, 0.0000, 0.0000,  ..., 0.1000, 0.0000, 0.0000],\n",
       "          [0.1000, 0.1000, 0.0000,  ..., 0.1000, 0.0000, 0.0000],\n",
       "          [0.1000, 0.1000, 0.1000,  ..., 0.0000, 0.1000, 0.1000],\n",
       "          ...,\n",
       "          [0.1000, 0.1000, 0.1000,  ..., 0.1000, 0.1000, 0.1000],\n",
       "          [0.0000, 0.0000, 0.1000,  ..., 0.1000, 0.1000, 0.1000],\n",
       "          [0.1000, 0.1000, 0.0000,  ..., 0.0000, 0.1000, 0.1000]]]])"
      ]
     },
     "execution_count": 8,
     "metadata": {},
     "output_type": "execute_result"
    }
   ],
   "source": [
    "self_altered_training_images = self_altered_training_images.detach()\n",
    "self_altered_training_images.apply_(lambda x: 1 if x> 1 else (0 if x < 0 else x))  # normalize"
   ]
  },
  {
   "cell_type": "code",
   "execution_count": 9,
   "metadata": {
    "collapsed": false,
    "pycharm": {
     "name": "#%%\n"
    }
   },
   "outputs": [],
   "source": [
    "def get_prediction(model, image):\n",
    "    my_image = image.unsqueeze(0)\n",
    "    pred = model(my_image)\n",
    "    maxout = max(pred[0])\n",
    "    for j in range(10):\n",
    "        if pred[0, j] == maxout:\n",
    "            return j, maxout"
   ]
  },
  {
   "cell_type": "code",
   "execution_count": 10,
   "metadata": {
    "collapsed": false,
    "pycharm": {
     "name": "#%%\n"
    }
   },
   "outputs": [],
   "source": [
    "possible_adversarials = []\n",
    "for i in range(len(self_training_images)):\n",
    "    prediction, confidence = get_prediction(model_loaded, self_altered_training_images[i])\n",
    "    original_prediction, original_confidence = get_prediction(model_loaded, self_training_images[i])\n",
    "    if prediction != self_training_labels_simple[i]:\n",
    "        params = {\"Label\": self_training_labels_simple[i], \"Prediction\": prediction, \"Confidence\": confidence,\n",
    "                  \"Index\": i, \"OriginalPrediction\": original_prediction, \"OriginalConfidence\": original_confidence}\n",
    "        possible_adversarials.append(params)"
   ]
  },
  {
   "cell_type": "code",
   "execution_count": 11,
   "metadata": {
    "collapsed": false,
    "pycharm": {
     "name": "#%%\n"
    }
   },
   "outputs": [
    {
     "data": {
      "text/plain": [
       "21546"
      ]
     },
     "execution_count": 11,
     "metadata": {},
     "output_type": "execute_result"
    }
   ],
   "source": [
    "len(possible_adversarials)"
   ]
  },
  {
   "cell_type": "code",
   "execution_count": 12,
   "metadata": {
    "collapsed": false,
    "pycharm": {
     "name": "#%%\n"
    }
   },
   "outputs": [],
   "source": [
    "from matplotlib import pyplot as plt\n",
    "import numpy as np"
   ]
  },
  {
   "cell_type": "code",
   "execution_count": 24,
   "metadata": {
    "collapsed": false,
    "pycharm": {
     "name": "#%%\n"
    }
   },
   "outputs": [],
   "source": [
    "def display(image):\n",
    "    first_image = image[0].reshape((28 * 28,)).detach()\n",
    "    first_image = np.array(first_image, dtype='float')\n",
    "    pixels = first_image.reshape((28, 28))\n",
    "    plt.imshow(pixels, cmap=\"gray\")\n",
    "    plt.show()"
   ]
  },
  {
   "cell_type": "code",
   "execution_count": 30,
   "metadata": {
    "collapsed": false,
    "pycharm": {
     "name": "#%%\n"
    }
   },
   "outputs": [
    {
     "data": {
      "image/png": "[encoded data removed]",
      "text/plain": [
       "<Figure size 432x288 with 1 Axes>"
      ]
     },
     "metadata": {
      "needs_background": "light"
     },
     "output_type": "display_data"
    },
    {
     "name": "stdout",
     "output_type": "stream",
     "text": [
      "+++++\n"
     ]
    },
    {
     "data": {
      "image/png": "[encoded data removed]",
      "text/plain": [
       "<Figure size 432x288 with 1 Axes>"
      ]
     },
     "metadata": {
      "needs_background": "light"
     },
     "output_type": "display_data"
    },
    {
     "name": "stdout",
     "output_type": "stream",
     "text": [
      "=====\n"
     ]
    },
    {
     "data": {
      "image/png": "[encoded data removed]",
      "text/plain": [
       "<Figure size 432x288 with 1 Axes>"
      ]
     },
     "metadata": {
      "needs_background": "light"
     },
     "output_type": "display_data"
    },
    {
     "name": "stdout",
     "output_type": "stream",
     "text": [
      "Label: 1, Prediction: 3, Confidence: 0.5516185760498047\n",
      "Original prediction: 1, Original confidence: 1.0\n"
     ]
    }
   ],
   "source": [
    "adversarial = possible_adversarials[1]\n",
    "original_image = self_training_images[adversarial[\"Index\"]]\n",
    "altered_image = self_altered_training_images[adversarial[\"Index\"]]\n",
    "mask = altered_image - original_image\n",
    "mask = mask * 255\n",
    "original_image = original_image * 255\n",
    "altered_image = altered_image * 255\n",
    "display(original_image)\n",
    "print(\"+++++\")\n",
    "display(mask)\n",
    "print(\"=====\")\n",
    "display(altered_image)\n",
    "print(f\"Label: {adversarial['Label']}, Prediction: {adversarial['Prediction']}, Confidence: {adversarial['Confidence']}\")\n",
    "print(f\"Original prediction: {adversarial['OriginalPrediction']}, Original confidence: {adversarial['OriginalConfidence']}\")"
   ]
  },
  {
   "cell_type": "code",
   "execution_count": 21,
   "metadata": {
    "collapsed": false,
    "pycharm": {
     "name": "#%%\n"
    }
   },
   "outputs": [
    {
     "data": {
      "text/plain": [
       "tensor([[[  0.0000,   0.0000,  25.5000,  25.5000,  25.5000,  25.5000,  25.5000,\n",
       "           25.5000,  25.5000,  25.5000,  25.5000,  25.5000,  25.5000,  25.5000,\n",
       "           25.5000,  25.5000,  25.5000,  25.5000,  25.5000,  25.5000,  25.5000,\n",
       "           25.5000,  25.5000,  25.5000,  25.5000,  25.5000,  25.5000,   0.0000],\n",
       "         [  0.0000,   0.0000,  25.5000,  25.5000,   0.0000,   0.0000,   0.0000,\n",
       "            0.0000,   0.0000,   0.0000,   0.0000,   0.0000,   0.0000,   0.0000,\n",
       "            0.0000,   0.0000,   0.0000,   0.0000,   0.0000,   0.0000,   0.0000,\n",
       "            0.0000,   0.0000,   0.0000,   0.0000,  25.5000,   0.0000,   0.0000],\n",
       "         [  0.0000,   0.0000,   0.0000,   0.0000,   0.0000,   0.0000,   0.0000,\n",
       "            0.0000,   0.0000,   0.0000,   0.0000,   0.0000,   0.0000,   0.0000,\n",
       "            0.0000,   0.0000,   0.0000,   0.0000,   0.0000,   0.0000,   0.0000,\n",
       "            0.0000,   0.0000,   0.0000,   0.0000,   0.0000,   0.0000,   0.0000],\n",
       "         [  0.0000,   0.0000,   0.0000,   0.0000,   0.0000,   0.0000,   0.0000,\n",
       "            0.0000,   0.0000,   0.0000,   0.0000,   0.0000,   0.0000,   0.0000,\n",
       "            0.0000,   0.0000,   0.0000,   0.0000,   0.0000,   0.0000,   0.0000,\n",
       "            0.0000,   0.0000,   0.0000,   0.0000,   0.0000,   0.0000,   0.0000],\n",
       "         [  0.0000,   0.0000,   0.0000,   0.0000,   0.0000,   0.0000,   0.0000,\n",
       "            0.0000,   0.0000,   0.0000,   0.0000,   0.0000,   0.0000,  25.5000,\n",
       "            0.0000,   0.0000,   0.0000,  25.5000,  25.5000,  25.5000,   0.0000,\n",
       "            0.0000,   0.0000,   0.0000,   0.0000,   0.0000,   0.0000,   0.0000],\n",
       "         [  0.0000,   0.0000,   0.0000,   0.0000,   0.0000,   0.0000,   0.0000,\n",
       "            0.0000,   0.0000,   0.0000,   0.0000,   0.0000,  25.5000,  25.5000,\n",
       "            0.0000,   0.0000,  25.5000,  25.5000,  25.5000,  25.5000,  25.5000,\n",
       "           25.5000,  25.5000,  25.5000,  25.5000,   0.0000,   0.0000,   0.0000],\n",
       "         [  0.0000,   0.0000,   0.0000,   0.0000,   0.0000,   0.0000,  25.5000,\n",
       "           25.5000,  25.5000,  25.5000,  25.5000,  25.5000,  25.5000,  25.5000,\n",
       "            0.0000,   0.0000,  25.5000,  25.5000,  25.5000,  25.5000,  25.5000,\n",
       "           25.5000,  25.5000,  25.5000,   0.0000,   0.0000,   0.0000,  25.5000],\n",
       "         [  0.0000,   0.0000,   0.0000,   0.0000,   0.0000,  25.5000,  25.5000,\n",
       "           25.5000,  25.5000,  25.5000,  25.5000,  25.5000,  25.5000,   0.0000,\n",
       "            0.0000,   0.0000,   0.0000,  25.5000,  25.5000,  25.5000,   5.5000,\n",
       "           14.5000, 103.5000, 208.5000, 208.5000, 133.5000,   0.0000,  25.5000],\n",
       "         [  0.0000,   0.0000,   0.0000,   0.0000,   0.0000,  25.5000,  25.5000,\n",
       "           25.5000,  25.5000,  25.5000,  25.5000,   0.0000,   0.0000,   0.0000,\n",
       "            0.0000,   0.0000,   0.0000,   0.0000,  42.5000, 124.5000, 213.5000,\n",
       "          228.5000, 227.5000, 227.5000, 227.5000, 189.5000,   0.0000,   0.0000],\n",
       "         [  0.0000,   0.0000,   0.0000,   0.0000,   0.0000,  25.5000,   0.0000,\n",
       "           25.5000,  25.5000,  25.5000,  25.5000,   0.0000,   0.0000,   0.0000,\n",
       "            0.0000,   0.0000, 130.5000, 175.5000, 228.5000, 228.5000, 228.5000,\n",
       "          215.5000, 124.5000,  72.5000,   0.0000,   0.0000,   0.0000,   0.0000],\n",
       "         [  0.0000,  25.5000,   0.0000,   0.0000,   0.0000,  25.5000,   0.0000,\n",
       "            0.0000,   0.0000,  25.5000,  25.5000,   0.0000,   0.0000,   0.0000,\n",
       "            0.0000, 128.5000, 228.5000, 255.0000, 228.5000, 108.5000,  64.5000,\n",
       "           55.5000,  25.5000,  25.5000,  25.5000,   0.0000,   0.0000,   0.0000],\n",
       "         [  0.0000,  25.5000,  25.5000,   0.0000,   0.0000,   0.0000,   0.0000,\n",
       "            0.0000,   0.0000,   0.0000,   0.0000,   0.0000,   0.0000,   0.0000,\n",
       "          118.5000, 255.0000, 170.5000,  37.5000,  25.5000,  25.5000,  25.5000,\n",
       "           25.5000,  25.5000,  25.5000,  25.5000,  25.5000,  25.5000,  25.5000],\n",
       "         [  0.0000,  25.5000,  25.5000,   0.0000,  25.5000,  25.5000,  25.5000,\n",
       "            0.0000,  25.5000,   0.0000,   0.0000,   0.0000, 103.5000, 247.5000,\n",
       "          103.5000, 104.5000,  33.5000,  25.5000,  25.5000,  25.5000,  25.5000,\n",
       "           25.5000,  25.5000,  25.5000,  25.5000,  25.5000,  25.5000,  25.5000],\n",
       "         [  0.0000,   0.0000,   0.0000,   0.0000,   0.0000,   0.0000,   0.0000,\n",
       "            0.0000,   0.0000,   0.0000,   0.0000, 108.5000, 227.5000, 192.5000,\n",
       "           33.5000,  25.5000,  25.5000,  25.5000,  25.5000,  25.5000,  25.5000,\n",
       "           25.5000,  25.5000,  25.5000,  25.5000,  25.5000,   0.0000,   0.0000],\n",
       "         [  0.0000,   0.0000,   0.0000,   0.0000,   0.0000,   0.0000,   0.0000,\n",
       "            0.0000,   0.0000,   0.0000,  25.5000, 255.0000, 228.5000, 103.5000,\n",
       "           25.5000,  25.5000,  25.5000,  25.5000,  25.5000,  25.5000,  25.5000,\n",
       "            0.0000,   0.0000,   0.0000,   0.0000,   0.0000,   0.0000,   0.0000],\n",
       "         [  0.0000,  25.5000,   0.0000,   0.0000,   0.0000,   0.0000,   0.0000,\n",
       "            0.0000,   0.0000,  25.5000,  25.5000, 226.5000, 227.5000, 251.5000,\n",
       "           94.5000,  25.5000,  25.5000,  25.5000,  25.5000,  25.5000,  25.5000,\n",
       "            0.0000,   0.0000,   0.0000,   0.0000,   0.0000,   0.0000,   0.0000],\n",
       "         [  0.0000,   0.0000,   0.0000,   0.0000,   0.0000,   0.0000,   0.0000,\n",
       "           25.5000,  80.5000,  31.5000,  25.5000,  43.5000, 153.5000, 255.0000,\n",
       "          255.0000,  66.5000,   0.0000,   0.0000,  25.5000,   0.0000,   0.0000,\n",
       "            0.0000,   0.0000,   0.0000,   0.0000,   0.0000,   0.0000,   0.0000],\n",
       "         [  0.0000,   0.0000,   0.0000,   0.0000,   0.0000,   0.0000,   0.0000,\n",
       "          230.5000, 255.0000, 117.5000,  25.5000,  25.5000,  45.5000, 255.0000,\n",
       "          255.0000,  32.5000,   0.0000,   0.0000,   0.0000,   0.0000,   0.0000,\n",
       "            0.0000,   0.0000,   0.0000,   0.0000,   0.0000,   0.0000,   0.0000],\n",
       "         [  0.0000,   0.0000,   0.0000,   0.0000,   0.0000,   0.0000, 205.5000,\n",
       "          255.0000, 133.5000,   0.0000,   0.0000,  25.5000, 157.5000, 255.0000,\n",
       "          159.5000,   0.0000,   0.0000,   0.0000,   0.0000,   0.0000,   0.0000,\n",
       "            0.0000,   0.0000,   0.0000,   0.0000,   0.0000,   0.0000,   0.0000],\n",
       "         [  0.0000,   0.0000,   0.0000,   0.0000,   0.0000,   0.0000,  95.5000,\n",
       "          219.5000, 228.5000, 228.5000, 228.5000, 191.5000, 228.5000, 197.5000,\n",
       "           24.5000,   0.0000,   0.0000,   0.0000,   0.0000,   0.0000,   0.0000,\n",
       "            0.0000,   0.0000,   0.0000,   0.0000,   0.0000,   0.0000,   0.0000],\n",
       "         [  0.0000,   0.0000,   0.0000,   0.0000,   0.0000,   0.0000,   0.0000,\n",
       "          141.5000, 190.5000, 207.5000, 207.5000, 208.5000, 154.5000,  13.5000,\n",
       "            0.0000,   0.0000,   0.0000,   0.0000,   0.0000,   0.0000,   0.0000,\n",
       "            0.0000,   0.0000,   0.0000,   0.0000,   0.0000,   0.0000,   0.0000],\n",
       "         [  0.0000,   0.0000,  25.5000,  25.5000,  25.5000,  25.5000,  25.5000,\n",
       "           25.5000,  25.5000,  25.5000,  25.5000,  25.5000,  25.5000,  25.5000,\n",
       "           25.5000,  25.5000,  25.5000,   0.0000,   0.0000,   0.0000,   0.0000,\n",
       "            0.0000,   0.0000,   0.0000,   0.0000,   0.0000,   0.0000,   0.0000],\n",
       "         [  0.0000,   0.0000,  25.5000,  25.5000,  25.5000,  25.5000,  25.5000,\n",
       "           25.5000,  25.5000,  25.5000,  25.5000,  25.5000,  25.5000,  25.5000,\n",
       "           25.5000,  25.5000,  25.5000,   0.0000,   0.0000,   0.0000,   0.0000,\n",
       "            0.0000,   0.0000,   0.0000,   0.0000,   0.0000,   0.0000,   0.0000],\n",
       "         [  0.0000,   0.0000,   0.0000,   0.0000,  25.5000,  25.5000,  25.5000,\n",
       "           25.5000,  25.5000,  25.5000,  25.5000,  25.5000,  25.5000,  25.5000,\n",
       "           25.5000,  25.5000,   0.0000,   0.0000,   0.0000,   0.0000,   0.0000,\n",
       "            0.0000,   0.0000,   0.0000,   0.0000,   0.0000,   0.0000,   0.0000],\n",
       "         [  0.0000,   0.0000,   0.0000,   0.0000,   0.0000,   0.0000,   0.0000,\n",
       "            0.0000,   0.0000,   0.0000,   0.0000,   0.0000,   0.0000,  25.5000,\n",
       "           25.5000,   0.0000,   0.0000,   0.0000,   0.0000,   0.0000,   0.0000,\n",
       "            0.0000,   0.0000,   0.0000,   0.0000,   0.0000,   0.0000,   0.0000],\n",
       "         [  0.0000,   0.0000,   0.0000,   0.0000,   0.0000,   0.0000,   0.0000,\n",
       "            0.0000,   0.0000,   0.0000,   0.0000,   0.0000,   0.0000,   0.0000,\n",
       "           25.5000,  25.5000,  25.5000,  25.5000,  25.5000,   0.0000,   0.0000,\n",
       "            0.0000,   0.0000,   0.0000,   0.0000,   0.0000,   0.0000,   0.0000],\n",
       "         [ 25.5000,  25.5000,  25.5000,  25.5000,  25.5000,  25.5000,  25.5000,\n",
       "           25.5000,  25.5000,   0.0000,   0.0000,   0.0000,   0.0000,   0.0000,\n",
       "            0.0000,   0.0000,  25.5000,  25.5000,  25.5000,   0.0000,   0.0000,\n",
       "            0.0000,   0.0000,   0.0000,  25.5000,   0.0000,   0.0000,   0.0000],\n",
       "         [ 25.5000,  25.5000,  25.5000,  25.5000,  25.5000,  25.5000,  25.5000,\n",
       "           25.5000,  25.5000,  25.5000,  25.5000,  25.5000,  25.5000,   0.0000,\n",
       "            0.0000,   0.0000,  25.5000,  25.5000,  25.5000,  25.5000,   0.0000,\n",
       "            0.0000,  25.5000,  25.5000,  25.5000,  25.5000,   0.0000,   0.0000]]])"
      ]
     },
     "execution_count": 21,
     "metadata": {},
     "output_type": "execute_result"
    }
   ],
   "source": [
    "adversarial = possible_adversarials[2]\n",
    "original_image = self_training_images[adversarial[\"Index\"]]\n",
    "altered_image = self_altered_training_images[adversarial[\"Index\"]]\n",
    "mask = altered_image - original_image\n",
    "mask = mask * 255\n",
    "altered_image * 255"
   ]
  }
 ],
 "metadata": {
  "kernelspec": {
   "display_name": "Python 3",
   "language": "python",
   "name": "python3"
  },
  "language_info": {
   "codemirror_mode": {
    "name": "ipython",
    "version": 3
   },
   "file_extension": ".py",
   "mimetype": "text/x-python",
   "name": "python",
   "nbconvert_exporter": "python",
   "pygments_lexer": "ipython3",
   "version": "3.8.10"
  }
 },
 "nbformat": 4,
 "nbformat_minor": 0
}
