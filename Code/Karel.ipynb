{
 "cells": [
  {
   "cell_type": "code",
   "execution_count": 1,
   "metadata": {},
   "outputs": [],
   "source": [
    "%load_ext autoreload\n",
    "%autoreload 2"
   ]
  },
  {
   "cell_type": "code",
   "execution_count": 2,
   "metadata": {},
   "outputs": [],
   "source": [
    "import torch.nn as nn\n",
    "import torch.optim as optim"
   ]
  },
  {
   "cell_type": "code",
   "execution_count": 3,
   "metadata": {},
   "outputs": [],
   "source": [
    "from training import Coach\n",
    "from utils import MnistData\n",
    "from models import ModelManager, ModelType"
   ]
  },
  {
   "cell_type": "code",
   "execution_count": 4,
   "metadata": {},
   "outputs": [],
   "source": [
    "data = MnistData()"
   ]
  },
  {
   "cell_type": "code",
   "execution_count": 5,
   "metadata": {},
   "outputs": [],
   "source": [
    "simple, rmsprop = [], []"
   ]
  },
  {
   "cell_type": "code",
   "execution_count": 6,
   "metadata": {},
   "outputs": [
    {
     "name": "stdout",
     "output_type": "stream",
     "text": [
      "--- (0) ---\n",
      "Training started at 1645391305.4130933\n",
      "Epoch 0: 68.98544311523438\n",
      "Epoch 5000: 44.20166015625\n",
      "Training finished at 1645391343.6198564; lasted 38.20676302909851 seconds.\n",
      "96.63000000000001 % success on test data\n",
      "--- (1) ---\n",
      "Training started at 1645391344.7086573\n",
      "Epoch 0: 69.14533996582031\n",
      "Epoch 5000: 45.73564910888672\n",
      "Training finished at 1645391380.9525087; lasted 36.24385142326355 seconds.\n",
      "96.47 % success on test data\n",
      "--- (2) ---\n",
      "Training started at 1645391382.0327425\n",
      "Epoch 0: 68.98013305664062\n",
      "Epoch 5000: 43.835330963134766\n",
      "Training finished at 1645391418.8545723; lasted 36.8218297958374 seconds.\n",
      "96.76 % success on test data\n",
      "--- (3) ---\n",
      "Training started at 1645391419.9208028\n",
      "Epoch 0: 69.02056884765625\n",
      "Epoch 5000: 45.82530975341797\n",
      "Training finished at 1645391457.0720026; lasted 37.15119981765747 seconds.\n",
      "96.81 % success on test data\n",
      "--- (4) ---\n",
      "Training started at 1645391458.1926904\n",
      "Epoch 0: 69.04864501953125\n",
      "Epoch 5000: 46.7503776550293\n",
      "Training finished at 1645391494.5718505; lasted 36.37916016578674 seconds.\n",
      "95.30999999999999 % success on test data\n",
      "--- (5) ---\n",
      "Training started at 1645391495.6580472\n",
      "Epoch 0: 69.01993560791016\n",
      "Epoch 5000: 45.83418655395508\n",
      "Training finished at 1645391531.9663055; lasted 36.308258295059204 seconds.\n",
      "96.73 % success on test data\n",
      "--- (6) ---\n",
      "Training started at 1645391533.1087952\n",
      "Epoch 0: 69.05184936523438\n",
      "Epoch 5000: 45.493988037109375\n",
      "Training finished at 1645391570.7128384; lasted 37.60404324531555 seconds.\n",
      "96.88 % success on test data\n",
      "--- (7) ---\n",
      "Training started at 1645391571.7992747\n",
      "Epoch 0: 69.15054321289062\n",
      "Epoch 5000: 46.812255859375\n",
      "Training finished at 1645391608.1518161; lasted 36.35254144668579 seconds.\n",
      "86.94 % success on test data\n",
      "--- (8) ---\n",
      "Training started at 1645391609.2551012\n",
      "Epoch 0: 69.03355407714844\n",
      "Epoch 5000: 44.83476638793945\n",
      "Training finished at 1645391645.3027747; lasted 36.04767346382141 seconds.\n",
      "96.82 % success on test data\n",
      "--- (9) ---\n",
      "Training started at 1645391646.3476985\n",
      "Epoch 0: 69.04441833496094\n",
      "Epoch 5000: 47.35448455810547\n",
      "Training finished at 1645391682.2575018; lasted 35.90980339050293 seconds.\n",
      "96.0 % success on test data\n"
     ]
    }
   ],
   "source": [
    "for i in range(10):\n",
    "    print(f'--- ({i}) ---')\n",
    "    model = ModelManager.get_untrained(ModelType.MnistCnnKarel)\n",
    "    Coach.train(\n",
    "        model,\n",
    "        data,\n",
    "        nn.CrossEntropyLoss(reduction='sum'),\n",
    "        optim.SGD(model.parameters(), lr=1e-2),\n",
    "        30,\n",
    "        5001,\n",
    "        5000\n",
    "    )\n",
    "    simple.append(Coach.measure_performance(model, data))"
   ]
  },
  {
   "cell_type": "code",
   "execution_count": 7,
   "metadata": {},
   "outputs": [
    {
     "name": "stdout",
     "output_type": "stream",
     "text": [
      "--- (0) ---\n",
      "Training started at 1645391683.575947\n",
      "Epoch 0: 69.13257598876953\n",
      "Epoch 5000: 46.85121154785156\n",
      "Training finished at 1645391726.4044678; lasted 42.82852077484131 seconds.\n",
      "96.92 % success on test data\n",
      "--- (1) ---\n",
      "Training started at 1645391727.5291378\n",
      "Epoch 0: 69.18264770507812\n",
      "Epoch 5000: 44.982398986816406\n",
      "Training finished at 1645391768.3372688; lasted 40.808130979537964 seconds.\n",
      "97.22 % success on test data\n",
      "--- (2) ---\n",
      "Training started at 1645391769.440366\n",
      "Epoch 0: 69.0832748413086\n",
      "Epoch 5000: 43.84394454956055\n",
      "Training finished at 1645391809.8338492; lasted 40.39348316192627 seconds.\n",
      "96.88 % success on test data\n",
      "--- (3) ---\n",
      "Training started at 1645391810.9322996\n",
      "Epoch 0: 68.99546813964844\n",
      "Epoch 5000: 43.83550262451172\n",
      "Training finished at 1645391850.706479; lasted 39.774179458618164 seconds.\n",
      "97.69 % success on test data\n",
      "--- (4) ---\n",
      "Training started at 1645391851.7624273\n",
      "Epoch 0: 69.11312866210938\n",
      "Epoch 5000: 44.04920959472656\n",
      "Training finished at 1645391890.8806505; lasted 39.11822319030762 seconds.\n",
      "96.76 % success on test data\n",
      "--- (5) ---\n",
      "Training started at 1645391891.918548\n",
      "Epoch 0: 69.10604858398438\n",
      "Epoch 5000: 44.84041976928711\n",
      "Training finished at 1645391932.7009616; lasted 40.782413482666016 seconds.\n",
      "97.24000000000001 % success on test data\n",
      "--- (6) ---\n",
      "Training started at 1645391933.7913964\n",
      "Epoch 0: 69.07899475097656\n",
      "Epoch 5000: 44.046424865722656\n",
      "Training finished at 1645391973.1678963; lasted 39.37649989128113 seconds.\n",
      "97.50999999999999 % success on test data\n",
      "--- (7) ---\n",
      "Training started at 1645391974.2395492\n",
      "Epoch 0: 69.04762268066406\n",
      "Epoch 5000: 46.65348815917969\n",
      "Training finished at 1645392013.7533658; lasted 39.513816595077515 seconds.\n",
      "94.61 % success on test data\n",
      "--- (8) ---\n",
      "Training started at 1645392014.8010542\n",
      "Epoch 0: 69.11764526367188\n",
      "Epoch 5000: 48.71819305419922\n",
      "Training finished at 1645392055.3507211; lasted 40.54966688156128 seconds.\n",
      "97.69 % success on test data\n",
      "--- (9) ---\n",
      "Training started at 1645392056.5006912\n",
      "Epoch 0: 69.00984191894531\n",
      "Epoch 5000: 44.907649993896484\n",
      "Training finished at 1645392096.3608947; lasted 39.86020350456238 seconds.\n",
      "96.91 % success on test data\n"
     ]
    }
   ],
   "source": [
    "for i in range(10):\n",
    "    print(f'--- ({i}) ---')\n",
    "    model = ModelManager.get_untrained(ModelType.MnistCnnKarel)\n",
    "    Coach.train(\n",
    "        model,\n",
    "        data,\n",
    "        nn.CrossEntropyLoss(reduction='sum'),\n",
    "        optim.RMSprop(model.parameters(), lr=1e-3),\n",
    "        30,\n",
    "        5001,\n",
    "        5000\n",
    "    )\n",
    "    rmsprop.append(Coach.measure_performance(model, data))"
   ]
  },
  {
   "cell_type": "code",
   "execution_count": 8,
   "metadata": {},
   "outputs": [],
   "source": [
    "import matplotlib.pylab as lab"
   ]
  },
  {
   "cell_type": "code",
   "execution_count": 9,
   "metadata": {},
   "outputs": [
    {
     "data": {
      "text/plain": [
       "<matplotlib.legend.Legend at 0x1c310093a30>"
      ]
     },
     "execution_count": 9,
     "metadata": {},
     "output_type": "execute_result"
    },
    {
     "data": {
      "image/png": "[encoded data removed]",
      "text/plain": [
       "<Figure size 432x288 with 1 Axes>"
      ]
     },
     "metadata": {
      "needs_background": "light"
     },
     "output_type": "display_data"
    }
   ],
   "source": [
    "# for performences in [sorted(simple), sorted(momentum), sorted(nesterov)]:\n",
    "performences = sorted(simple)\n",
    "distribution = {}\n",
    "for i in range(1, len(performences) + 1):\n",
    "    distribution[performences[i - 1]] = i / len(performences)\n",
    "my_list = distribution.items()\n",
    "sorted(my_list)\n",
    "x, y = zip(*my_list)\n",
    "lab.plot(x, y, color = \"blue\", label=\"Simple\")\n",
    "\n",
    "performences = sorted(rmsprop)\n",
    "distribution = {}\n",
    "for i in range(1, len(performences) + 1):\n",
    "    distribution[performences[i - 1]] = i / len(performences)\n",
    "my_list = distribution.items()\n",
    "sorted(my_list)\n",
    "x, y = zip(*my_list)\n",
    "lab.plot(x, y, color=\"green\", label=\"RMSProp\")\n",
    "\n",
    "lab.legend()"
   ]
  }
 ],
 "metadata": {
  "interpreter": {
   "hash": "b9d03d93fdbeeb361cc45deae4888a34596acc9ca3c93366af240ad46910d2d2"
  },
  "kernelspec": {
   "display_name": "Python 3.8.10 64-bit",
   "language": "python",
   "name": "python3"
  },
  "language_info": {
   "codemirror_mode": {
    "name": "ipython",
    "version": 3
   },
   "file_extension": ".py",
   "mimetype": "text/x-python",
   "name": "python",
   "nbconvert_exporter": "python",
   "pygments_lexer": "ipython3",
   "version": "3.8.10"
  },
  "orig_nbformat": 4
 },
 "nbformat": 4,
 "nbformat_minor": 2
}
