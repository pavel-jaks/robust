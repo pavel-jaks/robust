{
 "cells": [
  {
   "cell_type": "code",
   "execution_count": 1,
   "metadata": {},
   "outputs": [],
   "source": [
    "%load_ext autoreload\n",
    "%autoreload 2"
   ]
  },
  {
   "cell_type": "code",
   "execution_count": 2,
   "metadata": {},
   "outputs": [],
   "source": [
    "import torch.nn as nn\n",
    "import torch.optim as optim"
   ]
  },
  {
   "cell_type": "code",
   "execution_count": 3,
   "metadata": {},
   "outputs": [],
   "source": [
    "from training import Coach\n",
    "from utils import MnistData\n",
    "from models import ModelManager, ModelType"
   ]
  },
  {
   "cell_type": "code",
   "execution_count": 4,
   "metadata": {},
   "outputs": [],
   "source": [
    "data = MnistData()"
   ]
  },
  {
   "cell_type": "code",
   "execution_count": 13,
   "metadata": {},
   "outputs": [
    {
     "name": "stdout",
     "output_type": "stream",
     "text": [
      "Training started at 1645451794.1572485\n",
      "Epoch 0: 69.028076171875: 0.098\n",
      "Epoch 500: 54.73436737060547: 0.7322\n",
      "Epoch 1000: 52.36891555786133: 0.755\n",
      "Epoch 1500: 48.73869705200195: 0.8431\n",
      "Epoch 2000: 46.88722610473633: 0.8621\n",
      "Epoch 2500: 46.75813293457031: 0.9537\n",
      "Epoch 3000: 45.820919036865234: 0.9582\n",
      "Epoch 3500: 46.119102478027344: 0.966\n",
      "Epoch 4000: 44.54046630859375: 0.9608\n",
      "Epoch 4500: 44.853641510009766: 0.9706\n",
      "Epoch 5000: 45.14080810546875: 0.9685\n",
      "Training finished at 1645451851.0193253; lasted 56.86207675933838 seconds.\n",
      "96.85000000000001 % success on test data\n"
     ]
    },
    {
     "data": {
      "text/plain": [
       "0.9685"
      ]
     },
     "execution_count": 13,
     "metadata": {},
     "output_type": "execute_result"
    }
   ],
   "source": [
    "model = ModelManager.get_untrained(ModelType.MnistCnnLena)\n",
    "Coach.train(\n",
    "    model,\n",
    "    data,\n",
    "    nn.CrossEntropyLoss(reduction='sum'),\n",
    "    optim.RMSprop(model.parameters(), lr=1e-3),\n",
    "    30,\n",
    "    5001,\n",
    "    500\n",
    ")\n",
    "Coach.measure_performance(model, data)"
   ]
  }
 ],
 "metadata": {
  "interpreter": {
   "hash": "b9d03d93fdbeeb361cc45deae4888a34596acc9ca3c93366af240ad46910d2d2"
  },
  "kernelspec": {
   "display_name": "Python 3.8.10 64-bit",
   "language": "python",
   "name": "python3"
  },
  "language_info": {
   "codemirror_mode": {
    "name": "ipython",
    "version": 3
   },
   "file_extension": ".py",
   "mimetype": "text/x-python",
   "name": "python",
   "nbconvert_exporter": "python",
   "pygments_lexer": "ipython3",
   "version": "3.8.10"
  },
  "orig_nbformat": 4
 },
 "nbformat": 4,
 "nbformat_minor": 2
}
