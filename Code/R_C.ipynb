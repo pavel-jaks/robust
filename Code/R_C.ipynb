{
 "cells": [
  {
   "cell_type": "markdown",
   "metadata": {},
   "source": [
    "# Robust training of CNN model of type B"
   ]
  },
  {
   "cell_type": "code",
   "execution_count": 1,
   "metadata": {},
   "outputs": [],
   "source": [
    "%load_ext autoreload\n",
    "%autoreload 2"
   ]
  },
  {
   "cell_type": "code",
   "execution_count": 2,
   "metadata": {},
   "outputs": [],
   "source": [
    "import math"
   ]
  },
  {
   "cell_type": "code",
   "execution_count": 3,
   "metadata": {},
   "outputs": [],
   "source": [
    "import torch.nn as nn\n",
    "import torch.optim as optim"
   ]
  },
  {
   "cell_type": "code",
   "execution_count": 4,
   "metadata": {},
   "outputs": [],
   "source": [
    "from training import Coach\n",
    "from utils import MnistData\n",
    "from models import ModelManager, ModelType"
   ]
  },
  {
   "cell_type": "code",
   "execution_count": 5,
   "metadata": {},
   "outputs": [],
   "source": [
    "data = MnistData()"
   ]
  },
  {
   "cell_type": "code",
   "execution_count": 22,
   "metadata": {},
   "outputs": [],
   "source": [
    "model = ModelManager.get_untrained(ModelType.MnistCnnCRobust)"
   ]
  },
  {
   "cell_type": "code",
   "execution_count": 23,
   "metadata": {},
   "outputs": [
    {
     "name": "stdout",
     "output_type": "stream",
     "text": [
      "Training started at 1654526482.1369674\n",
      "Epoch 0: 2.3025553226470947: 0.1\n",
      "Epoch 10: 2.1607296466827393: 0.33\n",
      "Epoch 20: 1.865987777709961: 0.59\n",
      "Epoch 30: 1.8405365943908691: 0.73\n",
      "Epoch 40: 1.6507904529571533: 0.82\n",
      "Epoch 50: 1.7661997079849243: 0.78\n",
      "Epoch 60: 1.5740875005722046: 0.88\n",
      "Epoch 70: 1.587583303451538: 0.85\n",
      "Epoch 80: 1.6641387939453125: 0.83\n"
     ]
    },
    {
     "ename": "KeyboardInterrupt",
     "evalue": "",
     "output_type": "error",
     "traceback": [
      "\u001b[1;31m---------------------------------------------------------------------------\u001b[0m",
      "\u001b[1;31mKeyboardInterrupt\u001b[0m                         Traceback (most recent call last)",
      "\u001b[1;32m~\\AppData\\Local\\Temp/ipykernel_19252/613493902.py\u001b[0m in \u001b[0;36m<module>\u001b[1;34m\u001b[0m\n\u001b[1;32m----> 1\u001b[1;33m Coach.train(\n\u001b[0m\u001b[0;32m      2\u001b[0m     \u001b[0mmodel\u001b[0m\u001b[1;33m,\u001b[0m\u001b[1;33m\u001b[0m\u001b[1;33m\u001b[0m\u001b[0m\n\u001b[0;32m      3\u001b[0m     \u001b[0mdata\u001b[0m\u001b[1;33m,\u001b[0m\u001b[1;33m\u001b[0m\u001b[1;33m\u001b[0m\u001b[0m\n\u001b[0;32m      4\u001b[0m     \u001b[0mnn\u001b[0m\u001b[1;33m.\u001b[0m\u001b[0mCrossEntropyLoss\u001b[0m\u001b[1;33m(\u001b[0m\u001b[1;33m)\u001b[0m\u001b[1;33m,\u001b[0m\u001b[1;33m\u001b[0m\u001b[1;33m\u001b[0m\u001b[0m\n\u001b[0;32m      5\u001b[0m     \u001b[0moptim\u001b[0m\u001b[1;33m.\u001b[0m\u001b[0mRMSprop\u001b[0m\u001b[1;33m(\u001b[0m\u001b[0mmodel\u001b[0m\u001b[1;33m.\u001b[0m\u001b[0mparameters\u001b[0m\u001b[1;33m(\u001b[0m\u001b[1;33m)\u001b[0m\u001b[1;33m,\u001b[0m \u001b[0mlr\u001b[0m\u001b[1;33m=\u001b[0m\u001b[1;36m1e-4\u001b[0m\u001b[1;33m)\u001b[0m\u001b[1;33m,\u001b[0m\u001b[1;33m\u001b[0m\u001b[1;33m\u001b[0m\u001b[0m\n",
      "\u001b[1;32mc:\\Users\\stani\\Documents\\school\\BP\\robust\\robust\\Code\\training.py\u001b[0m in \u001b[0;36mtrain\u001b[1;34m(model, training_data, loss_function, optimizer, batch_size, epochs, noisy, too_noisy)\u001b[0m\n\u001b[0;32m     25\u001b[0m             \u001b[0mloss\u001b[0m \u001b[1;33m=\u001b[0m \u001b[0mloss_function\u001b[0m\u001b[1;33m(\u001b[0m\u001b[0mmodel\u001b[0m\u001b[1;33m(\u001b[0m\u001b[0mdata\u001b[0m\u001b[1;33m)\u001b[0m\u001b[1;33m,\u001b[0m \u001b[0mlabels\u001b[0m\u001b[1;33m)\u001b[0m\u001b[1;33m\u001b[0m\u001b[1;33m\u001b[0m\u001b[0m\n\u001b[0;32m     26\u001b[0m             \u001b[0moptimizer\u001b[0m\u001b[1;33m.\u001b[0m\u001b[0mzero_grad\u001b[0m\u001b[1;33m(\u001b[0m\u001b[1;33m)\u001b[0m\u001b[1;33m\u001b[0m\u001b[1;33m\u001b[0m\u001b[0m\n\u001b[1;32m---> 27\u001b[1;33m             \u001b[0mloss\u001b[0m\u001b[1;33m.\u001b[0m\u001b[0mbackward\u001b[0m\u001b[1;33m(\u001b[0m\u001b[1;33m)\u001b[0m\u001b[1;33m\u001b[0m\u001b[1;33m\u001b[0m\u001b[0m\n\u001b[0m\u001b[0;32m     28\u001b[0m             \u001b[0moptimizer\u001b[0m\u001b[1;33m.\u001b[0m\u001b[0mstep\u001b[0m\u001b[1;33m(\u001b[0m\u001b[1;33m)\u001b[0m\u001b[1;33m\u001b[0m\u001b[1;33m\u001b[0m\u001b[0m\n\u001b[0;32m     29\u001b[0m             \u001b[1;32mif\u001b[0m \u001b[0mepoch\u001b[0m \u001b[1;33m%\u001b[0m \u001b[0mnoisy\u001b[0m \u001b[1;33m==\u001b[0m \u001b[1;36m0\u001b[0m \u001b[1;32mor\u001b[0m \u001b[0mepoch\u001b[0m \u001b[1;33m==\u001b[0m \u001b[1;36m0\u001b[0m\u001b[1;33m:\u001b[0m\u001b[1;33m\u001b[0m\u001b[1;33m\u001b[0m\u001b[0m\n",
      "\u001b[1;32mc:\\Users\\stani\\AppData\\Local\\Programs\\Python\\Python38\\lib\\site-packages\\torch\\_tensor.py\u001b[0m in \u001b[0;36mbackward\u001b[1;34m(self, gradient, retain_graph, create_graph, inputs)\u001b[0m\n\u001b[0;32m    253\u001b[0m                 \u001b[0mcreate_graph\u001b[0m\u001b[1;33m=\u001b[0m\u001b[0mcreate_graph\u001b[0m\u001b[1;33m,\u001b[0m\u001b[1;33m\u001b[0m\u001b[1;33m\u001b[0m\u001b[0m\n\u001b[0;32m    254\u001b[0m                 inputs=inputs)\n\u001b[1;32m--> 255\u001b[1;33m         \u001b[0mtorch\u001b[0m\u001b[1;33m.\u001b[0m\u001b[0mautograd\u001b[0m\u001b[1;33m.\u001b[0m\u001b[0mbackward\u001b[0m\u001b[1;33m(\u001b[0m\u001b[0mself\u001b[0m\u001b[1;33m,\u001b[0m \u001b[0mgradient\u001b[0m\u001b[1;33m,\u001b[0m \u001b[0mretain_graph\u001b[0m\u001b[1;33m,\u001b[0m \u001b[0mcreate_graph\u001b[0m\u001b[1;33m,\u001b[0m \u001b[0minputs\u001b[0m\u001b[1;33m=\u001b[0m\u001b[0minputs\u001b[0m\u001b[1;33m)\u001b[0m\u001b[1;33m\u001b[0m\u001b[1;33m\u001b[0m\u001b[0m\n\u001b[0m\u001b[0;32m    256\u001b[0m \u001b[1;33m\u001b[0m\u001b[0m\n\u001b[0;32m    257\u001b[0m     \u001b[1;32mdef\u001b[0m \u001b[0mregister_hook\u001b[0m\u001b[1;33m(\u001b[0m\u001b[0mself\u001b[0m\u001b[1;33m,\u001b[0m \u001b[0mhook\u001b[0m\u001b[1;33m)\u001b[0m\u001b[1;33m:\u001b[0m\u001b[1;33m\u001b[0m\u001b[1;33m\u001b[0m\u001b[0m\n",
      "\u001b[1;32mc:\\Users\\stani\\AppData\\Local\\Programs\\Python\\Python38\\lib\\site-packages\\torch\\autograd\\__init__.py\u001b[0m in \u001b[0;36mbackward\u001b[1;34m(tensors, grad_tensors, retain_graph, create_graph, grad_variables, inputs)\u001b[0m\n\u001b[0;32m    145\u001b[0m         \u001b[0mretain_graph\u001b[0m \u001b[1;33m=\u001b[0m \u001b[0mcreate_graph\u001b[0m\u001b[1;33m\u001b[0m\u001b[1;33m\u001b[0m\u001b[0m\n\u001b[0;32m    146\u001b[0m \u001b[1;33m\u001b[0m\u001b[0m\n\u001b[1;32m--> 147\u001b[1;33m     Variable._execution_engine.run_backward(\n\u001b[0m\u001b[0;32m    148\u001b[0m         \u001b[0mtensors\u001b[0m\u001b[1;33m,\u001b[0m \u001b[0mgrad_tensors_\u001b[0m\u001b[1;33m,\u001b[0m \u001b[0mretain_graph\u001b[0m\u001b[1;33m,\u001b[0m \u001b[0mcreate_graph\u001b[0m\u001b[1;33m,\u001b[0m \u001b[0minputs\u001b[0m\u001b[1;33m,\u001b[0m\u001b[1;33m\u001b[0m\u001b[1;33m\u001b[0m\u001b[0m\n\u001b[0;32m    149\u001b[0m         allow_unreachable=True, accumulate_grad=True)  # allow_unreachable flag\n",
      "\u001b[1;31mKeyboardInterrupt\u001b[0m: "
     ]
    }
   ],
   "source": [
    "Coach.train(\n",
    "    model,\n",
    "    data,\n",
    "    nn.CrossEntropyLoss(),\n",
    "    optim.RMSprop(model.parameters(), lr=1e-4),\n",
    "    batch_size=30,\n",
    "    epochs=5001,\n",
    "    noisy=10,\n",
    "    too_noisy=True\n",
    ")"
   ]
  },
  {
   "cell_type": "code",
   "execution_count": 24,
   "metadata": {},
   "outputs": [
    {
     "name": "stdout",
     "output_type": "stream",
     "text": [
      "Training started at 1654526623.8524973\n",
      "Epoch 0: 2.1678478717803955: 0.53\n",
      "Epoch 10: 2.2015745639801025: 0.64\n",
      "Epoch 20: 2.051734209060669: 0.59\n",
      "Epoch 30: 2.1560168266296387: 0.67\n",
      "Epoch 40: 1.730470895767212: 0.68\n",
      "Epoch 50: 1.7940906286239624: 0.61\n",
      "Epoch 60: 1.969016432762146: 0.74\n",
      "Epoch 70: 1.9573709964752197: 0.67\n",
      "Epoch 80: 1.8303884267807007: 0.74\n",
      "Epoch 90: 2.0849833488464355: 0.74\n",
      "Epoch 100: 1.6947424411773682: 0.73\n",
      "Epoch 110: 1.7424901723861694: 0.76\n",
      "Epoch 120: 1.768612265586853: 0.71\n",
      "Epoch 130: 1.8818683624267578: 0.8\n",
      "Epoch 140: 1.6858031749725342: 0.81\n",
      "Epoch 150: 1.8610244989395142: 0.79\n",
      "Epoch 160: 1.6469427347183228: 0.78\n",
      "Epoch 170: 1.6046879291534424: 0.83\n",
      "Epoch 180: 1.6623709201812744: 0.84\n",
      "Epoch 190: 1.707352876663208: 0.79\n",
      "Epoch 200: 1.7843868732452393: 0.9\n",
      "Epoch 210: 1.6176555156707764: 0.91\n",
      "Epoch 220: 1.9477529525756836: 0.87\n",
      "Epoch 230: 1.5386474132537842: 0.94\n",
      "Epoch 240: 1.6729400157928467: 0.95\n",
      "Epoch 250: 1.693947434425354: 0.91\n",
      "Epoch 260: 1.9855705499649048: 0.91\n",
      "Epoch 270: 1.6040540933609009: 0.93\n",
      "Epoch 280: 1.7110393047332764: 0.96\n",
      "Epoch 290: 1.785699486732483: 0.94\n",
      "Epoch 300: 1.5644561052322388: 0.94\n",
      "Epoch 310: 1.5229543447494507: 0.94\n",
      "Epoch 320: 1.6441255807876587: 0.91\n",
      "Epoch 330: 1.8507179021835327: 0.92\n",
      "Epoch 340: 1.8869192600250244: 0.93\n",
      "Epoch 350: 1.609349012374878: 0.95\n",
      "Epoch 360: 1.8200839757919312: 0.88\n",
      "Epoch 370: 1.7732431888580322: 0.92\n",
      "Epoch 380: 1.4753578901290894: 0.91\n",
      "Epoch 390: 1.804356336593628: 0.93\n",
      "Epoch 400: 1.7144170999526978: 0.94\n",
      "Epoch 410: 1.6356201171875: 0.92\n",
      "Epoch 420: 1.6568368673324585: 0.93\n",
      "Epoch 430: 1.915574312210083: 0.97\n",
      "Epoch 440: 1.645054817199707: 0.97\n",
      "Epoch 450: 1.568418264389038: 0.91\n",
      "Epoch 460: 1.667222023010254: 0.95\n",
      "Epoch 470: 1.7558457851409912: 0.93\n",
      "Epoch 480: 1.7376530170440674: 0.96\n",
      "Epoch 490: 1.4959934949874878: 0.95\n",
      "Epoch 500: 1.6493133306503296: 0.94\n",
      "Epoch 510: 1.8641958236694336: 0.94\n",
      "Epoch 520: 1.647412657737732: 0.98\n",
      "Epoch 530: 1.670269250869751: 0.91\n",
      "Epoch 540: 1.7059533596038818: 0.94\n",
      "Epoch 550: 1.8521671295166016: 0.91\n",
      "Epoch 560: 1.5456281900405884: 0.96\n",
      "Epoch 570: 1.6000114679336548: 0.93\n",
      "Epoch 580: 1.663252592086792: 0.98\n",
      "Epoch 590: 1.6986461877822876: 0.94\n",
      "Epoch 600: 1.6071535348892212: 0.94\n",
      "Epoch 610: 1.7560863494873047: 0.94\n",
      "Epoch 620: 1.6193428039550781: 0.96\n",
      "Epoch 630: 1.6035499572753906: 0.93\n",
      "Epoch 640: 1.5310919284820557: 0.95\n",
      "Epoch 650: 1.7808144092559814: 0.96\n",
      "Epoch 660: 1.5848991870880127: 0.94\n",
      "Epoch 670: 1.7154052257537842: 0.94\n",
      "Epoch 680: 1.6701301336288452: 0.89\n",
      "Epoch 690: 1.5283491611480713: 0.94\n",
      "Epoch 700: 1.5613268613815308: 0.92\n",
      "Epoch 710: 1.6628745794296265: 0.91\n",
      "Epoch 720: 1.517478108406067: 0.96\n",
      "Epoch 730: 1.5601580142974854: 0.95\n",
      "Epoch 740: 1.4640775918960571: 0.96\n",
      "Epoch 750: 1.5982497930526733: 0.91\n",
      "Epoch 760: 1.6303529739379883: 0.99\n",
      "Epoch 770: 1.7707605361938477: 0.96\n",
      "Epoch 780: 1.5771706104278564: 0.99\n",
      "Epoch 790: 1.5769785642623901: 0.93\n",
      "Epoch 800: 1.5424134731292725: 0.96\n",
      "Epoch 810: 1.5501158237457275: 0.94\n",
      "Epoch 820: 1.5560346841812134: 0.89\n",
      "Epoch 830: 1.536824345588684: 0.97\n",
      "Epoch 840: 1.5187578201293945: 0.95\n",
      "Epoch 850: 1.564946174621582: 0.93\n",
      "Epoch 860: 1.5828837156295776: 0.98\n",
      "Epoch 870: 1.7146810293197632: 0.99\n",
      "Epoch 880: 1.5946332216262817: 0.97\n",
      "Epoch 890: 1.4760591983795166: 0.95\n",
      "Epoch 900: 1.4816871881484985: 0.98\n",
      "Epoch 910: 1.5142055749893188: 0.93\n",
      "Epoch 920: 1.485785722732544: 0.95\n",
      "Epoch 930: 1.713640809059143: 0.99\n",
      "Epoch 940: 1.5526912212371826: 0.95\n",
      "Epoch 950: 1.4699043035507202: 0.98\n",
      "Epoch 960: 1.7089653015136719: 0.94\n",
      "Epoch 970: 1.5030062198638916: 0.99\n",
      "Epoch 980: 1.5245002508163452: 0.93\n",
      "Epoch 990: 1.7179721593856812: 0.97\n",
      "Epoch 1000: 1.7637603282928467: 0.95\n",
      "Training finished at 1654527384.917537; lasted 761.0650396347046 seconds.\n"
     ]
    }
   ],
   "source": [
    "Coach.train_robust(\n",
    "    model,\n",
    "    data,\n",
    "    nn.CrossEntropyLoss(),\n",
    "    optim.RMSprop(model.parameters(), lr=1e-4),\n",
    "    ball_radius=50 / 255,\n",
    "    pgd_step_size=5e-2,\n",
    "    #pgd_epochs=math.floor(min(30 * 4, 30 * 1.25)),\n",
    "    pgd_epochs=5,\n",
    "    batch_size=10,\n",
    "    epochs=1001,\n",
    "    noisy=10,\n",
    "    too_noisy=True\n",
    ")"
   ]
  },
  {
   "cell_type": "code",
   "execution_count": 27,
   "metadata": {},
   "outputs": [
    {
     "name": "stdout",
     "output_type": "stream",
     "text": [
      "95.5 % success on given data\n"
     ]
    },
    {
     "data": {
      "text/plain": [
       "0.955"
      ]
     },
     "execution_count": 27,
     "metadata": {},
     "output_type": "execute_result"
    }
   ],
   "source": [
    "Coach.measure_performance(model, *data.get_training_batch(1000), data.get_data_storage_type())"
   ]
  },
  {
   "cell_type": "code",
   "execution_count": 25,
   "metadata": {},
   "outputs": [],
   "source": [
    "ModelManager.save_model(ModelType.MnistCnnCRobust, model)"
   ]
  }
 ],
 "metadata": {
  "interpreter": {
   "hash": "e9cf67d4382dce4fbd50b02e030497dd8d7937cea9e35bc281a10388d12c2354"
  },
  "kernelspec": {
   "display_name": "Python 3.8.10 64-bit",
   "language": "python",
   "name": "python3"
  },
  "language_info": {
   "codemirror_mode": {
    "name": "ipython",
    "version": 3
   },
   "file_extension": ".py",
   "mimetype": "text/x-python",
   "name": "python",
   "nbconvert_exporter": "python",
   "pygments_lexer": "ipython3",
   "version": "3.8.10"
  },
  "orig_nbformat": 4
 },
 "nbformat": 4,
 "nbformat_minor": 2
}
