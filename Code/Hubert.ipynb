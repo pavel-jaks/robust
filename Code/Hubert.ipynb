{
 "cells": [
  {
   "cell_type": "code",
   "execution_count": 1,
   "metadata": {},
   "outputs": [],
   "source": [
    "%load_ext autoreload\n",
    "%autoreload 2"
   ]
  },
  {
   "cell_type": "code",
   "execution_count": 2,
   "metadata": {},
   "outputs": [],
   "source": [
    "import torch.nn as nn\n",
    "import torch.optim as optim"
   ]
  },
  {
   "cell_type": "code",
   "execution_count": 3,
   "metadata": {},
   "outputs": [],
   "source": [
    "from training import Coach\n",
    "from utils import MnistData\n",
    "from models import ModelManager, ModelType"
   ]
  },
  {
   "cell_type": "code",
   "execution_count": 4,
   "metadata": {},
   "outputs": [],
   "source": [
    "data = MnistData()"
   ]
  },
  {
   "cell_type": "code",
   "execution_count": 9,
   "metadata": {},
   "outputs": [],
   "source": [
    "simple, momentum, nesterov = [], [], []"
   ]
  },
  {
   "cell_type": "code",
   "execution_count": 10,
   "metadata": {},
   "outputs": [
    {
     "name": "stdout",
     "output_type": "stream",
     "text": [
      "--- (0) ---\n",
      "Training started at 1645292931.7474995\n",
      "Epoch 0: 69.13827514648438\n",
      "Epoch 5000: 50.28399658203125\n",
      "Training finished at 1645292944.6202729; lasted 12.87277340888977 seconds.\n",
      "81.84 % success on test data\n",
      "--- (1) ---\n",
      "Training started at 1645292945.3754485\n",
      "Epoch 0: 69.01502227783203\n",
      "Epoch 5000: 50.90473175048828\n",
      "Training finished at 1645292958.6392078; lasted 13.26375937461853 seconds.\n",
      "84.28999999999999 % success on test data\n",
      "--- (2) ---\n",
      "Training started at 1645292959.418747\n",
      "Epoch 0: 69.08843231201172\n",
      "Epoch 5000: 52.004215240478516\n",
      "Training finished at 1645292972.6554625; lasted 13.23671555519104 seconds.\n",
      "77.21000000000001 % success on test data\n",
      "--- (3) ---\n",
      "Training started at 1645292973.4212222\n",
      "Epoch 0: 69.11444091796875\n",
      "Epoch 5000: 48.837318420410156\n",
      "Training finished at 1645292986.5663862; lasted 13.145164012908936 seconds.\n",
      "71.25 % success on test data\n",
      "--- (4) ---\n",
      "Training started at 1645292987.3835769\n",
      "Epoch 0: 68.9533462524414\n",
      "Epoch 5000: 49.73505783081055\n",
      "Training finished at 1645293000.5912786; lasted 13.207701683044434 seconds.\n",
      "87.12 % success on test data\n",
      "--- (5) ---\n",
      "Training started at 1645293001.3888497\n",
      "Epoch 0: 69.0929946899414\n",
      "Epoch 5000: 48.28078842163086\n",
      "Training finished at 1645293014.4802985; lasted 13.091448783874512 seconds.\n",
      "88.72 % success on test data\n",
      "--- (6) ---\n",
      "Training started at 1645293015.2597108\n",
      "Epoch 0: 68.91647338867188\n",
      "Epoch 5000: 44.580204010009766\n",
      "Training finished at 1645293028.311119; lasted 13.051408290863037 seconds.\n",
      "86.83 % success on test data\n",
      "--- (7) ---\n",
      "Training started at 1645293029.1111624\n",
      "Epoch 0: 69.15970611572266\n",
      "Epoch 5000: 50.774635314941406\n",
      "Training finished at 1645293042.0978994; lasted 12.98673701286316 seconds.\n",
      "75.08 % success on test data\n",
      "--- (8) ---\n",
      "Training started at 1645293042.884379\n",
      "Epoch 0: 69.081298828125\n",
      "Epoch 5000: 45.83472442626953\n",
      "Training finished at 1645293055.9915164; lasted 13.107137441635132 seconds.\n",
      "80.93 % success on test data\n",
      "--- (9) ---\n",
      "Training started at 1645293056.7696903\n",
      "Epoch 0: 69.10250091552734\n",
      "Epoch 5000: 45.448089599609375\n",
      "Training finished at 1645293069.8770208; lasted 13.107330560684204 seconds.\n",
      "91.02 % success on test data\n"
     ]
    }
   ],
   "source": [
    "for i in range(10):\n",
    "    print(f'--- ({i}) ---')\n",
    "    hubert = ModelManager.get_untrained(ModelType.MnistMLPHubert)\n",
    "    Coach.train(\n",
    "        hubert,\n",
    "        data,\n",
    "        nn.CrossEntropyLoss(reduction='sum'),\n",
    "        optim.SGD(hubert.parameters(), lr=1e-2),\n",
    "        30,\n",
    "        5001,\n",
    "        5000\n",
    "    )\n",
    "    simple.append(Coach.measure_performance(hubert, data))"
   ]
  },
  {
   "cell_type": "code",
   "execution_count": 11,
   "metadata": {},
   "outputs": [
    {
     "name": "stdout",
     "output_type": "stream",
     "text": [
      "--- (0) ---\n",
      "Training started at 1645293081.609383\n",
      "Epoch 0: 68.93873596191406\n",
      "Epoch 5000: 50.59092712402344\n",
      "Training finished at 1645293095.0708525; lasted 13.461469411849976 seconds.\n",
      "82.82000000000001 % success on test data\n",
      "--- (1) ---\n",
      "Training started at 1645293095.8514802\n",
      "Epoch 0: 69.10186767578125\n",
      "Epoch 5000: 51.50373840332031\n",
      "Training finished at 1645293109.548066; lasted 13.696585655212402 seconds.\n",
      "73.94 % success on test data\n",
      "--- (2) ---\n",
      "Training started at 1645293110.3182375\n",
      "Epoch 0: 69.06907653808594\n",
      "Epoch 5000: 51.71635818481445\n",
      "Training finished at 1645293124.02532; lasted 13.707082509994507 seconds.\n",
      "75.33 % success on test data\n",
      "--- (3) ---\n",
      "Training started at 1645293124.8293047\n",
      "Epoch 0: 69.0876693725586\n",
      "Epoch 5000: 47.85976028442383\n",
      "Training finished at 1645293138.616624; lasted 13.787319421768188 seconds.\n",
      "75.27000000000001 % success on test data\n",
      "--- (4) ---\n",
      "Training started at 1645293139.4118032\n",
      "Epoch 0: 69.25630950927734\n",
      "Epoch 5000: 46.84089660644531\n",
      "Training finished at 1645293152.8487277; lasted 13.436924457550049 seconds.\n",
      "82.15 % success on test data\n",
      "--- (5) ---\n",
      "Training started at 1645293153.6187332\n",
      "Epoch 0: 69.0766830444336\n",
      "Epoch 5000: 49.82487487792969\n",
      "Training finished at 1645293167.116031; lasted 13.497297763824463 seconds.\n",
      "75.62 % success on test data\n",
      "--- (6) ---\n",
      "Training started at 1645293167.9022923\n",
      "Epoch 0: 69.08805084228516\n",
      "Epoch 5000: 49.803890228271484\n",
      "Training finished at 1645293181.4241924; lasted 13.521900177001953 seconds.\n",
      "75.26 % success on test data\n",
      "--- (7) ---\n",
      "Training started at 1645293182.1924236\n",
      "Epoch 0: 68.96231842041016\n",
      "Epoch 5000: 48.495601654052734\n",
      "Training finished at 1645293195.811972; lasted 13.619548320770264 seconds.\n",
      "83.64 % success on test data\n",
      "--- (8) ---\n",
      "Training started at 1645293196.599691\n",
      "Epoch 0: 68.9475326538086\n",
      "Epoch 5000: 54.045589447021484\n",
      "Training finished at 1645293210.1172493; lasted 13.517558336257935 seconds.\n",
      "74.9 % success on test data\n",
      "--- (9) ---\n",
      "Training started at 1645293210.8875766\n",
      "Epoch 0: 69.00640869140625\n",
      "Epoch 5000: 46.79949951171875\n",
      "Training finished at 1645293224.5299346; lasted 13.64235806465149 seconds.\n",
      "88.53999999999999 % success on test data\n"
     ]
    }
   ],
   "source": [
    "for i in range(10):\n",
    "    print(f'--- ({i}) ---')\n",
    "    hubert = ModelManager.get_untrained(ModelType.MnistMLPHubert)\n",
    "    Coach.train(\n",
    "        hubert,\n",
    "        data,\n",
    "        nn.CrossEntropyLoss(reduction='sum'),\n",
    "        optim.SGD(hubert.parameters(), lr=1e-3, momentum=0.9),\n",
    "        30,\n",
    "        5001,\n",
    "        5000\n",
    "    )\n",
    "    momentum.append(Coach.measure_performance(hubert, data))"
   ]
  },
  {
   "cell_type": "code",
   "execution_count": 12,
   "metadata": {},
   "outputs": [
    {
     "name": "stdout",
     "output_type": "stream",
     "text": [
      "--- (0) ---\n",
      "Training started at 1645293225.3871915\n",
      "Epoch 0: 69.09305572509766\n",
      "Epoch 5000: 50.817325592041016\n",
      "Training finished at 1645293239.414752; lasted 14.027560472488403 seconds.\n",
      "80.76 % success on test data\n",
      "--- (1) ---\n",
      "Training started at 1645293240.209468\n",
      "Epoch 0: 68.83027648925781\n",
      "Epoch 5000: 48.43691635131836\n",
      "Training finished at 1645293254.0611253; lasted 13.851657390594482 seconds.\n",
      "83.87 % success on test data\n",
      "--- (2) ---\n",
      "Training started at 1645293254.8446412\n",
      "Epoch 0: 69.1031494140625\n",
      "Epoch 5000: 49.8341064453125\n",
      "Training finished at 1645293268.9080763; lasted 14.063435077667236 seconds.\n",
      "79.75 % success on test data\n",
      "--- (3) ---\n",
      "Training started at 1645293269.6553466\n",
      "Epoch 0: 69.20979309082031\n",
      "Epoch 5000: 48.799072265625\n",
      "Training finished at 1645293283.6074839; lasted 13.952137231826782 seconds.\n",
      "89.55 % success on test data\n",
      "--- (4) ---\n",
      "Training started at 1645293284.3806565\n",
      "Epoch 0: 69.09915161132812\n",
      "Epoch 5000: 52.79261779785156\n",
      "Training finished at 1645293298.3564937; lasted 13.975837230682373 seconds.\n",
      "74.96000000000001 % success on test data\n",
      "--- (5) ---\n",
      "Training started at 1645293299.1346064\n",
      "Epoch 0: 69.28289794921875\n",
      "Epoch 5000: 53.469242095947266\n",
      "Training finished at 1645293313.2136655; lasted 14.07905912399292 seconds.\n",
      "81.73 % success on test data\n",
      "--- (6) ---\n",
      "Training started at 1645293314.00832\n",
      "Epoch 0: 69.11254119873047\n",
      "Epoch 5000: 53.67166519165039\n",
      "Training finished at 1645293327.9817765; lasted 13.973456382751465 seconds.\n",
      "83.03 % success on test data\n",
      "--- (7) ---\n",
      "Training started at 1645293328.7392013\n",
      "Epoch 0: 69.13174438476562\n",
      "Epoch 5000: 46.82159423828125\n",
      "Training finished at 1645293342.5901623; lasted 13.850960969924927 seconds.\n",
      "83.08 % success on test data\n",
      "--- (8) ---\n",
      "Training started at 1645293343.351727\n",
      "Epoch 0: 68.93955993652344\n",
      "Epoch 5000: 48.83613586425781\n",
      "Training finished at 1645293357.3837476; lasted 14.032020568847656 seconds.\n",
      "84.36 % success on test data\n",
      "--- (9) ---\n",
      "Training started at 1645293358.1535273\n",
      "Epoch 0: 68.90983581542969\n",
      "Epoch 5000: 49.79247283935547\n",
      "Training finished at 1645293372.0553827; lasted 13.90185546875 seconds.\n",
      "82.27 % success on test data\n"
     ]
    }
   ],
   "source": [
    "for i in range(10):\n",
    "    print(f'--- ({i}) ---')\n",
    "    hubert = ModelManager.get_untrained(ModelType.MnistMLPHubert)\n",
    "    Coach.train(\n",
    "        hubert,\n",
    "        data,\n",
    "        nn.CrossEntropyLoss(reduction='sum'),\n",
    "        optim.SGD(hubert.parameters(), lr=1e-3, momentum=0.9, nesterov=True),\n",
    "        30,\n",
    "        5001,\n",
    "        5000\n",
    "    )\n",
    "    nesterov.append(Coach.measure_performance(hubert, data))"
   ]
  },
  {
   "cell_type": "code",
   "execution_count": 13,
   "metadata": {},
   "outputs": [
    {
     "name": "stdout",
     "output_type": "stream",
     "text": [
      "--- Simple ---\n",
      "Mean: 0.8242899999999999\n",
      "Max: 0.9102\n",
      "Min: 0.7125\n",
      "--- Momentum ---\n",
      "Mean: 0.78747\n",
      "Max: 0.8854\n",
      "Min: 0.7394\n",
      "--- Nesterov ---\n",
      "Mean: 0.8233600000000001\n",
      "Max: 0.8955\n",
      "Min: 0.7496\n"
     ]
    }
   ],
   "source": [
    "print('--- Simple ---')\n",
    "print(f'Mean: {sum(simple) / 10}')\n",
    "print(f'Max: {max(simple)}')\n",
    "print(f'Min: {min(simple)}')\n",
    "print('--- Momentum ---')\n",
    "print(f'Mean: {sum(momentum) / 10}')\n",
    "print(f'Max: {max(momentum)}')\n",
    "print(f'Min: {min(momentum)}')\n",
    "print('--- Nesterov ---')\n",
    "print(f'Mean: {sum(nesterov) / 10}')\n",
    "print(f'Max: {max(nesterov)}')\n",
    "print(f'Min: {min(nesterov)}')"
   ]
  },
  {
   "cell_type": "code",
   "execution_count": 15,
   "metadata": {},
   "outputs": [
    {
     "name": "stdout",
     "output_type": "stream",
     "text": [
      "Training started at 1645294591.579562\n",
      "Epoch 0: 2303.36962890625\n",
      "Epoch 100: 1994.4090576171875\n",
      "Epoch 200: 1991.8958740234375\n",
      "Epoch 300: 1912.4219970703125\n",
      "Epoch 400: 1988.417724609375\n",
      "Epoch 500: 1956.6212158203125\n"
     ]
    },
    {
     "ename": "KeyboardInterrupt",
     "evalue": "",
     "output_type": "error",
     "traceback": [
      "\u001b[1;31m---------------------------------------------------------------------------\u001b[0m",
      "\u001b[1;31mKeyboardInterrupt\u001b[0m                         Traceback (most recent call last)",
      "\u001b[1;32m~\\AppData\\Local\\Temp/ipykernel_10704/1997570443.py\u001b[0m in \u001b[0;36m<module>\u001b[1;34m\u001b[0m\n\u001b[0;32m      1\u001b[0m \u001b[0mhubert\u001b[0m \u001b[1;33m=\u001b[0m \u001b[0mModelManager\u001b[0m\u001b[1;33m.\u001b[0m\u001b[0mget_untrained\u001b[0m\u001b[1;33m(\u001b[0m\u001b[0mModelType\u001b[0m\u001b[1;33m.\u001b[0m\u001b[0mMnistMLPHubert\u001b[0m\u001b[1;33m)\u001b[0m\u001b[1;33m\u001b[0m\u001b[1;33m\u001b[0m\u001b[0m\n\u001b[1;32m----> 2\u001b[1;33m Coach.train(\n\u001b[0m\u001b[0;32m      3\u001b[0m     \u001b[0mhubert\u001b[0m\u001b[1;33m,\u001b[0m\u001b[1;33m\u001b[0m\u001b[1;33m\u001b[0m\u001b[0m\n\u001b[0;32m      4\u001b[0m     \u001b[0mdata\u001b[0m\u001b[1;33m,\u001b[0m\u001b[1;33m\u001b[0m\u001b[1;33m\u001b[0m\u001b[0m\n\u001b[0;32m      5\u001b[0m     \u001b[0mnn\u001b[0m\u001b[1;33m.\u001b[0m\u001b[0mCrossEntropyLoss\u001b[0m\u001b[1;33m(\u001b[0m\u001b[0mreduction\u001b[0m\u001b[1;33m=\u001b[0m\u001b[1;34m'sum'\u001b[0m\u001b[1;33m)\u001b[0m\u001b[1;33m,\u001b[0m\u001b[1;33m\u001b[0m\u001b[1;33m\u001b[0m\u001b[0m\n",
      "\u001b[1;32mc:\\Users\\stani\\Documents\\school\\BP\\robust\\robust\\Code\\training.py\u001b[0m in \u001b[0;36mtrain\u001b[1;34m(model, training_data, loss_function, optimizer, batch_size, epochs, noisy)\u001b[0m\n\u001b[0;32m     21\u001b[0m         \u001b[0mprint\u001b[0m\u001b[1;33m(\u001b[0m\u001b[1;34mf'Training started at {t}'\u001b[0m\u001b[1;33m)\u001b[0m\u001b[1;33m\u001b[0m\u001b[1;33m\u001b[0m\u001b[0m\n\u001b[0;32m     22\u001b[0m         \u001b[1;32mfor\u001b[0m \u001b[0mepoch\u001b[0m \u001b[1;32min\u001b[0m \u001b[0mrange\u001b[0m\u001b[1;33m(\u001b[0m\u001b[0mepochs\u001b[0m\u001b[1;33m)\u001b[0m\u001b[1;33m:\u001b[0m\u001b[1;33m\u001b[0m\u001b[1;33m\u001b[0m\u001b[0m\n\u001b[1;32m---> 23\u001b[1;33m             \u001b[0mdata\u001b[0m\u001b[1;33m,\u001b[0m \u001b[0mlabels\u001b[0m \u001b[1;33m=\u001b[0m \u001b[0mtraining_data\u001b[0m\u001b[1;33m.\u001b[0m\u001b[0mget_training_batch\u001b[0m\u001b[1;33m(\u001b[0m\u001b[0mbatch_size\u001b[0m\u001b[1;33m)\u001b[0m\u001b[1;33m\u001b[0m\u001b[1;33m\u001b[0m\u001b[0m\n\u001b[0m\u001b[0;32m     24\u001b[0m             \u001b[0mloss\u001b[0m \u001b[1;33m=\u001b[0m \u001b[0mloss_function\u001b[0m\u001b[1;33m(\u001b[0m\u001b[0mmodel\u001b[0m\u001b[1;33m(\u001b[0m\u001b[0mdata\u001b[0m\u001b[1;33m)\u001b[0m\u001b[1;33m,\u001b[0m \u001b[0mlabels\u001b[0m\u001b[1;33m)\u001b[0m\u001b[1;33m\u001b[0m\u001b[1;33m\u001b[0m\u001b[0m\n\u001b[0;32m     25\u001b[0m             \u001b[0moptimizer\u001b[0m\u001b[1;33m.\u001b[0m\u001b[0mzero_grad\u001b[0m\u001b[1;33m(\u001b[0m\u001b[1;33m)\u001b[0m\u001b[1;33m\u001b[0m\u001b[1;33m\u001b[0m\u001b[0m\n",
      "\u001b[1;32mc:\\Users\\stani\\Documents\\school\\BP\\robust\\robust\\Code\\utils.py\u001b[0m in \u001b[0;36mget_training_batch\u001b[1;34m(self, batch_size)\u001b[0m\n\u001b[0;32m     69\u001b[0m     \u001b[1;32mdef\u001b[0m \u001b[0mget_training_batch\u001b[0m\u001b[1;33m(\u001b[0m\u001b[0mself\u001b[0m\u001b[1;33m,\u001b[0m \u001b[0mbatch_size\u001b[0m\u001b[1;33m=\u001b[0m\u001b[1;36m100\u001b[0m\u001b[1;33m)\u001b[0m \u001b[1;33m->\u001b[0m \u001b[0mTuple\u001b[0m\u001b[1;33m[\u001b[0m\u001b[0mtorch\u001b[0m\u001b[1;33m.\u001b[0m\u001b[0mTensor\u001b[0m\u001b[1;33m,\u001b[0m \u001b[0mtorch\u001b[0m\u001b[1;33m.\u001b[0m\u001b[0mTensor\u001b[0m\u001b[1;33m]\u001b[0m\u001b[1;33m:\u001b[0m\u001b[1;33m\u001b[0m\u001b[1;33m\u001b[0m\u001b[0m\n\u001b[0;32m     70\u001b[0m         \u001b[0mindexes\u001b[0m \u001b[1;33m=\u001b[0m \u001b[1;33m[\u001b[0m\u001b[0mrandom\u001b[0m\u001b[1;33m.\u001b[0m\u001b[0mrandint\u001b[0m\u001b[1;33m(\u001b[0m\u001b[1;36m0\u001b[0m\u001b[1;33m,\u001b[0m \u001b[0mlen\u001b[0m\u001b[1;33m(\u001b[0m\u001b[0mself\u001b[0m\u001b[1;33m.\u001b[0m\u001b[0mtraining_images\u001b[0m\u001b[1;33m)\u001b[0m \u001b[1;33m-\u001b[0m \u001b[1;36m1\u001b[0m\u001b[1;33m)\u001b[0m \u001b[1;32mfor\u001b[0m \u001b[0m_\u001b[0m \u001b[1;32min\u001b[0m \u001b[0mrange\u001b[0m\u001b[1;33m(\u001b[0m\u001b[0mbatch_size\u001b[0m\u001b[1;33m)\u001b[0m\u001b[1;33m]\u001b[0m\u001b[1;33m\u001b[0m\u001b[1;33m\u001b[0m\u001b[0m\n\u001b[1;32m---> 71\u001b[1;33m         \u001b[0mimages\u001b[0m \u001b[1;33m=\u001b[0m \u001b[1;33m[\u001b[0m\u001b[0mself\u001b[0m\u001b[1;33m.\u001b[0m\u001b[0mtraining_images\u001b[0m\u001b[1;33m[\u001b[0m\u001b[0mindex\u001b[0m\u001b[1;33m]\u001b[0m\u001b[1;33m.\u001b[0m\u001b[0mtolist\u001b[0m\u001b[1;33m(\u001b[0m\u001b[1;33m)\u001b[0m \u001b[1;32mfor\u001b[0m \u001b[0mindex\u001b[0m \u001b[1;32min\u001b[0m \u001b[0mindexes\u001b[0m\u001b[1;33m]\u001b[0m\u001b[1;33m\u001b[0m\u001b[1;33m\u001b[0m\u001b[0m\n\u001b[0m\u001b[0;32m     72\u001b[0m         \u001b[0mlabels\u001b[0m \u001b[1;33m=\u001b[0m \u001b[1;33m[\u001b[0m\u001b[0mself\u001b[0m\u001b[1;33m.\u001b[0m\u001b[0mtraining_labels\u001b[0m\u001b[1;33m[\u001b[0m\u001b[0mindex\u001b[0m\u001b[1;33m]\u001b[0m \u001b[1;32mfor\u001b[0m \u001b[0mindex\u001b[0m \u001b[1;32min\u001b[0m \u001b[0mindexes\u001b[0m\u001b[1;33m]\u001b[0m\u001b[1;33m\u001b[0m\u001b[1;33m\u001b[0m\u001b[0m\n\u001b[0;32m     73\u001b[0m         \u001b[1;32mreturn\u001b[0m \u001b[0mtorch\u001b[0m\u001b[1;33m.\u001b[0m\u001b[0mtensor\u001b[0m\u001b[1;33m(\u001b[0m\u001b[0mimages\u001b[0m\u001b[1;33m)\u001b[0m\u001b[1;33m,\u001b[0m \u001b[0mtorch\u001b[0m\u001b[1;33m.\u001b[0m\u001b[0mtensor\u001b[0m\u001b[1;33m(\u001b[0m\u001b[0mlabels\u001b[0m\u001b[1;33m)\u001b[0m\u001b[1;33m\u001b[0m\u001b[1;33m\u001b[0m\u001b[0m\n",
      "\u001b[1;32mc:\\Users\\stani\\Documents\\school\\BP\\robust\\robust\\Code\\utils.py\u001b[0m in \u001b[0;36m<listcomp>\u001b[1;34m(.0)\u001b[0m\n\u001b[0;32m     69\u001b[0m     \u001b[1;32mdef\u001b[0m \u001b[0mget_training_batch\u001b[0m\u001b[1;33m(\u001b[0m\u001b[0mself\u001b[0m\u001b[1;33m,\u001b[0m \u001b[0mbatch_size\u001b[0m\u001b[1;33m=\u001b[0m\u001b[1;36m100\u001b[0m\u001b[1;33m)\u001b[0m \u001b[1;33m->\u001b[0m \u001b[0mTuple\u001b[0m\u001b[1;33m[\u001b[0m\u001b[0mtorch\u001b[0m\u001b[1;33m.\u001b[0m\u001b[0mTensor\u001b[0m\u001b[1;33m,\u001b[0m \u001b[0mtorch\u001b[0m\u001b[1;33m.\u001b[0m\u001b[0mTensor\u001b[0m\u001b[1;33m]\u001b[0m\u001b[1;33m:\u001b[0m\u001b[1;33m\u001b[0m\u001b[1;33m\u001b[0m\u001b[0m\n\u001b[0;32m     70\u001b[0m         \u001b[0mindexes\u001b[0m \u001b[1;33m=\u001b[0m \u001b[1;33m[\u001b[0m\u001b[0mrandom\u001b[0m\u001b[1;33m.\u001b[0m\u001b[0mrandint\u001b[0m\u001b[1;33m(\u001b[0m\u001b[1;36m0\u001b[0m\u001b[1;33m,\u001b[0m \u001b[0mlen\u001b[0m\u001b[1;33m(\u001b[0m\u001b[0mself\u001b[0m\u001b[1;33m.\u001b[0m\u001b[0mtraining_images\u001b[0m\u001b[1;33m)\u001b[0m \u001b[1;33m-\u001b[0m \u001b[1;36m1\u001b[0m\u001b[1;33m)\u001b[0m \u001b[1;32mfor\u001b[0m \u001b[0m_\u001b[0m \u001b[1;32min\u001b[0m \u001b[0mrange\u001b[0m\u001b[1;33m(\u001b[0m\u001b[0mbatch_size\u001b[0m\u001b[1;33m)\u001b[0m\u001b[1;33m]\u001b[0m\u001b[1;33m\u001b[0m\u001b[1;33m\u001b[0m\u001b[0m\n\u001b[1;32m---> 71\u001b[1;33m         \u001b[0mimages\u001b[0m \u001b[1;33m=\u001b[0m \u001b[1;33m[\u001b[0m\u001b[0mself\u001b[0m\u001b[1;33m.\u001b[0m\u001b[0mtraining_images\u001b[0m\u001b[1;33m[\u001b[0m\u001b[0mindex\u001b[0m\u001b[1;33m]\u001b[0m\u001b[1;33m.\u001b[0m\u001b[0mtolist\u001b[0m\u001b[1;33m(\u001b[0m\u001b[1;33m)\u001b[0m \u001b[1;32mfor\u001b[0m \u001b[0mindex\u001b[0m \u001b[1;32min\u001b[0m \u001b[0mindexes\u001b[0m\u001b[1;33m]\u001b[0m\u001b[1;33m\u001b[0m\u001b[1;33m\u001b[0m\u001b[0m\n\u001b[0m\u001b[0;32m     72\u001b[0m         \u001b[0mlabels\u001b[0m \u001b[1;33m=\u001b[0m \u001b[1;33m[\u001b[0m\u001b[0mself\u001b[0m\u001b[1;33m.\u001b[0m\u001b[0mtraining_labels\u001b[0m\u001b[1;33m[\u001b[0m\u001b[0mindex\u001b[0m\u001b[1;33m]\u001b[0m \u001b[1;32mfor\u001b[0m \u001b[0mindex\u001b[0m \u001b[1;32min\u001b[0m \u001b[0mindexes\u001b[0m\u001b[1;33m]\u001b[0m\u001b[1;33m\u001b[0m\u001b[1;33m\u001b[0m\u001b[0m\n\u001b[0;32m     73\u001b[0m         \u001b[1;32mreturn\u001b[0m \u001b[0mtorch\u001b[0m\u001b[1;33m.\u001b[0m\u001b[0mtensor\u001b[0m\u001b[1;33m(\u001b[0m\u001b[0mimages\u001b[0m\u001b[1;33m)\u001b[0m\u001b[1;33m,\u001b[0m \u001b[0mtorch\u001b[0m\u001b[1;33m.\u001b[0m\u001b[0mtensor\u001b[0m\u001b[1;33m(\u001b[0m\u001b[0mlabels\u001b[0m\u001b[1;33m)\u001b[0m\u001b[1;33m\u001b[0m\u001b[1;33m\u001b[0m\u001b[0m\n",
      "\u001b[1;31mKeyboardInterrupt\u001b[0m: "
     ]
    }
   ],
   "source": [
    "hubert = ModelManager.get_untrained(ModelType.MnistMLPHubert)\n",
    "Coach.train(\n",
    "    hubert,\n",
    "    data,\n",
    "    nn.CrossEntropyLoss(reduction='sum'),\n",
    "    optim.SGD(hubert.parameters(), lr=1e-2),\n",
    "    1000,\n",
    "    5001,\n",
    "    100\n",
    ")\n"
   ]
  },
  {
   "cell_type": "code",
   "execution_count": 16,
   "metadata": {},
   "outputs": [
    {
     "name": "stdout",
     "output_type": "stream",
     "text": [
      "51.05 % success on test data\n"
     ]
    },
    {
     "data": {
      "text/plain": [
       "0.5105"
      ]
     },
     "execution_count": 16,
     "metadata": {},
     "output_type": "execute_result"
    }
   ],
   "source": [
    "Coach.measure_performance(hubert, data)"
   ]
  }
 ],
 "metadata": {
  "interpreter": {
   "hash": "b9d03d93fdbeeb361cc45deae4888a34596acc9ca3c93366af240ad46910d2d2"
  },
  "kernelspec": {
   "display_name": "Python 3.8.10 64-bit",
   "language": "python",
   "name": "python3"
  },
  "language_info": {
   "codemirror_mode": {
    "name": "ipython",
    "version": 3
   },
   "file_extension": ".py",
   "mimetype": "text/x-python",
   "name": "python",
   "nbconvert_exporter": "python",
   "pygments_lexer": "ipython3",
   "version": "3.8.10"
  },
  "orig_nbformat": 4
 },
 "nbformat": 4,
 "nbformat_minor": 2
}
