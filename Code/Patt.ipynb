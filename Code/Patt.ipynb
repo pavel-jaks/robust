{
 "cells": [
  {
   "cell_type": "code",
   "execution_count": 1,
   "metadata": {},
   "outputs": [],
   "source": [
    "%load_ext autoreload\n",
    "%autoreload 2"
   ]
  },
  {
   "cell_type": "code",
   "execution_count": 2,
   "metadata": {},
   "outputs": [],
   "source": [
    "import torch.nn as nn\n",
    "import torch.optim as optim"
   ]
  },
  {
   "cell_type": "code",
   "execution_count": 3,
   "metadata": {},
   "outputs": [],
   "source": [
    "from training import Coach\n",
    "from utils import MnistData\n",
    "from models import ModelManager, ModelType"
   ]
  },
  {
   "cell_type": "code",
   "execution_count": 4,
   "metadata": {},
   "outputs": [],
   "source": [
    "data = MnistData()"
   ]
  },
  {
   "cell_type": "code",
   "execution_count": 7,
   "metadata": {},
   "outputs": [
    {
     "name": "stdout",
     "output_type": "stream",
     "text": [
      "Training started at 1646920268.2582865\n",
      "Epoch 0: 230.38771057128906: -1\n",
      "Epoch 500: 148.16685485839844: -1\n",
      "Epoch 1000: 148.25770568847656: -1\n",
      "Epoch 1500: 146.1258087158203: -1\n",
      "Epoch 2000: 147.96990966796875: -1\n",
      "Epoch 2500: 146.1744842529297: -1\n",
      "Epoch 3000: 146.7099609375: -1\n",
      "Epoch 3500: 146.12669372558594: -1\n",
      "Epoch 4000: 146.2323760986328: -1\n",
      "Epoch 4500: 147.115234375: -1\n",
      "Epoch 5000: 147.0254364013672: -1\n",
      "Training finished at 1646920628.593434; lasted 360.33514761924744 seconds.\n",
      "98.3 % success on test data\n"
     ]
    },
    {
     "data": {
      "text/plain": [
       "0.983"
      ]
     },
     "execution_count": 7,
     "metadata": {},
     "output_type": "execute_result"
    }
   ],
   "source": [
    "model = ModelManager.get_untrained(ModelType.MnistCnnPatt)\n",
    "Coach.train(\n",
    "    model,\n",
    "    data,\n",
    "    nn.CrossEntropyLoss(reduction='sum'),\n",
    "    optim.RMSprop(model.parameters(), lr=1e-3),\n",
    "    100,\n",
    "    5001,\n",
    "    500\n",
    ")\n",
    "Coach.measure_performance(model, data)"
   ]
  },
  {
   "cell_type": "code",
   "execution_count": null,
   "metadata": {},
   "outputs": [],
   "source": [
    "ModelManager.save_model(ModelType.MnistCnnPatt, model)"
   ]
  }
 ],
 "metadata": {
  "interpreter": {
   "hash": "b9d03d93fdbeeb361cc45deae4888a34596acc9ca3c93366af240ad46910d2d2"
  },
  "kernelspec": {
   "display_name": "Python 3.8.10 64-bit",
   "language": "python",
   "name": "python3"
  },
  "language_info": {
   "codemirror_mode": {
    "name": "ipython",
    "version": 3
   },
   "file_extension": ".py",
   "mimetype": "text/x-python",
   "name": "python",
   "nbconvert_exporter": "python",
   "pygments_lexer": "ipython3",
   "version": "3.8.10"
  },
  "orig_nbformat": 4
 },
 "nbformat": 4,
 "nbformat_minor": 2
}
