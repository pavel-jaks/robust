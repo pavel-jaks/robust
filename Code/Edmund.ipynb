{
 "cells": [
  {
   "cell_type": "code",
   "execution_count": 1,
   "metadata": {},
   "outputs": [],
   "source": [
    "%load_ext autoreload\n",
    "%autoreload 2"
   ]
  },
  {
   "cell_type": "code",
   "execution_count": 2,
   "metadata": {},
   "outputs": [],
   "source": [
    "import torch.nn as nn\n",
    "import torch.optim as optim"
   ]
  },
  {
   "cell_type": "code",
   "execution_count": 3,
   "metadata": {},
   "outputs": [],
   "source": [
    "from training import Coach\n",
    "from utils import MnistData\n",
    "from models import ModelManager, ModelType"
   ]
  },
  {
   "cell_type": "code",
   "execution_count": 12,
   "metadata": {},
   "outputs": [],
   "source": [
    "edmund = ModelManager.get_untrained(ModelType.MnistCnnEdmund)"
   ]
  },
  {
   "cell_type": "code",
   "execution_count": 5,
   "metadata": {},
   "outputs": [],
   "source": [
    "data = MnistData()"
   ]
  },
  {
   "cell_type": "code",
   "execution_count": 13,
   "metadata": {},
   "outputs": [
    {
     "name": "stdout",
     "output_type": "stream",
     "text": [
      "Training Phase 1\n",
      "Training started at 1644603442.8843675\n",
      "Epoch 0: 69.03681182861328\n",
      "Epoch 1000: 50.65272521972656\n",
      "Epoch 2000: 53.82648468017578\n",
      "Epoch 3000: 45.43211364746094\n",
      "Epoch 4000: 44.80750274658203\n",
      "Epoch 5000: 45.928871154785156\n",
      "Training finished at 1644603481.416004; lasted 38.531636476516724 seconds.\n",
      "Training Phase 2\n",
      "Training started at 1644603481.416004\n",
      "Epoch 0: 151.767333984375\n",
      "Epoch 100: 148.33599853515625\n",
      "Epoch 200: 151.0974578857422\n",
      "Epoch 300: 146.15423583984375\n",
      "Epoch 400: 149.46401977539062\n",
      "Epoch 500: 147.14068603515625\n",
      "Epoch 600: 150.298828125\n",
      "Epoch 700: 148.1156005859375\n",
      "Epoch 800: 148.63778686523438\n",
      "Epoch 900: 152.80728149414062\n",
      "Epoch 1000: 147.41744995117188\n",
      "Training finished at 1644603502.5073712; lasted 21.09136724472046 seconds.\n",
      "Training Phase 3\n",
      "Training started at 1644603502.5083718\n",
      "Epoch 0: 1482.70849609375\n",
      "Epoch 50: 1486.7933349609375\n",
      "Epoch 100: 1477.556884765625\n",
      "Epoch 150: 1481.957763671875\n",
      "Epoch 200: 1479.091796875\n",
      "Epoch 250: 1481.84765625\n",
      "Epoch 300: 1485.296630859375\n",
      "Epoch 350: 1486.502197265625\n",
      "Epoch 400: 1479.253173828125\n",
      "Epoch 450: 1480.856689453125\n",
      "Epoch 500: 1490.1611328125\n",
      "Training finished at 1644603608.7419116; lasted 106.23353981971741 seconds.\n",
      "All training Phases finished\n"
     ]
    }
   ],
   "source": [
    "Coach.train_combined(\n",
    "    edmund,\n",
    "    data,\n",
    "    nn.CrossEntropyLoss(reduction='sum')\n",
    ")"
   ]
  },
  {
   "cell_type": "code",
   "execution_count": 14,
   "metadata": {},
   "outputs": [
    {
     "name": "stdout",
     "output_type": "stream",
     "text": [
      "97.96000000000001 % success on test data\n"
     ]
    }
   ],
   "source": [
    "Coach.measure_performance(edmund, data)"
   ]
  },
  {
   "cell_type": "code",
   "execution_count": 15,
   "metadata": {},
   "outputs": [],
   "source": [
    "ModelManager.save_model(ModelType.MnistCnnEdmund, edmund)"
   ]
  }
 ],
 "metadata": {
  "interpreter": {
   "hash": "b9d03d93fdbeeb361cc45deae4888a34596acc9ca3c93366af240ad46910d2d2"
  },
  "kernelspec": {
   "display_name": "Python 3.8.10 64-bit",
   "language": "python",
   "name": "python3"
  },
  "language_info": {
   "codemirror_mode": {
    "name": "ipython",
    "version": 3
   },
   "file_extension": ".py",
   "mimetype": "text/x-python",
   "name": "python",
   "nbconvert_exporter": "python",
   "pygments_lexer": "ipython3",
   "version": "3.8.10"
  },
  "orig_nbformat": 4
 },
 "nbformat": 4,
 "nbformat_minor": 2
}
