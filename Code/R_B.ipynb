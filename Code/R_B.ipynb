{
 "cells": [
  {
   "cell_type": "markdown",
   "metadata": {},
   "source": [
    "# Robust training of CNN model of type B"
   ]
  },
  {
   "cell_type": "code",
   "execution_count": 1,
   "metadata": {},
   "outputs": [],
   "source": [
    "%load_ext autoreload\n",
    "%autoreload 2"
   ]
  },
  {
   "cell_type": "code",
   "execution_count": 2,
   "metadata": {},
   "outputs": [],
   "source": [
    "import math"
   ]
  },
  {
   "cell_type": "code",
   "execution_count": 3,
   "metadata": {},
   "outputs": [],
   "source": [
    "import torch.nn as nn\n",
    "import torch.optim as optim"
   ]
  },
  {
   "cell_type": "code",
   "execution_count": 4,
   "metadata": {},
   "outputs": [],
   "source": [
    "from training import Coach\n",
    "from utils import MnistData\n",
    "from models import ModelManager, ModelType"
   ]
  },
  {
   "cell_type": "code",
   "execution_count": 5,
   "metadata": {},
   "outputs": [],
   "source": [
    "data = MnistData()"
   ]
  },
  {
   "cell_type": "code",
   "execution_count": 10,
   "metadata": {},
   "outputs": [],
   "source": [
    "model = ModelManager.get_untrained(ModelType.MnistCnnBRobust)"
   ]
  },
  {
   "cell_type": "code",
   "execution_count": 11,
   "metadata": {},
   "outputs": [
    {
     "name": "stdout",
     "output_type": "stream",
     "text": [
      "Training started at 1654523525.7265067\n",
      "Epoch 0: 2.304856061935425: 0.13\n",
      "Epoch 10: 2.304783344268799: 0.1\n",
      "Epoch 20: 2.303250312805176: 0.11\n",
      "Epoch 30: 2.302595376968384: 0.16\n",
      "Epoch 40: 2.3034708499908447: 0.12\n",
      "Epoch 50: 2.303241491317749: 0.16\n",
      "Epoch 60: 2.303572177886963: 0.15\n",
      "Epoch 70: 2.3031675815582275: 0.17\n",
      "Epoch 80: 2.304020404815674: 0.13\n",
      "Epoch 90: 2.3032329082489014: 0.12\n",
      "Epoch 100: 2.303584098815918: 0.08\n",
      "Epoch 110: 2.303516387939453: 0.11\n",
      "Epoch 120: 2.3012936115264893: 0.12\n",
      "Epoch 130: 2.3016726970672607: 0.13\n",
      "Epoch 140: 2.303215503692627: 0.09\n",
      "Epoch 150: 2.3036117553710938: 0.15\n",
      "Epoch 160: 2.304088830947876: 0.14\n",
      "Epoch 170: 2.3036210536956787: 0.19\n",
      "Epoch 180: 2.304015636444092: 0.2\n",
      "Epoch 190: 2.303169012069702: 0.15\n",
      "Epoch 200: 2.304391622543335: 0.14\n",
      "Epoch 210: 2.30429744720459: 0.06\n",
      "Epoch 220: 2.3045430183410645: 0.14\n",
      "Epoch 230: 2.302866220474243: 0.22\n",
      "Epoch 240: 2.3045167922973633: 0.12\n",
      "Epoch 250: 2.303912878036499: 0.13\n",
      "Epoch 260: 2.3041913509368896: 0.16\n",
      "Epoch 270: 2.3029589653015137: 0.08\n",
      "Epoch 280: 2.3027150630950928: 0.14\n",
      "Epoch 290: 2.304332733154297: 0.14\n",
      "Epoch 300: 2.303183078765869: 0.13\n",
      "Epoch 310: 2.3032302856445312: 0.2\n",
      "Epoch 320: 2.3052313327789307: 0.12\n",
      "Epoch 330: 2.304013252258301: 0.14\n",
      "Epoch 340: 2.30440616607666: 0.14\n",
      "Epoch 350: 2.303405284881592: 0.16\n",
      "Epoch 360: 2.302182912826538: 0.14\n",
      "Epoch 370: 2.3030588626861572: 0.08\n",
      "Epoch 380: 2.304504156112671: 0.12\n",
      "Epoch 390: 2.3021886348724365: 0.11\n",
      "Epoch 400: 2.3025944232940674: 0.1\n",
      "Epoch 410: 2.3035922050476074: 0.21\n",
      "Epoch 420: 2.3043806552886963: 0.12\n",
      "Epoch 430: 2.3039779663085938: 0.12\n",
      "Epoch 440: 2.303906202316284: 0.03\n",
      "Epoch 450: 2.3025355339050293: 0.11\n",
      "Epoch 460: 2.303217887878418: 0.08\n",
      "Epoch 470: 2.303312063217163: 0.12\n",
      "Epoch 480: 2.3029234409332275: 0.14\n",
      "Epoch 490: 2.3027381896972656: 0.16\n",
      "Epoch 500: 2.302100658416748: 0.04\n",
      "Epoch 510: 2.3031082153320312: 0.13\n",
      "Epoch 520: 2.3033437728881836: 0.14\n",
      "Epoch 530: 2.3021442890167236: 0.21\n",
      "Epoch 540: 2.302881956100464: 0.1\n",
      "Epoch 550: 2.3030648231506348: 0.09\n",
      "Epoch 560: 2.303626775741577: 0.09\n",
      "Epoch 570: 2.3033461570739746: 0.21\n",
      "Epoch 580: 2.3018386363983154: 0.09\n",
      "Epoch 590: 2.3042984008789062: 0.13\n",
      "Epoch 600: 2.305006742477417: 0.12\n",
      "Epoch 610: 2.3028981685638428: 0.11\n",
      "Epoch 620: 2.3047537803649902: 0.09\n",
      "Epoch 630: 2.3025386333465576: 0.15\n",
      "Epoch 640: 2.3030917644500732: 0.16\n",
      "Epoch 650: 2.3029792308807373: 0.12\n",
      "Epoch 660: 2.3018290996551514: 0.11\n",
      "Epoch 670: 2.302844762802124: 0.14\n",
      "Epoch 680: 2.3021671772003174: 0.13\n"
     ]
    },
    {
     "ename": "KeyboardInterrupt",
     "evalue": "",
     "output_type": "error",
     "traceback": [
      "\u001b[1;31m---------------------------------------------------------------------------\u001b[0m",
      "\u001b[1;31mKeyboardInterrupt\u001b[0m                         Traceback (most recent call last)",
      "\u001b[1;32m~\\AppData\\Local\\Temp/ipykernel_5648/859765974.py\u001b[0m in \u001b[0;36m<module>\u001b[1;34m\u001b[0m\n\u001b[1;32m----> 1\u001b[1;33m Coach.train_robust(\n\u001b[0m\u001b[0;32m      2\u001b[0m     \u001b[0mmodel\u001b[0m\u001b[1;33m,\u001b[0m\u001b[1;33m\u001b[0m\u001b[1;33m\u001b[0m\u001b[0m\n\u001b[0;32m      3\u001b[0m     \u001b[0mdata\u001b[0m\u001b[1;33m,\u001b[0m\u001b[1;33m\u001b[0m\u001b[1;33m\u001b[0m\u001b[0m\n\u001b[0;32m      4\u001b[0m     \u001b[0mnn\u001b[0m\u001b[1;33m.\u001b[0m\u001b[0mCrossEntropyLoss\u001b[0m\u001b[1;33m(\u001b[0m\u001b[1;33m)\u001b[0m\u001b[1;33m,\u001b[0m\u001b[1;33m\u001b[0m\u001b[1;33m\u001b[0m\u001b[0m\n\u001b[0;32m      5\u001b[0m     \u001b[0moptim\u001b[0m\u001b[1;33m.\u001b[0m\u001b[0mSGD\u001b[0m\u001b[1;33m(\u001b[0m\u001b[0mmodel\u001b[0m\u001b[1;33m.\u001b[0m\u001b[0mparameters\u001b[0m\u001b[1;33m(\u001b[0m\u001b[1;33m)\u001b[0m\u001b[1;33m,\u001b[0m \u001b[0mlr\u001b[0m\u001b[1;33m=\u001b[0m\u001b[1;36m1e-2\u001b[0m\u001b[1;33m)\u001b[0m\u001b[1;33m,\u001b[0m\u001b[1;33m\u001b[0m\u001b[1;33m\u001b[0m\u001b[0m\n",
      "\u001b[1;32mc:\\Users\\stani\\Documents\\school\\BP\\robust\\robust\\Code\\training.py\u001b[0m in \u001b[0;36mtrain_robust\u001b[1;34m(model, training_data, loss_function, optimizer, ball_radius, pgd_step_size, pgd_epochs, batch_size, epochs, noisy, too_noisy, minimum, maximum)\u001b[0m\n\u001b[0;32m     92\u001b[0m                 \u001b[1;32melse\u001b[0m\u001b[1;33m:\u001b[0m\u001b[1;33m\u001b[0m\u001b[1;33m\u001b[0m\u001b[0m\n\u001b[0;32m     93\u001b[0m                     \u001b[0mis_retain\u001b[0m \u001b[1;33m=\u001b[0m \u001b[1;32mFalse\u001b[0m\u001b[1;33m\u001b[0m\u001b[1;33m\u001b[0m\u001b[0m\n\u001b[1;32m---> 94\u001b[1;33m                 \u001b[0mloss\u001b[0m \u001b[1;33m=\u001b[0m \u001b[0mloss_function\u001b[0m\u001b[1;33m(\u001b[0m\u001b[0mmodel\u001b[0m\u001b[1;33m(\u001b[0m\u001b[0maltered_data\u001b[0m\u001b[1;33m)\u001b[0m\u001b[1;33m,\u001b[0m \u001b[0mlabels\u001b[0m\u001b[1;33m)\u001b[0m\u001b[1;33m.\u001b[0m\u001b[0mbackward\u001b[0m\u001b[1;33m(\u001b[0m\u001b[0mretain_graph\u001b[0m\u001b[1;33m=\u001b[0m\u001b[0mis_retain\u001b[0m\u001b[1;33m)\u001b[0m\u001b[1;33m\u001b[0m\u001b[1;33m\u001b[0m\u001b[0m\n\u001b[0m\u001b[0;32m     95\u001b[0m                 altered_data = Clipper.clip(\n\u001b[0;32m     96\u001b[0m                     \u001b[0mdata\u001b[0m\u001b[1;33m,\u001b[0m\u001b[1;33m\u001b[0m\u001b[1;33m\u001b[0m\u001b[0m\n",
      "\u001b[1;32mc:\\Users\\stani\\AppData\\Local\\Programs\\Python\\Python38\\lib\\site-packages\\torch\\_tensor.py\u001b[0m in \u001b[0;36mbackward\u001b[1;34m(self, gradient, retain_graph, create_graph, inputs)\u001b[0m\n\u001b[0;32m    253\u001b[0m                 \u001b[0mcreate_graph\u001b[0m\u001b[1;33m=\u001b[0m\u001b[0mcreate_graph\u001b[0m\u001b[1;33m,\u001b[0m\u001b[1;33m\u001b[0m\u001b[1;33m\u001b[0m\u001b[0m\n\u001b[0;32m    254\u001b[0m                 inputs=inputs)\n\u001b[1;32m--> 255\u001b[1;33m         \u001b[0mtorch\u001b[0m\u001b[1;33m.\u001b[0m\u001b[0mautograd\u001b[0m\u001b[1;33m.\u001b[0m\u001b[0mbackward\u001b[0m\u001b[1;33m(\u001b[0m\u001b[0mself\u001b[0m\u001b[1;33m,\u001b[0m \u001b[0mgradient\u001b[0m\u001b[1;33m,\u001b[0m \u001b[0mretain_graph\u001b[0m\u001b[1;33m,\u001b[0m \u001b[0mcreate_graph\u001b[0m\u001b[1;33m,\u001b[0m \u001b[0minputs\u001b[0m\u001b[1;33m=\u001b[0m\u001b[0minputs\u001b[0m\u001b[1;33m)\u001b[0m\u001b[1;33m\u001b[0m\u001b[1;33m\u001b[0m\u001b[0m\n\u001b[0m\u001b[0;32m    256\u001b[0m \u001b[1;33m\u001b[0m\u001b[0m\n\u001b[0;32m    257\u001b[0m     \u001b[1;32mdef\u001b[0m \u001b[0mregister_hook\u001b[0m\u001b[1;33m(\u001b[0m\u001b[0mself\u001b[0m\u001b[1;33m,\u001b[0m \u001b[0mhook\u001b[0m\u001b[1;33m)\u001b[0m\u001b[1;33m:\u001b[0m\u001b[1;33m\u001b[0m\u001b[1;33m\u001b[0m\u001b[0m\n",
      "\u001b[1;32mc:\\Users\\stani\\AppData\\Local\\Programs\\Python\\Python38\\lib\\site-packages\\torch\\autograd\\__init__.py\u001b[0m in \u001b[0;36mbackward\u001b[1;34m(tensors, grad_tensors, retain_graph, create_graph, grad_variables, inputs)\u001b[0m\n\u001b[0;32m    145\u001b[0m         \u001b[0mretain_graph\u001b[0m \u001b[1;33m=\u001b[0m \u001b[0mcreate_graph\u001b[0m\u001b[1;33m\u001b[0m\u001b[1;33m\u001b[0m\u001b[0m\n\u001b[0;32m    146\u001b[0m \u001b[1;33m\u001b[0m\u001b[0m\n\u001b[1;32m--> 147\u001b[1;33m     Variable._execution_engine.run_backward(\n\u001b[0m\u001b[0;32m    148\u001b[0m         \u001b[0mtensors\u001b[0m\u001b[1;33m,\u001b[0m \u001b[0mgrad_tensors_\u001b[0m\u001b[1;33m,\u001b[0m \u001b[0mretain_graph\u001b[0m\u001b[1;33m,\u001b[0m \u001b[0mcreate_graph\u001b[0m\u001b[1;33m,\u001b[0m \u001b[0minputs\u001b[0m\u001b[1;33m,\u001b[0m\u001b[1;33m\u001b[0m\u001b[1;33m\u001b[0m\u001b[0m\n\u001b[0;32m    149\u001b[0m         allow_unreachable=True, accumulate_grad=True)  # allow_unreachable flag\n",
      "\u001b[1;31mKeyboardInterrupt\u001b[0m: "
     ]
    }
   ],
   "source": [
    "Coach.train_robust(\n",
    "    model,\n",
    "    data,\n",
    "    nn.CrossEntropyLoss(),\n",
    "    optim.SGD(model.parameters(), lr=1e-2),\n",
    "    50 / 255,\n",
    "    2e-2,\n",
    "    math.floor(min(30 * 4, 30 * 1.25)),\n",
    "    30,\n",
    "    1001,\n",
    "    noisy=10,\n",
    "    too_noisy=True\n",
    ")"
   ]
  },
  {
   "cell_type": "code",
   "execution_count": 9,
   "metadata": {},
   "outputs": [],
   "source": [
    "ModelManager.save_model(ModelType.MnistCnnBRobust, model)"
   ]
  }
 ],
 "metadata": {
  "interpreter": {
   "hash": "e9cf67d4382dce4fbd50b02e030497dd8d7937cea9e35bc281a10388d12c2354"
  },
  "kernelspec": {
   "display_name": "Python 3.8.10 64-bit",
   "language": "python",
   "name": "python3"
  },
  "language_info": {
   "codemirror_mode": {
    "name": "ipython",
    "version": 3
   },
   "file_extension": ".py",
   "mimetype": "text/x-python",
   "name": "python",
   "nbconvert_exporter": "python",
   "pygments_lexer": "ipython3",
   "version": "3.8.10"
  },
  "orig_nbformat": 4
 },
 "nbformat": 4,
 "nbformat_minor": 2
}
