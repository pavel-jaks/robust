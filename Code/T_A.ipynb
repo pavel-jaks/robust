{
 "cells": [
  {
   "cell_type": "code",
   "execution_count": 1,
   "metadata": {},
   "outputs": [],
   "source": [
    "%load_ext autoreload\n",
    "%autoreload 2"
   ]
  },
  {
   "cell_type": "code",
   "execution_count": 2,
   "metadata": {},
   "outputs": [],
   "source": [
    "import torch.nn as nn\n",
    "import torch.optim as optim"
   ]
  },
  {
   "cell_type": "code",
   "execution_count": 3,
   "metadata": {},
   "outputs": [],
   "source": [
    "from training import Coach\n",
    "from utils import MnistData\n",
    "from models import ModelManager, ModelType"
   ]
  },
  {
   "cell_type": "code",
   "execution_count": 4,
   "metadata": {},
   "outputs": [],
   "source": [
    "model = ModelManager.get_untrained(ModelType.MnistCnnA)"
   ]
  },
  {
   "cell_type": "code",
   "execution_count": 12,
   "metadata": {},
   "outputs": [],
   "source": [
    "data = MnistData()"
   ]
  },
  {
   "cell_type": "code",
   "execution_count": 19,
   "metadata": {},
   "outputs": [
    {
     "name": "stdout",
     "output_type": "stream",
     "text": [
      "Training started at 1644598292.0227487\n",
      "Epoch 0: 50.7548942565918\n",
      "Epoch 500: 48.3270149230957\n",
      "Epoch 1000: 49.835418701171875\n",
      "Epoch 1500: 50.15187072753906\n",
      "Epoch 2000: 52.839691162109375\n",
      "Epoch 2500: 49.58763885498047\n",
      "Epoch 3000: 50.89067077636719\n",
      "Epoch 3500: 46.1586799621582\n",
      "Epoch 4000: 54.72944259643555\n",
      "Epoch 4500: 53.09925079345703\n",
      "Training finished at 1644598329.923924; lasted 37.90117526054382 seconds.\n"
     ]
    }
   ],
   "source": [
    "Coach.train(\n",
    "    model,\n",
    "    data,\n",
    "    nn.CrossEntropyLoss(reduction='sum'),\n",
    "    optim.SGD(model.parameters(), lr=1e-7),\n",
    "    30,\n",
    "    5000\n",
    ")"
   ]
  },
  {
   "cell_type": "code",
   "execution_count": 22,
   "metadata": {},
   "outputs": [
    {
     "name": "stdout",
     "output_type": "stream",
     "text": [
      "76.25 % success on test data\n"
     ]
    }
   ],
   "source": [
    "Coach.measure_performance(model, data)"
   ]
  },
  {
   "cell_type": "code",
   "execution_count": 21,
   "metadata": {},
   "outputs": [],
   "source": [
    "ModelManager.save_model(ModelType.MnistCnnA, model)"
   ]
  }
 ],
 "metadata": {
  "interpreter": {
   "hash": "b9d03d93fdbeeb361cc45deae4888a34596acc9ca3c93366af240ad46910d2d2"
  },
  "kernelspec": {
   "display_name": "Python 3.8.10 64-bit",
   "language": "python",
   "name": "python3"
  },
  "language_info": {
   "codemirror_mode": {
    "name": "ipython",
    "version": 3
   },
   "file_extension": ".py",
   "mimetype": "text/x-python",
   "name": "python",
   "nbconvert_exporter": "python",
   "pygments_lexer": "ipython3",
   "version": "3.8.10"
  },
  "orig_nbformat": 4
 },
 "nbformat": 4,
 "nbformat_minor": 2
}
