{
 "cells": [
  {
   "cell_type": "code",
   "execution_count": 1,
   "metadata": {},
   "outputs": [],
   "source": [
    "%load_ext autoreload\n",
    "%autoreload 2"
   ]
  },
  {
   "cell_type": "code",
   "execution_count": 2,
   "metadata": {},
   "outputs": [],
   "source": [
    "import torch.nn as nn\n",
    "import torch.optim as optim"
   ]
  },
  {
   "cell_type": "code",
   "execution_count": 3,
   "metadata": {},
   "outputs": [],
   "source": [
    "from training import Coach\n",
    "from utils import MnistData\n",
    "from models import ModelManager, ModelType"
   ]
  },
  {
   "cell_type": "code",
   "execution_count": 4,
   "metadata": {},
   "outputs": [],
   "source": [
    "douglas = ModelManager.get_untrained(ModelType.MnistCnnDouglas)"
   ]
  },
  {
   "cell_type": "code",
   "execution_count": 5,
   "metadata": {},
   "outputs": [],
   "source": [
    "data = MnistData()"
   ]
  },
  {
   "cell_type": "code",
   "execution_count": 6,
   "metadata": {},
   "outputs": [
    {
     "name": "stdout",
     "output_type": "stream",
     "text": [
      "Training started at 1644602109.8196855\n",
      "Epoch 0: 2303.372802734375\n",
      "Epoch 100: 2296.554931640625\n",
      "Epoch 200: 1713.2945556640625\n",
      "Epoch 300: 1616.9793701171875\n",
      "Epoch 400: 1518.6331787109375\n",
      "Epoch 500: 1509.3092041015625\n",
      "Epoch 600: 1490.80126953125\n",
      "Epoch 700: 1487.6712646484375\n",
      "Epoch 800: 1506.61279296875\n",
      "Epoch 900: 1491.994140625\n",
      "Epoch 1000: 1479.3497314453125\n",
      "Training finished at 1644602328.6268964; lasted 218.8072109222412 seconds.\n"
     ]
    }
   ],
   "source": [
    "Coach.train(\n",
    "    douglas,\n",
    "    data,\n",
    "    nn.CrossEntropyLoss(reduction='sum'),\n",
    "    optim.SGD(douglas.parameters(), lr=1e-3),\n",
    "    1000,\n",
    "    1001\n",
    ")"
   ]
  },
  {
   "cell_type": "code",
   "execution_count": 7,
   "metadata": {},
   "outputs": [
    {
     "name": "stdout",
     "output_type": "stream",
     "text": [
      "97.89999999999999 % success on test data\n"
     ]
    }
   ],
   "source": [
    "Coach.measure_performance(douglas, data)"
   ]
  },
  {
   "cell_type": "code",
   "execution_count": 8,
   "metadata": {},
   "outputs": [],
   "source": [
    "ModelManager.save_model(ModelType.MnistCnnDouglas, douglas)"
   ]
  }
 ],
 "metadata": {
  "interpreter": {
   "hash": "b9d03d93fdbeeb361cc45deae4888a34596acc9ca3c93366af240ad46910d2d2"
  },
  "kernelspec": {
   "display_name": "Python 3.8.10 64-bit",
   "language": "python",
   "name": "python3"
  },
  "language_info": {
   "codemirror_mode": {
    "name": "ipython",
    "version": 3
   },
   "file_extension": ".py",
   "mimetype": "text/x-python",
   "name": "python",
   "nbconvert_exporter": "python",
   "pygments_lexer": "ipython3",
   "version": "3.8.10"
  },
  "orig_nbformat": 4
 },
 "nbformat": 4,
 "nbformat_minor": 2
}
