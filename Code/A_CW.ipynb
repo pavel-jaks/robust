{
 "cells": [
  {
   "cell_type": "code",
   "execution_count": 1,
   "metadata": {},
   "outputs": [],
   "source": [
    "%load_ext autoreload\n",
    "%autoreload 2"
   ]
  },
  {
   "cell_type": "code",
   "execution_count": 2,
   "metadata": {},
   "outputs": [],
   "source": [
    "import torch.nn as nn\n",
    "import torch"
   ]
  },
  {
   "cell_type": "code",
   "execution_count": 3,
   "metadata": {
    "collapsed": false,
    "pycharm": {
     "name": "#%%\n"
    }
   },
   "outputs": [],
   "source": [
    "from utils import MnistData\n",
    "from models import ModelManager, ModelType"
   ]
  },
  {
   "cell_type": "code",
   "execution_count": 51,
   "metadata": {},
   "outputs": [],
   "source": [
    "model_loaded = ModelManager.get_trained(ModelType.MnistCnnPatt)\n"
   ]
  },
  {
   "cell_type": "code",
   "execution_count": 5,
   "metadata": {},
   "outputs": [],
   "source": [
    "data = MnistData(True)"
   ]
  },
  {
   "cell_type": "code",
   "execution_count": 6,
   "metadata": {},
   "outputs": [],
   "source": [
    "def max_norm(t: torch.Tensor) -> torch.Tensor:\n",
    "    return torch.max(torch.abs(t))"
   ]
  },
  {
   "cell_type": "code",
   "execution_count": 57,
   "metadata": {},
   "outputs": [],
   "source": [
    "def solve_for(model, benign_image, label, c_lambda):\n",
    "    step_size = 1e-2\n",
    "    #adv = benign_image + (torch.rand(benign_image.shape) - 0.5) * 1e-1\n",
    "    #adv = benign_image\n",
    "    adv = torch.zeros(benign_image.shape)\n",
    "    loss_fn = nn.CrossEntropyLoss(reduction='sum')\n",
    "    norm = nn.L1Loss(reduction='sum')\n",
    "    for _ in range(100):\n",
    "        adv.requires_grad = True\n",
    "        if adv.grad is not None:\n",
    "            adv.grad.zero_()\n",
    "        loss = norm(adv.unsqueeze(0), benign_image.unsqueeze(0)) \\\n",
    "            - c_lambda * loss_fn(model(adv.unsqueeze(0)), torch.Tensor([label]).type(torch.long))\n",
    "        loss.backward()\n",
    "        new_adv = MnistData.clip_for_image(adv - step_size * adv.grad.apply_(lambda x: 1 if x >= 0 else -1))\n",
    "        adv = new_adv\n",
    "    if MnistData.get_prediction(model, adv)[0] != label:\n",
    "        return adv\n",
    "    return None\n",
    "    \n"
   ]
  },
  {
   "cell_type": "code",
   "execution_count": 73,
   "metadata": {},
   "outputs": [],
   "source": [
    "def cw_attack(model, benign_image, label) -> torch.Tensor:\n",
    "    adv = None\n",
    "    c_lambda = 1e-1\n",
    "    while adv is None:\n",
    "        #print(f'\\tc_lamda = {c_lambda}')\n",
    "        adv = solve_for(model, benign_image, label, c_lambda)\n",
    "        c_lambda *= 1.1\n",
    "    #print(f'\\tc_lamda = {c_lambda}')\n",
    "    return adv\n",
    "        \n"
   ]
  },
  {
   "cell_type": "code",
   "execution_count": 74,
   "metadata": {},
   "outputs": [
    {
     "name": "stdout",
     "output_type": "stream",
     "text": [
      "--- 0 ---\n",
      "\tc_lamda = 0.9849732675807628\n",
      "--- 1 ---\n",
      "\tc_lamda = 0.740024994425817\n",
      "--- 2 ---\n",
      "\tc_lamda = 0.6115909044841462\n",
      "--- 3 ---\n",
      "\tc_lamda = 0.5054470284992942\n",
      "--- 4 ---\n",
      "\tc_lamda = 1.3109994191499956\n",
      "--- 5 ---\n",
      "\tc_lamda = 0.6727499949325609\n",
      "--- 6 ---\n",
      "\tc_lamda = 1.3109994191499956\n",
      "--- 7 ---\n",
      "\tc_lamda = 0.3452271214393102\n",
      "--- 8 ---\n",
      "\tc_lamda = 0.5559917313492238\n",
      "--- 9 ---\n",
      "\tc_lamda = 0.2143588810000001\n"
     ]
    }
   ],
   "source": [
    "benign_images, labels = data.get_training_batch(10)\n",
    "altered_training_images = []\n",
    "\n",
    "for i in range(len(labels)):\n",
    "    print(f'--- {i} ---')\n",
    "    benign_image = benign_images[i]\n",
    "    #MnistData.display(benign_image)\n",
    "    label = labels[i]\n",
    "    altered_training_images.append(cw_attack(model_loaded, benign_image, label))\n",
    "\n",
    "#altered_training_images = torch.Tensor(altered_training_images)"
   ]
  },
  {
   "cell_type": "code",
   "execution_count": 75,
   "metadata": {
    "collapsed": false,
    "pycharm": {
     "name": "#%%\n"
    }
   },
   "outputs": [
    {
     "data": {
      "text/plain": [
       "10"
      ]
     },
     "execution_count": 75,
     "metadata": {},
     "output_type": "execute_result"
    }
   ],
   "source": [
    "possible_adversarials = MnistData.get_adversarials(model_loaded, benign_images, labels, altered_training_images)\n",
    "len(possible_adversarials)"
   ]
  },
  {
   "cell_type": "code",
   "execution_count": 78,
   "metadata": {
    "collapsed": false,
    "pycharm": {
     "name": "#%%\n"
    }
   },
   "outputs": [
    {
     "data": {
      "image/png": "[encoded data removed]",
      "text/plain": [
       "<Figure size 432x288 with 1 Axes>"
      ]
     },
     "metadata": {
      "needs_background": "light"
     },
     "output_type": "display_data"
    },
    {
     "name": "stdout",
     "output_type": "stream",
     "text": [
      "+++++\n"
     ]
    },
    {
     "data": {
      "image/png": "[encoded data removed]",
      "text/plain": [
       "<Figure size 432x288 with 1 Axes>"
      ]
     },
     "metadata": {
      "needs_background": "light"
     },
     "output_type": "display_data"
    },
    {
     "name": "stdout",
     "output_type": "stream",
     "text": [
      "=====\n"
     ]
    },
    {
     "data": {
      "image/png": "[encoded data removed]",
      "text/plain": [
       "<Figure size 432x288 with 1 Axes>"
      ]
     },
     "metadata": {
      "needs_background": "light"
     },
     "output_type": "display_data"
    },
    {
     "name": "stdout",
     "output_type": "stream",
     "text": [
      "Label: 8, Prediction: 5, Confidence: 0.669967532157898\n",
      "Original prediction: 8, Original confidence: 1.0\n"
     ]
    }
   ],
   "source": [
    "MnistData.show_adversarial(possible_adversarials, benign_images, altered_training_images, 7)"
   ]
  }
 ],
 "metadata": {
  "kernelspec": {
   "display_name": "Python 3",
   "language": "python",
   "name": "python3"
  },
  "language_info": {
   "codemirror_mode": {
    "name": "ipython",
    "version": 3
   },
   "file_extension": ".py",
   "mimetype": "text/x-python",
   "name": "python",
   "nbconvert_exporter": "python",
   "pygments_lexer": "ipython3",
   "version": "3.8.10"
  }
 },
 "nbformat": 4,
 "nbformat_minor": 0
}
