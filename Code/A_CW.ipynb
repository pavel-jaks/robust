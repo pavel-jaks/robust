{
 "cells": [
  {
   "cell_type": "code",
   "execution_count": 1,
   "metadata": {},
   "outputs": [],
   "source": [
    "%load_ext autoreload\n",
    "%autoreload 2"
   ]
  },
  {
   "cell_type": "code",
   "execution_count": 2,
   "metadata": {},
   "outputs": [],
   "source": [
    "import torch.nn as nn\n",
    "import torch"
   ]
  },
  {
   "cell_type": "code",
   "execution_count": 3,
   "metadata": {
    "collapsed": false,
    "pycharm": {
     "name": "#%%\n"
    }
   },
   "outputs": [],
   "source": [
    "from utils import MnistData\n",
    "from models import ModelManager, ModelType"
   ]
  },
  {
   "cell_type": "code",
   "execution_count": 51,
   "metadata": {},
   "outputs": [],
   "source": [
    "model_loaded = ModelManager.get_trained(ModelType.MnistCnnPatt)\n"
   ]
  },
  {
   "cell_type": "code",
   "execution_count": 5,
   "metadata": {},
   "outputs": [],
   "source": [
    "data = MnistData(True)"
   ]
  },
  {
   "cell_type": "code",
   "execution_count": 6,
   "metadata": {},
   "outputs": [],
   "source": [
    "def max_norm(t: torch.Tensor) -> torch.Tensor:\n",
    "    return torch.max(torch.abs(t))"
   ]
  },
  {
   "cell_type": "code",
   "execution_count": 81,
   "metadata": {},
   "outputs": [],
   "source": [
    "def solve_for(model, benign_image, label, c_lambda):\n",
    "    step_size = 1e-2\n",
    "    #adv = benign_image + (torch.rand(benign_image.shape) - 0.5) * 1e-1\n",
    "    #adv = benign_image\n",
    "    adv = torch.zeros(benign_image.shape)\n",
    "    loss_fn = nn.CrossEntropyLoss(reduction='sum')\n",
    "    norm = nn.L1Loss(reduction='sum')\n",
    "    for _ in range(100):\n",
    "        adv.requires_grad = True\n",
    "        if adv.grad is not None:\n",
    "            adv.grad.zero_()\n",
    "        loss = norm(adv.unsqueeze(0), benign_image.unsqueeze(0)) \\\n",
    "            - c_lambda * loss_fn(model(adv.unsqueeze(0)), torch.Tensor([label]).type(torch.long))\n",
    "        loss.backward()\n",
    "        new_adv = MnistData.clip_for_image(adv - step_size * adv.grad.apply_(lambda x: 1 if x >= 0 else -1))\n",
    "        adv = new_adv\n",
    "    if MnistData.get_prediction(model, adv)[0] != label:\n",
    "        return adv\n",
    "    return None\n",
    "    \n"
   ]
  },
  {
   "cell_type": "code",
   "execution_count": 73,
   "metadata": {},
   "outputs": [],
   "source": [
    "def cw_attack(model, benign_image, label) -> torch.Tensor:\n",
    "    adv = None\n",
    "    c_lambda = 1e-1\n",
    "    while adv is None:\n",
    "        #print(f'\\tc_lamda = {c_lambda}')\n",
    "        adv = solve_for(model, benign_image, label, c_lambda)\n",
    "        c_lambda *= 1.1\n",
    "    #print(f'\\tc_lamda = {c_lambda}')\n",
    "    return adv\n",
    "        \n"
   ]
  },
  {
   "cell_type": "code",
   "execution_count": 82,
   "metadata": {},
   "outputs": [
    {
     "name": "stdout",
     "output_type": "stream",
     "text": [
      "--- 0 ---\n",
      "\tc_lamda = 0.1948717100000001\n",
      "--- 1 ---\n",
      "\tc_lamda = 1.1918176537727232\n",
      "--- 2 ---\n",
      "\tc_lamda = 0.6115909044841462\n",
      "--- 3 ---\n",
      "\tc_lamda = 1.1918176537727232\n",
      "--- 4 ---\n",
      "\tc_lamda = 0.41772481694156544\n",
      "--- 5 ---\n",
      "\tc_lamda = 0.41772481694156544\n",
      "--- 6 ---\n",
      "\tc_lamda = 0.5559917313492238\n",
      "--- 7 ---\n",
      "\tc_lamda = 0.740024994425817\n",
      "--- 8 ---\n",
      "\tc_lamda = 1.0834705943388392\n",
      "--- 9 ---\n",
      "\tc_lamda = 1.1918176537727232\n",
      "--- 10 ---\n",
      "\tc_lamda = 0.8954302432552388\n",
      "--- 11 ---\n",
      "\tc_lamda = 0.17715610000000007\n",
      "--- 12 ---\n",
      "\tc_lamda = 0.8954302432552388\n",
      "--- 13 ---\n",
      "\tc_lamda = 0.5054470284992942\n",
      "--- 14 ---\n",
      "\tc_lamda = 0.740024994425817\n",
      "--- 15 ---\n",
      "\tc_lamda = 0.17715610000000007\n",
      "--- 16 ---\n",
      "\tc_lamda = 0.11000000000000001\n",
      "--- 17 ---\n",
      "\tc_lamda = 0.5559917313492238\n",
      "--- 18 ---\n",
      "\tc_lamda = 1.0834705943388392\n",
      "--- 19 ---\n",
      "\tc_lamda = 0.8954302432552388\n",
      "--- 20 ---\n",
      "\tc_lamda = 0.1948717100000001\n",
      "--- 21 ---\n",
      "\tc_lamda = 0.37974983358324127\n",
      "--- 22 ---\n",
      "\tc_lamda = 1.1918176537727232\n",
      "--- 23 ---\n",
      "\tc_lamda = 1.4420993610649953\n",
      "--- 24 ---\n",
      "\tc_lamda = 0.41772481694156544\n",
      "--- 25 ---\n",
      "\tc_lamda = 0.17715610000000007\n",
      "--- 26 ---\n",
      "\tc_lamda = 0.41772481694156544\n",
      "--- 27 ---\n",
      "\tc_lamda = 1.7449402268886445\n",
      "--- 28 ---\n",
      "\tc_lamda = 0.9849732675807628\n",
      "--- 29 ---\n",
      "\tc_lamda = 0.28531167061100016\n",
      "--- 30 ---\n",
      "\tc_lamda = 1.586309297171495\n",
      "--- 31 ---\n",
      "\tc_lamda = 0.23579476910000013\n",
      "--- 32 ---\n",
      "\tc_lamda = 0.41772481694156544\n",
      "--- 33 ---\n",
      "\tc_lamda = 0.8140274938683988\n",
      "--- 34 ---\n",
      "\tc_lamda = 0.9849732675807628\n",
      "--- 35 ---\n",
      "\tc_lamda = 0.11000000000000001\n",
      "--- 36 ---\n",
      "\tc_lamda = 0.45949729863572203\n",
      "--- 37 ---\n",
      "\tc_lamda = 1.4420993610649953\n",
      "--- 38 ---\n",
      "\tc_lamda = 1.3109994191499956\n",
      "--- 39 ---\n",
      "\tc_lamda = 0.9849732675807628\n",
      "--- 40 ---\n",
      "\tc_lamda = 0.1948717100000001\n",
      "--- 41 ---\n",
      "\tc_lamda = 0.8140274938683988\n",
      "--- 42 ---\n",
      "\tc_lamda = 0.3138428376721002\n",
      "--- 43 ---\n",
      "\tc_lamda = 0.6727499949325609\n",
      "--- 44 ---\n",
      "\tc_lamda = 1.3109994191499956\n",
      "--- 45 ---\n",
      "\tc_lamda = 1.4420993610649953\n",
      "--- 46 ---\n",
      "\tc_lamda = 0.8954302432552388\n",
      "--- 47 ---\n",
      "\tc_lamda = 0.8140274938683988\n",
      "--- 48 ---\n",
      "\tc_lamda = 0.5559917313492238\n",
      "--- 49 ---\n",
      "\tc_lamda = 0.740024994425817\n",
      "--- 50 ---\n",
      "\tc_lamda = 0.9849732675807628\n",
      "--- 51 ---\n",
      "\tc_lamda = 0.9849732675807628\n",
      "--- 52 ---\n",
      "\tc_lamda = 0.5559917313492238\n",
      "--- 53 ---\n",
      "\tc_lamda = 0.45949729863572203\n",
      "--- 54 ---\n",
      "\tc_lamda = 0.8140274938683988\n",
      "--- 55 ---\n",
      "\tc_lamda = 0.6115909044841462\n",
      "--- 56 ---\n",
      "\tc_lamda = 0.9849732675807628\n",
      "--- 57 ---\n",
      "\tc_lamda = 1.0834705943388392\n",
      "--- 58 ---\n",
      "\tc_lamda = 0.25937424601000014\n",
      "--- 59 ---\n",
      "\tc_lamda = 0.41772481694156544\n",
      "--- 60 ---\n",
      "\tc_lamda = 0.6115909044841462\n",
      "--- 61 ---\n",
      "\tc_lamda = 0.740024994425817\n",
      "--- 62 ---\n",
      "\tc_lamda = 1.4420993610649953\n",
      "--- 63 ---\n",
      "\tc_lamda = 1.3109994191499956\n",
      "--- 64 ---\n",
      "\tc_lamda = 0.9849732675807628\n",
      "--- 65 ---\n",
      "\tc_lamda = 1.0834705943388392\n",
      "--- 66 ---\n",
      "\tc_lamda = 0.8140274938683988\n",
      "--- 67 ---\n",
      "\tc_lamda = 0.3452271214393102\n",
      "--- 68 ---\n",
      "\tc_lamda = 0.45949729863572203\n",
      "--- 69 ---\n",
      "\tc_lamda = 0.6727499949325609\n",
      "--- 70 ---\n",
      "\tc_lamda = 0.5559917313492238\n",
      "--- 71 ---\n",
      "\tc_lamda = 0.3138428376721002\n",
      "--- 72 ---\n",
      "\tc_lamda = 1.4420993610649953\n",
      "--- 73 ---\n",
      "\tc_lamda = 0.9849732675807628\n",
      "--- 74 ---\n",
      "\tc_lamda = 0.2143588810000001\n",
      "--- 75 ---\n",
      "\tc_lamda = 0.25937424601000014\n",
      "--- 76 ---\n",
      "\tc_lamda = 1.3109994191499956\n",
      "--- 77 ---\n",
      "\tc_lamda = 0.16105100000000006\n",
      "--- 78 ---\n",
      "\tc_lamda = 1.0834705943388392\n",
      "--- 79 ---\n",
      "\tc_lamda = 0.6727499949325609\n",
      "--- 80 ---\n",
      "\tc_lamda = 1.0834705943388392\n",
      "--- 81 ---\n",
      "\tc_lamda = 0.3452271214393102\n",
      "--- 82 ---\n",
      "\tc_lamda = 1.0834705943388392\n",
      "--- 83 ---\n",
      "\tc_lamda = 0.9849732675807628\n",
      "--- 84 ---\n",
      "\tc_lamda = 0.6727499949325609\n",
      "--- 85 ---\n",
      "\tc_lamda = 0.17715610000000007\n",
      "--- 86 ---\n",
      "\tc_lamda = 0.25937424601000014\n",
      "--- 87 ---\n",
      "\tc_lamda = 0.2143588810000001\n",
      "--- 88 ---\n",
      "\tc_lamda = 0.8954302432552388\n",
      "--- 89 ---\n",
      "\tc_lamda = 0.5559917313492238\n",
      "--- 90 ---\n",
      "\tc_lamda = 0.41772481694156544\n",
      "--- 91 ---\n",
      "\tc_lamda = 0.41772481694156544\n",
      "--- 92 ---\n",
      "\tc_lamda = 1.1918176537727232\n",
      "--- 93 ---\n",
      "\tc_lamda = 0.5054470284992942\n",
      "--- 94 ---\n",
      "\tc_lamda = 0.6115909044841462\n",
      "--- 95 ---\n",
      "\tc_lamda = 0.5559917313492238\n",
      "--- 96 ---\n",
      "\tc_lamda = 0.9849732675807628\n",
      "--- 97 ---\n",
      "\tc_lamda = 0.8140274938683988\n",
      "--- 98 ---\n",
      "\tc_lamda = 0.17715610000000007\n",
      "--- 99 ---\n",
      "\tc_lamda = 0.12100000000000002\n"
     ]
    }
   ],
   "source": [
    "benign_images, labels = data.get_training_batch(100)\n",
    "altered_training_images = []\n",
    "\n",
    "for i in range(len(labels)):\n",
    "    print(f'--- {i} ---')\n",
    "    benign_image = benign_images[i]\n",
    "    #MnistData.display(benign_image)\n",
    "    label = labels[i]\n",
    "    altered_training_images.append(cw_attack(model_loaded, benign_image, label))\n",
    "\n",
    "#altered_training_images = torch.Tensor(altered_training_images)"
   ]
  },
  {
   "cell_type": "code",
   "execution_count": 83,
   "metadata": {
    "collapsed": false,
    "pycharm": {
     "name": "#%%\n"
    }
   },
   "outputs": [
    {
     "data": {
      "text/plain": [
       "99"
      ]
     },
     "execution_count": 83,
     "metadata": {},
     "output_type": "execute_result"
    }
   ],
   "source": [
    "possible_adversarials = MnistData.get_adversarials(model_loaded, benign_images, labels, altered_training_images)\n",
    "len(possible_adversarials)"
   ]
  },
  {
   "cell_type": "code",
   "execution_count": 86,
   "metadata": {
    "collapsed": false,
    "pycharm": {
     "name": "#%%\n"
    }
   },
   "outputs": [
    {
     "data": {
      "image/png": "[encoded data removed]",
      "text/plain": [
       "<Figure size 432x288 with 1 Axes>"
      ]
     },
     "metadata": {
      "needs_background": "light"
     },
     "output_type": "display_data"
    },
    {
     "name": "stdout",
     "output_type": "stream",
     "text": [
      "+++++\n"
     ]
    },
    {
     "data": {
      "image/png": "[encoded data removed]",
      "text/plain": [
       "<Figure size 432x288 with 1 Axes>"
      ]
     },
     "metadata": {
      "needs_background": "light"
     },
     "output_type": "display_data"
    },
    {
     "name": "stdout",
     "output_type": "stream",
     "text": [
      "=====\n"
     ]
    },
    {
     "data": {
      "image/png": "[encoded data removed]",
      "text/plain": [
       "<Figure size 432x288 with 1 Axes>"
      ]
     },
     "metadata": {
      "needs_background": "light"
     },
     "output_type": "display_data"
    },
    {
     "name": "stdout",
     "output_type": "stream",
     "text": [
      "Label: 6, Prediction: 5, Confidence: 0.9927910566329956\n",
      "Original prediction: 6, Original confidence: 1.0\n"
     ]
    }
   ],
   "source": [
    "MnistData.show_adversarial(possible_adversarials, benign_images, altered_training_images, 97)"
   ]
  },
  {
   "cell_type": "code",
   "execution_count": 88,
   "metadata": {},
   "outputs": [],
   "source": [
    "import numpy as np\n",
    "from matplotlib import pyplot as plt"
   ]
  },
  {
   "cell_type": "code",
   "execution_count": 89,
   "metadata": {},
   "outputs": [
    {
     "name": "stderr",
     "output_type": "stream",
     "text": [
      "C:\\Users\\stani\\AppData\\Local\\Temp/ipykernel_29604/3977462011.py:8: MatplotlibDeprecationWarning: savefig() got unexpected keyword argument \"pad_width\" which is no longer supported as of 3.3 and will become an error two minor releases later\n",
      "  plt.savefig(f\"AEXAMPLES\\\\CW\\\\ALTERED\\\\cw_altered_{counter}.png\", bbox_inches=\"tight\", pad_inches=0, pad_width=0)\n",
      "C:\\Users\\stani\\AppData\\Local\\Temp/ipykernel_29604/3977462011.py:13: MatplotlibDeprecationWarning: savefig() got unexpected keyword argument \"pad_width\" which is no longer supported as of 3.3 and will become an error two minor releases later\n",
      "  plt.savefig(f\"AEXAMPLES\\\\CW\\\\BENIGN\\\\cw_benign_{counter}.png\", bbox_inches=\"tight\", pad_inches=0, pad_width=0)\n"
     ]
    },
    {
     "data": {
      "image/png": "[encoded data removed]",
      "text/plain": [
       "<Figure size 432x288 with 1 Axes>"
      ]
     },
     "metadata": {
      "needs_background": "light"
     },
     "output_type": "display_data"
    }
   ],
   "source": [
    "counter = 0\n",
    "for adversarial in possible_adversarials:\n",
    "    index = adversarial['Index']\n",
    "    aexample = altered_training_images[index]\n",
    "    aexample = np.array(aexample * 255)\n",
    "    plt.imshow(aexample.reshape(28, 28), cmap='gray')\n",
    "    plt.axis(\"off\")\n",
    "    plt.savefig(f\"AEXAMPLES\\\\CW\\\\ALTERED\\\\cw_altered_{counter}.png\", bbox_inches=\"tight\", pad_inches=0, pad_width=0)\n",
    "    bexample = benign_images[index]\n",
    "    bexample = np.array(bexample * 255)\n",
    "    plt.imshow(bexample.reshape(28, 28), cmap='gray')\n",
    "    plt.axis(\"off\")\n",
    "    plt.savefig(f\"AEXAMPLES\\\\CW\\\\BENIGN\\\\cw_benign_{counter}.png\", bbox_inches=\"tight\", pad_inches=0, pad_width=0)\n",
    "    counter += 1\n"
   ]
  }
 ],
 "metadata": {
  "kernelspec": {
   "display_name": "Python 3",
   "language": "python",
   "name": "python3"
  },
  "language_info": {
   "codemirror_mode": {
    "name": "ipython",
    "version": 3
   },
   "file_extension": ".py",
   "mimetype": "text/x-python",
   "name": "python",
   "nbconvert_exporter": "python",
   "pygments_lexer": "ipython3",
   "version": "3.8.10"
  }
 },
 "nbformat": 4,
 "nbformat_minor": 0
}
