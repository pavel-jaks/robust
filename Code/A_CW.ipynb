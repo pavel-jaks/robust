{
 "cells": [
  {
   "cell_type": "code",
   "execution_count": 1,
   "metadata": {},
   "outputs": [],
   "source": [
    "%load_ext autoreload\n",
    "%autoreload 2"
   ]
  },
  {
   "cell_type": "code",
   "execution_count": 2,
   "metadata": {},
   "outputs": [],
   "source": [
    "import math"
   ]
  },
  {
   "cell_type": "code",
   "execution_count": 3,
   "metadata": {},
   "outputs": [],
   "source": [
    "import torch.nn as nn\n",
    "import torch"
   ]
  },
  {
   "cell_type": "code",
   "execution_count": 4,
   "metadata": {
    "collapsed": false,
    "pycharm": {
     "name": "#%%\n"
    }
   },
   "outputs": [],
   "source": [
    "from utils import MnistData\n",
    "from models import ModelManager, ModelType"
   ]
  },
  {
   "cell_type": "code",
   "execution_count": 174,
   "metadata": {},
   "outputs": [],
   "source": [
    "model_loaded = ModelManager.get_trained(ModelType.MnistCnnMilano)\n"
   ]
  },
  {
   "cell_type": "code",
   "execution_count": null,
   "metadata": {},
   "outputs": [],
   "source": [
    "data = MnistData(True)"
   ]
  },
  {
   "cell_type": "code",
   "execution_count": 60,
   "metadata": {},
   "outputs": [],
   "source": [
    "def max_norm(t: torch.Tensor) -> torch.Tensor:\n",
    "    return torch.max(torch.abs(t))"
   ]
  },
  {
   "cell_type": "code",
   "execution_count": 217,
   "metadata": {},
   "outputs": [],
   "source": [
    "def solve_for_targeted(model, benign_image, target_label, c_lambda):\n",
    "    step_size = 1e-2\n",
    "    #adv = benign_image + (torch.rand(benign_image.shape) - 0.5) * 1e-1\n",
    "    #adv = benign_image\n",
    "    adv = torch.zeros(benign_image.shape)\n",
    "    loss_fn = nn.CrossEntropyLoss(reduction='sum')\n",
    "    norm = nn.L1Loss(reduction='mean')\n",
    "    # TODO: implement L-BFGS instead of GD\n",
    "    for _ in range(100):\n",
    "        adv.requires_grad = True\n",
    "        if adv.grad is not None:\n",
    "            adv.grad.zero_()\n",
    "        loss = c_lambda * norm(adv.unsqueeze(0), benign_image.unsqueeze(0)) \\\n",
    "            + loss_fn(model(adv.unsqueeze(0)), torch.Tensor([target_label]).type(torch.long))\n",
    "        #loss = loss_fn(model(adv.unsqueeze(0)), torch.Tensor([target_label]).type(torch.long))\n",
    "        loss.backward()\n",
    "        new_adv = MnistData.clip_for_image(adv - step_size * adv.grad.apply_(lambda x: 1 if x >= 0 else -1))\n",
    "        adv = new_adv\n",
    "    #MnistData.display(adv)\n",
    "    #pred = MnistData.get_prediction(model, adv)\n",
    "    #print(f'pred: {pred[0]}; target: {target_label}')\n",
    "    if MnistData.get_prediction(model, adv)[0] == target_label:\n",
    "        return adv\n",
    "    return None\n",
    "    \n"
   ]
  },
  {
   "cell_type": "code",
   "execution_count": 241,
   "metadata": {},
   "outputs": [],
   "source": [
    "def solve_for_adv(model, benign_image, label, worst_case=False) -> torch.Tensor:\n",
    "    # if MnistData.get_prediction(model, benign_image) != label:\n",
    "    #     return benign_image\n",
    "    # Line search for \\lambda value (c in original paper)\n",
    "    advs = []\n",
    "    for i in [j for j in range(10) if j != label]:\n",
    "        #print(f'\\tTrying label {i}')\n",
    "        c_lambda = 100\n",
    "        adv = None\n",
    "        while adv is None:\n",
    "            #print(f'\\tc_lamda = {c_lambda}')\n",
    "            adv = solve_for_targeted(model, benign_image, i, c_lambda)\n",
    "            c_lambda *= 0.9\n",
    "        advs.append(adv)\n",
    "\n",
    "    norm = nn.MSELoss(reduction='sum')\n",
    "    # return\n",
    "    norms = []\n",
    "    for adv in advs:\n",
    "        norms.append(norm(benign_image, adv))\n",
    "        #norms.append(norm(benign_image, adv))\n",
    "    if worst_case:\n",
    "        maxout = max(norms)\n",
    "        for i in range(len(advs)):\n",
    "            if norms[i] == maxout:\n",
    "                return advs[i]\n",
    "    else:\n",
    "        minout = min(norms)\n",
    "        for i in range(len(advs)):\n",
    "            if norms[i] == minout:\n",
    "                return advs[i]"
   ]
  },
  {
   "cell_type": "code",
   "execution_count": 242,
   "metadata": {},
   "outputs": [
    {
     "name": "stdout",
     "output_type": "stream",
     "text": [
      "--- 0 ---\n",
      "--- 1 ---\n",
      "--- 2 ---\n",
      "--- 3 ---\n",
      "--- 4 ---\n",
      "--- 5 ---\n",
      "--- 6 ---\n",
      "--- 7 ---\n",
      "--- 8 ---\n",
      "--- 9 ---\n"
     ]
    }
   ],
   "source": [
    "benign_images, labels = data.get_training_batch(10)\n",
    "altered_training_images = []\n",
    "\n",
    "for i in range(len(labels)):\n",
    "    print(f'--- {i} ---')\n",
    "    benign_image = benign_images[i]\n",
    "    #MnistData.display(benign_image)\n",
    "    label = labels[i]\n",
    "    altered_training_images.append(solve_for_adv(model_loaded, benign_image, label))\n",
    "\n",
    "#altered_training_images = torch.Tensor(altered_training_images)"
   ]
  },
  {
   "cell_type": "code",
   "execution_count": 243,
   "metadata": {
    "collapsed": false,
    "pycharm": {
     "name": "#%%\n"
    }
   },
   "outputs": [
    {
     "data": {
      "text/plain": [
       "10"
      ]
     },
     "execution_count": 243,
     "metadata": {},
     "output_type": "execute_result"
    }
   ],
   "source": [
    "possible_adversarials = MnistData.get_adversarials(model_loaded, benign_images, labels, altered_training_images)\n",
    "len(possible_adversarials)"
   ]
  },
  {
   "cell_type": "code",
   "execution_count": 250,
   "metadata": {
    "collapsed": false,
    "pycharm": {
     "name": "#%%\n"
    }
   },
   "outputs": [
    {
     "data": {
      "image/png": "[encoded data removed]",
      "text/plain": [
       "<Figure size 432x288 with 1 Axes>"
      ]
     },
     "metadata": {
      "needs_background": "light"
     },
     "output_type": "display_data"
    },
    {
     "name": "stdout",
     "output_type": "stream",
     "text": [
      "+++++\n"
     ]
    },
    {
     "data": {
      "image/png": "[encoded data removed]",
      "text/plain": [
       "<Figure size 432x288 with 1 Axes>"
      ]
     },
     "metadata": {
      "needs_background": "light"
     },
     "output_type": "display_data"
    },
    {
     "name": "stdout",
     "output_type": "stream",
     "text": [
      "=====\n"
     ]
    },
    {
     "data": {
      "image/png": "[encoded data removed]",
      "text/plain": [
       "<Figure size 432x288 with 1 Axes>"
      ]
     },
     "metadata": {
      "needs_background": "light"
     },
     "output_type": "display_data"
    },
    {
     "name": "stdout",
     "output_type": "stream",
     "text": [
      "Label: 4, Prediction: 6, Confidence: 0.9997431635856628\n",
      "Original prediction: 4, Original confidence: 1.0\n"
     ]
    }
   ],
   "source": [
    "MnistData.show_adversarial(possible_adversarials, benign_images, altered_training_images, 6)"
   ]
  }
 ],
 "metadata": {
  "kernelspec": {
   "display_name": "Python 3",
   "language": "python",
   "name": "python3"
  },
  "language_info": {
   "codemirror_mode": {
    "name": "ipython",
    "version": 3
   },
   "file_extension": ".py",
   "mimetype": "text/x-python",
   "name": "python",
   "nbconvert_exporter": "python",
   "pygments_lexer": "ipython3",
   "version": "3.8.10"
  }
 },
 "nbformat": 4,
 "nbformat_minor": 0
}
