{
 "cells": [
  {
   "cell_type": "code",
   "execution_count": 1,
   "metadata": {},
   "outputs": [],
   "source": [
    "%load_ext autoreload\n",
    "%autoreload 2"
   ]
  },
  {
   "cell_type": "code",
   "execution_count": 2,
   "metadata": {},
   "outputs": [],
   "source": [
    "import torch.nn as nn\n",
    "import torch\n",
    "\n",
    "from utils import MnistData\n",
    "from models import ModelManager, ModelType"
   ]
  },
  {
   "cell_type": "code",
   "execution_count": 3,
   "metadata": {},
   "outputs": [],
   "source": [
    "max_norm = 50 / 255"
   ]
  },
  {
   "cell_type": "code",
   "execution_count": 4,
   "metadata": {},
   "outputs": [],
   "source": [
    "model = ModelManager.get_trained(ModelType.MnistCnnPatt)"
   ]
  },
  {
   "cell_type": "code",
   "execution_count": 5,
   "metadata": {},
   "outputs": [],
   "source": [
    "batch_size = 10"
   ]
  },
  {
   "cell_type": "code",
   "execution_count": 6,
   "metadata": {},
   "outputs": [],
   "source": [
    "data = MnistData(True)"
   ]
  },
  {
   "cell_type": "code",
   "execution_count": 18,
   "metadata": {},
   "outputs": [],
   "source": [
    "def fgsm(benign_examples: torch.Tensor, labels: torch.Tensor) -> torch.Tensor:\n",
    "    loss_fn = nn.CrossEntropyLoss()\n",
    "    benign_examples = benign_examples.detach()\n",
    "    benign_examples.requires_grad = True\n",
    "    if benign_examples.grad is not None:\n",
    "        benign_examples.grad.zero_()\n",
    "    loss = loss_fn(model(benign_examples), labels)\n",
    "    loss.backward()\n",
    "    print('Gradient:')\n",
    "    print(benign_examples.grad)\n",
    "    adversarial_examples = benign_examples + max_norm * benign_examples.grad.apply_(lambda x: 1 if x >= 0 else -1)\n",
    "    return MnistData.clip_for_image(adversarial_examples)"
   ]
  },
  {
   "cell_type": "code",
   "execution_count": 8,
   "metadata": {},
   "outputs": [],
   "source": [
    "benign_examples, labels = data.draw_first(batch_size, model)"
   ]
  },
  {
   "cell_type": "markdown",
   "metadata": {},
   "source": [
    "Následující buňka má gradient malý, ale nenulový"
   ]
  },
  {
   "cell_type": "code",
   "execution_count": 19,
   "metadata": {},
   "outputs": [
    {
     "data": {
      "image/png": "[encoded data removed]",
      "text/plain": [
       "<Figure size 432x288 with 1 Axes>"
      ]
     },
     "metadata": {
      "needs_background": "light"
     },
     "output_type": "display_data"
    },
    {
     "name": "stdout",
     "output_type": "stream",
     "text": [
      "Gradient:\n",
      "tensor([[[[ 8.9842e-24,  2.0870e-23, -4.5650e-23, -1.1800e-22, -5.6983e-22,\n",
      "           -5.3427e-22, -1.0189e-21, -7.9457e-22, -1.2264e-21, -1.0644e-21,\n",
      "           -6.2230e-22, -2.5979e-22, -3.1001e-22, -2.4858e-22, -5.2044e-22,\n",
      "           -5.8212e-22, -6.6307e-22, -4.2396e-22, -1.1562e-22, -5.2343e-23,\n",
      "            2.1809e-22,  8.1389e-23,  3.8648e-23, -7.9141e-23, -9.0326e-23,\n",
      "            4.8920e-24,  3.5339e-23,  0.0000e+00],\n",
      "          [ 1.9116e-23, -4.6852e-24, -2.5212e-22, -4.1840e-22, -1.0406e-21,\n",
      "           -6.8440e-22,  1.2629e-21,  4.7797e-21,  4.7903e-21,  2.7566e-21,\n",
      "            1.6840e-21, -3.6141e-22, -9.7849e-23, -2.8536e-22,  5.5418e-22,\n",
      "            1.3678e-21,  4.7793e-21,  8.2700e-21,  9.7072e-21,  7.2037e-21,\n",
      "            3.9426e-21,  1.9133e-21,  2.1696e-21,  2.6879e-21,  3.1757e-21,\n",
      "            2.3391e-21,  1.4869e-21,  0.0000e+00],\n",
      "          [ 4.6472e-23,  8.2785e-24,  7.8698e-23,  4.2008e-22,  2.2654e-21,\n",
      "            2.5721e-21,  4.6834e-21,  7.3810e-21,  1.0116e-20,  1.0861e-20,\n",
      "            9.1980e-21,  1.0554e-20,  1.5090e-20,  1.4301e-20,  1.4055e-20,\n",
      "            1.7638e-20,  2.5705e-20,  3.3259e-20,  3.9372e-20,  2.5644e-20,\n",
      "            1.3277e-20,  7.6467e-21,  4.3741e-21,  7.4354e-21,  1.5403e-20,\n",
      "            1.2974e-20,  6.3692e-21,  2.5219e-22],\n",
      "          [ 2.1777e-22,  8.7962e-23,  5.4129e-22,  1.5204e-21,  2.9258e-21,\n",
      "           -2.3705e-21, -1.6790e-20, -3.1512e-20, -3.9131e-20, -2.6372e-20,\n",
      "           -1.4694e-20,  1.7412e-20,  3.5732e-20,  3.1927e-20,  1.8406e-20,\n",
      "            2.5940e-21, -8.8780e-21, -1.3242e-20,  7.8651e-21,  8.0569e-21,\n",
      "            4.6687e-21,  4.1153e-21,  8.3621e-21,  3.9980e-21,  6.6116e-21,\n",
      "            7.4067e-21,  5.0950e-22,  1.7035e-22],\n",
      "          [-1.1084e-22, -6.5639e-22, -1.9419e-21,  6.8789e-22, -3.8140e-21,\n",
      "           -9.9746e-21, -3.9896e-20, -5.9093e-20, -4.6515e-20, -1.8157e-20,\n",
      "           -9.4873e-21, -1.6370e-20, -1.4286e-20, -6.5774e-22, -1.4854e-21,\n",
      "           -8.7999e-21, -4.7489e-20, -7.4151e-20, -6.2277e-20,  1.3883e-20,\n",
      "            3.2793e-20,  3.9763e-20,  2.8390e-20, -5.2192e-20, -4.9972e-20,\n",
      "           -2.5734e-20, -1.0092e-20, -1.8514e-22],\n",
      "          [-1.6425e-22, -6.7576e-22, -2.3318e-21, -7.6176e-22, -6.0173e-21,\n",
      "            1.9500e-20,  5.5554e-20,  9.7231e-20,  1.9450e-20, -3.7243e-20,\n",
      "           -6.3931e-20, -1.3021e-19, -1.3187e-19, -8.6488e-20, -2.7289e-20,\n",
      "           -1.9831e-20, -8.2511e-20, -1.4477e-19, -1.1763e-19, -3.2484e-20,\n",
      "           -5.2654e-20, -1.0820e-19, -1.5881e-19, -1.6102e-19, -6.7612e-20,\n",
      "           -2.3678e-20, -1.1725e-20, -5.2342e-22],\n",
      "          [ 1.1591e-21,  1.0519e-21,  6.8846e-21,  3.9586e-21,  1.3605e-20,\n",
      "            1.0225e-20,  3.9611e-20,  1.1365e-19, -7.4482e-21, -2.4071e-19,\n",
      "           -2.6181e-19, -1.2316e-19,  4.5418e-21,  5.8696e-20,  4.4210e-20,\n",
      "           -2.6942e-20, -1.1223e-19, -1.5219e-19, -1.3102e-19, -1.8223e-19,\n",
      "           -2.9590e-19, -3.2734e-19, -2.2737e-19, -1.1084e-19, -1.3620e-20,\n",
      "           -1.9510e-20, -1.0912e-20, -7.6835e-22],\n",
      "          [-1.9823e-23,  2.6375e-22,  1.0289e-20,  1.6533e-20,  1.8153e-20,\n",
      "           -1.3933e-20,  2.0369e-20,  2.2742e-19,  3.9855e-19,  1.6158e-19,\n",
      "            3.4761e-20,  5.8353e-20,  1.9003e-19,  2.3392e-19,  9.1575e-20,\n",
      "           -2.6807e-20, -1.1384e-19, -2.8351e-20,  3.3649e-20,  7.8551e-21,\n",
      "           -6.6495e-20,  3.7028e-20,  1.0601e-19,  8.1298e-20,  9.1400e-20,\n",
      "            2.5470e-20,  7.2775e-21, -1.0064e-21],\n",
      "          [-1.8480e-21, -4.3209e-21, -6.8412e-21, -5.7867e-22, -9.0869e-22,\n",
      "            8.4524e-20,  1.9681e-19,  4.6502e-19,  7.7999e-19,  9.0023e-19,\n",
      "            6.5247e-19,  2.5390e-19,  8.4365e-20,  2.3638e-19,  1.5147e-19,\n",
      "            6.4607e-20,  6.3660e-20,  2.7117e-19,  2.4357e-19,  1.5156e-19,\n",
      "            2.0413e-19,  2.7976e-19,  2.2567e-19,  1.0364e-19,  8.0612e-20,\n",
      "            3.9645e-20,  2.0098e-20,  4.6514e-21],\n",
      "          [-1.7231e-21, -5.5418e-21, -4.3054e-21, -1.9691e-20, -6.3373e-20,\n",
      "           -9.4299e-20, -1.0664e-19, -1.7342e-19, -1.1414e-19,  1.4137e-19,\n",
      "            4.3476e-20, -1.3536e-20, -3.1224e-19, -7.2661e-20,  1.7492e-19,\n",
      "            1.4707e-19,  2.6534e-19,  3.9630e-19,  2.5029e-19,  1.1553e-19,\n",
      "            1.7662e-19,  1.8709e-19,  1.2884e-19,  4.8839e-20,  3.4714e-20,\n",
      "            5.9295e-21,  5.8623e-21,  2.8448e-21],\n",
      "          [-3.1054e-21, -6.1540e-21, -8.4307e-21, -3.9453e-20, -8.0691e-20,\n",
      "           -2.2290e-19, -4.0559e-19, -5.6835e-19, -6.5391e-19, -6.3127e-19,\n",
      "           -5.4200e-19, -7.3923e-19, -8.2910e-19, -1.6179e-19,  1.0861e-19,\n",
      "            7.0382e-20,  1.5149e-19,  2.2222e-19,  5.7730e-20, -1.9045e-20,\n",
      "           -6.1708e-21,  1.1275e-20, -7.0034e-22,  8.2311e-21, -9.9421e-21,\n",
      "           -1.9283e-20, -1.0380e-20, -2.3451e-21],\n",
      "          [-1.5837e-21, -3.7655e-21, -1.1775e-20, -2.5177e-20, -2.7915e-20,\n",
      "           -5.3499e-20, -1.2810e-19, -2.0957e-19, -3.3349e-19, -3.8418e-19,\n",
      "           -5.0956e-19, -7.2772e-19, -7.6246e-19,  7.1475e-20,  1.6974e-19,\n",
      "           -5.8062e-20, -1.4546e-19, -1.4480e-19, -2.3424e-19, -1.4158e-19,\n",
      "           -1.3691e-19, -9.2507e-20, -7.6236e-20, -3.5142e-20, -2.5335e-20,\n",
      "           -1.6965e-20, -9.7555e-21, -1.1381e-21],\n",
      "          [ 1.1020e-21,  2.5091e-21, -5.6103e-21, -2.6588e-22,  9.2642e-21,\n",
      "            4.6003e-20,  5.5206e-20,  1.1770e-19,  8.5347e-20,  3.3082e-20,\n",
      "           -8.7940e-20, -1.9778e-19, -1.3624e-19,  2.7102e-19,  1.9175e-19,\n",
      "           -7.9908e-20, -1.7538e-19, -1.6383e-19, -1.4499e-19, -4.5858e-20,\n",
      "           -9.7656e-21,  8.1271e-21,  1.3737e-20,  2.0606e-20,  3.0702e-20,\n",
      "            2.0548e-20,  1.1651e-20,  0.0000e+00],\n",
      "          [-7.0379e-22, -2.0000e-21, -4.1818e-21,  2.8217e-21, -5.4012e-21,\n",
      "           -1.3360e-20,  1.7857e-20,  9.6823e-20,  1.5111e-19,  2.2146e-19,\n",
      "            2.6297e-19,  3.1390e-19,  3.2197e-19,  4.4770e-19,  3.9654e-19,\n",
      "            1.1681e-19, -1.3641e-19, -1.3126e-19, -8.3557e-20, -4.4114e-20,\n",
      "           -1.5202e-20,  2.1390e-20,  2.5195e-20,  1.1692e-20,  1.3815e-20,\n",
      "            1.3725e-20,  8.6289e-21,  0.0000e+00],\n",
      "          [ 1.7984e-24, -2.6576e-22,  2.9582e-21,  1.4797e-20,  1.9792e-20,\n",
      "            6.4289e-21,  1.6812e-20,  2.6968e-20,  4.8107e-20,  9.6240e-20,\n",
      "            1.2080e-19,  1.7644e-19,  2.0386e-19,  2.5873e-19,  3.4000e-19,\n",
      "            2.4831e-19, -3.5037e-21, -2.7398e-20, -3.9324e-20, -9.8890e-20,\n",
      "           -1.0737e-19, -9.9586e-20, -4.1225e-20,  1.3658e-20, -7.6550e-21,\n",
      "           -1.6177e-20, -9.1408e-21,  0.0000e+00],\n",
      "          [ 9.5769e-22,  3.7066e-21,  1.0552e-20,  1.9984e-20,  2.5797e-20,\n",
      "            1.1975e-20,  1.3588e-21, -2.1694e-20, -8.5450e-22,  1.7150e-20,\n",
      "           -1.2495e-20, -4.6474e-20, -1.1006e-19, -1.9075e-19, -1.0873e-19,\n",
      "            8.3414e-20,  8.3144e-20,  6.7467e-20,  3.1625e-20, -1.8231e-20,\n",
      "           -6.7429e-20, -8.9790e-20, -8.2590e-20, -5.0793e-20, -4.3489e-20,\n",
      "           -2.2635e-20, -1.1008e-20,  0.0000e+00],\n",
      "          [ 3.4764e-21,  7.6947e-21,  1.0797e-20,  1.4636e-20,  1.1165e-20,\n",
      "           -3.8334e-21, -2.1862e-20, -4.9040e-20, -5.0849e-20, -3.9952e-20,\n",
      "           -1.5494e-20, -7.0732e-20, -1.3946e-19, -2.3272e-19, -2.8252e-19,\n",
      "           -2.1933e-19, -1.3761e-19,  2.0387e-20,  1.3662e-19,  7.8933e-20,\n",
      "            3.2371e-20, -6.8153e-20, -1.4384e-19, -1.3063e-19, -7.2739e-20,\n",
      "           -1.3075e-20, -6.2152e-21,  0.0000e+00],\n",
      "          [-2.8315e-22,  6.2683e-22,  1.0097e-20,  2.9705e-20,  6.2148e-20,\n",
      "            7.9519e-20,  1.0162e-19,  8.9356e-20,  7.5514e-20,  4.5041e-20,\n",
      "            6.2903e-20,  5.8928e-20,  9.8473e-21, -5.7489e-20, -1.4098e-19,\n",
      "           -1.7989e-19, -1.0727e-19,  2.0438e-20,  1.6533e-19,  1.1217e-19,\n",
      "           -5.4039e-20, -1.2253e-19, -1.6266e-19, -1.0327e-19, -3.8445e-20,\n",
      "            6.2153e-21,  2.1624e-21,  0.0000e+00],\n",
      "          [ 1.1010e-21,  3.7384e-21,  1.6719e-20,  2.6372e-20,  4.9792e-20,\n",
      "            6.5464e-20,  1.0190e-19,  1.1675e-19,  1.1361e-19,  6.9969e-20,\n",
      "            1.7456e-20, -4.2947e-20, -8.2316e-20, -7.0372e-20, -1.4168e-19,\n",
      "           -8.5338e-20,  1.8848e-20,  7.7375e-20,  1.6546e-19, -9.7589e-20,\n",
      "           -1.9811e-19, -1.1095e-19,  6.2596e-21,  2.5752e-20,  1.7978e-20,\n",
      "            6.2314e-21,  2.6208e-21,  0.0000e+00],\n",
      "          [ 3.5273e-21,  9.9553e-21,  2.0116e-20,  2.1318e-20,  2.4269e-20,\n",
      "            1.3062e-20, -3.3054e-20, -5.2261e-20, -5.5263e-20, -6.5384e-20,\n",
      "           -9.8535e-20, -1.0070e-19, -1.0738e-19, -5.2906e-20, -5.6987e-20,\n",
      "            3.6639e-20,  1.2348e-19,  1.3125e-19,  2.6386e-20, -3.3025e-19,\n",
      "           -1.7593e-19,  2.2746e-20,  1.8556e-19,  1.0624e-19,  1.8445e-20,\n",
      "           -1.0072e-20,  3.5085e-21,  0.0000e+00],\n",
      "          [-8.1484e-22, -9.3154e-22, -6.6866e-21, -1.2584e-20, -1.2349e-20,\n",
      "           -1.2567e-20, -7.5195e-20, -1.3474e-19, -1.7109e-19, -1.6674e-19,\n",
      "           -1.2437e-19, -6.0074e-20, -3.8114e-21,  1.1457e-19,  1.2718e-19,\n",
      "            1.4844e-19,  9.8524e-20,  5.0800e-20, -5.7942e-20, -9.2379e-20,\n",
      "            7.6891e-20,  1.9633e-19,  1.6981e-19,  8.3101e-20,  2.0417e-20,\n",
      "            4.8516e-21,  3.9753e-21,  0.0000e+00],\n",
      "          [-4.2287e-22, -2.8530e-21, -1.1404e-20, -1.6086e-20, -1.7265e-20,\n",
      "           -2.0796e-20, -2.1988e-20, -4.8585e-20, -1.3096e-19, -5.9109e-20,\n",
      "           -1.4362e-20,  3.7064e-20,  3.6875e-20,  8.8403e-20,  6.0435e-20,\n",
      "            6.1595e-20,  1.7681e-20,  1.8315e-20,  4.2331e-20,  8.4291e-20,\n",
      "            2.3543e-19,  1.7854e-19,  1.1767e-19,  1.1385e-19,  8.0099e-20,\n",
      "            3.1825e-20,  7.1830e-21,  0.0000e+00],\n",
      "          [-1.6290e-21, -4.9186e-21, -1.8078e-20, -3.4761e-20, -3.2235e-20,\n",
      "           -3.9090e-20, -4.7813e-20, -3.9146e-21,  5.2308e-20,  1.5482e-19,\n",
      "            1.5950e-19,  1.5756e-19,  4.2786e-20,  2.2434e-20, -6.3695e-21,\n",
      "           -9.8427e-21, -8.9798e-21,  2.5443e-20,  7.7941e-20,  1.0248e-19,\n",
      "            1.6976e-19,  1.0821e-19,  6.5749e-20,  5.6809e-20,  4.1402e-20,\n",
      "            1.9138e-20,  7.9757e-21,  0.0000e+00],\n",
      "          [-9.0673e-22, -6.3083e-21, -7.0034e-21, -1.4471e-20,  3.5679e-22,\n",
      "            8.6875e-20,  1.4279e-19,  1.8602e-19,  1.6707e-19,  1.6601e-19,\n",
      "            1.4432e-19,  1.2290e-19,  5.0656e-21, -6.2571e-21, -2.0774e-20,\n",
      "           -1.3672e-20, -6.6718e-22,  3.6011e-20,  7.3132e-20,  7.8292e-20,\n",
      "            4.6875e-20,  4.0795e-21, -4.8529e-21, -9.3268e-21, -8.3316e-21,\n",
      "           -5.1532e-22,  1.7836e-21,  0.0000e+00],\n",
      "          [ 5.4007e-22,  5.5359e-22,  1.2888e-20,  2.2563e-20,  4.5536e-20,\n",
      "            1.2469e-19,  1.6072e-19,  9.9310e-20,  2.3043e-20,  5.4894e-20,\n",
      "            2.9943e-20,  3.0472e-20,  2.3120e-21, -5.1812e-21, -2.2451e-21,\n",
      "           -6.9859e-21,  8.7007e-21,  3.7239e-20,  5.0849e-20,  3.9443e-20,\n",
      "            4.1740e-21, -1.5906e-20, -2.6384e-20, -1.9757e-20, -1.8826e-20,\n",
      "           -6.5141e-21, -1.5172e-21,  0.0000e+00],\n",
      "          [ 8.0043e-22,  1.9174e-21,  9.1125e-21, -7.5687e-22, -3.2068e-20,\n",
      "           -6.8103e-20, -9.0905e-20, -6.9975e-20, -7.5288e-20, -3.6648e-20,\n",
      "           -3.5704e-20, -1.5006e-20,  4.8074e-21,  1.4582e-20,  1.6707e-20,\n",
      "            1.4085e-20,  1.2805e-20,  3.5327e-21, -3.7787e-21, -5.0707e-22,\n",
      "           -3.9165e-21, -9.5144e-21, -1.9172e-20, -1.9825e-20, -1.9680e-20,\n",
      "           -1.0036e-20, -3.7902e-21,  0.0000e+00],\n",
      "          [ 0.0000e+00, -2.7402e-22,  1.5805e-21,  7.7543e-22, -7.7181e-21,\n",
      "           -2.9584e-20, -4.9137e-20, -4.9039e-20, -4.2019e-20, -1.7976e-20,\n",
      "           -1.5741e-20, -3.3749e-21,  6.0400e-21,  8.9576e-21,  7.9134e-21,\n",
      "            1.0491e-20,  4.3431e-21, -1.0376e-21, -6.1926e-21, -5.1809e-21,\n",
      "           -4.7480e-21, -4.6009e-21, -6.6047e-21, -7.4672e-21, -7.8770e-21,\n",
      "           -4.3262e-21, -1.4335e-21,  0.0000e+00],\n",
      "          [ 0.0000e+00, -6.6740e-22, -5.8984e-22, -9.6785e-22,  3.5477e-21,\n",
      "            1.9501e-21,  2.8204e-21, -1.6527e-21,  5.0969e-21,  5.0220e-21,\n",
      "            4.9900e-21,  2.5373e-21,  1.1974e-21,  2.2239e-21,  4.6474e-21,\n",
      "            7.5582e-21,  5.2559e-21,  1.7134e-21,  9.9755e-23,  0.0000e+00,\n",
      "            0.0000e+00,  0.0000e+00,  0.0000e+00,  0.0000e+00,  0.0000e+00,\n",
      "            0.0000e+00,  0.0000e+00,  0.0000e+00]]]])\n"
     ]
    },
    {
     "data": {
      "image/png": "[encoded data removed]",
      "text/plain": [
       "<Figure size 432x288 with 1 Axes>"
      ]
     },
     "metadata": {
      "needs_background": "light"
     },
     "output_type": "display_data"
    }
   ],
   "source": [
    "i = 0\n",
    "MnistData.display(benign_examples[i], scale=True)\n",
    "MnistData.display(fgsm(benign_examples[i].unsqueeze(0), labels[i].unsqueeze(0)), scale=True)"
   ]
  },
  {
   "cell_type": "markdown",
   "metadata": {},
   "source": [
    "Následující buňka má gradient identicky roven nule.\n",
    "Stejný kód, jen jiný vzorek."
   ]
  },
  {
   "cell_type": "code",
   "execution_count": 16,
   "metadata": {},
   "outputs": [
    {
     "data": {
      "image/png": "[encoded data removed]",
      "text/plain": [
       "<Figure size 432x288 with 1 Axes>"
      ]
     },
     "metadata": {
      "needs_background": "light"
     },
     "output_type": "display_data"
    },
    {
     "name": "stdout",
     "output_type": "stream",
     "text": [
      "Gradient:\n",
      "tensor([[[[0., 0., 0., 0., 0., 0., 0., 0., 0., 0., 0., 0., 0., 0., 0., 0., 0., 0., 0., 0., 0., 0., 0.,\n",
      "           0., 0., 0., 0., 0.],\n",
      "          [0., 0., 0., 0., 0., 0., 0., 0., 0., 0., 0., 0., 0., 0., 0., 0., 0., 0., 0., 0., 0., 0., 0.,\n",
      "           0., 0., 0., 0., 0.],\n",
      "          [0., 0., 0., 0., 0., 0., 0., 0., 0., 0., 0., 0., 0., 0., 0., 0., 0., 0., 0., 0., 0., 0., 0.,\n",
      "           0., 0., 0., 0., 0.],\n",
      "          [0., 0., 0., 0., 0., 0., 0., 0., 0., 0., 0., 0., 0., 0., 0., 0., 0., 0., 0., 0., 0., 0., 0.,\n",
      "           0., 0., 0., 0., 0.],\n",
      "          [0., 0., 0., 0., 0., 0., 0., 0., 0., 0., 0., 0., 0., 0., 0., 0., 0., 0., 0., 0., 0., 0., 0.,\n",
      "           0., 0., 0., 0., 0.],\n",
      "          [0., 0., 0., 0., 0., 0., 0., 0., 0., 0., 0., 0., 0., 0., 0., 0., 0., 0., 0., 0., 0., 0., 0.,\n",
      "           0., 0., 0., 0., 0.],\n",
      "          [0., 0., 0., 0., 0., 0., 0., 0., 0., 0., 0., 0., 0., 0., 0., 0., 0., 0., 0., 0., 0., 0., 0.,\n",
      "           0., 0., 0., 0., 0.],\n",
      "          [0., 0., 0., 0., 0., 0., 0., 0., 0., 0., 0., 0., 0., 0., 0., 0., 0., 0., 0., 0., 0., 0., 0.,\n",
      "           0., 0., 0., 0., 0.],\n",
      "          [0., 0., 0., 0., 0., 0., 0., 0., 0., 0., 0., 0., 0., 0., 0., 0., 0., 0., 0., 0., 0., 0., 0.,\n",
      "           0., 0., 0., 0., 0.],\n",
      "          [0., 0., 0., 0., 0., 0., 0., 0., 0., 0., 0., 0., 0., 0., 0., 0., 0., 0., 0., 0., 0., 0., 0.,\n",
      "           0., 0., 0., 0., 0.],\n",
      "          [0., 0., 0., 0., 0., 0., 0., 0., 0., 0., 0., 0., 0., 0., 0., 0., 0., 0., 0., 0., 0., 0., 0.,\n",
      "           0., 0., 0., 0., 0.],\n",
      "          [0., 0., 0., 0., 0., 0., 0., 0., 0., 0., 0., 0., 0., 0., 0., 0., 0., 0., 0., 0., 0., 0., 0.,\n",
      "           0., 0., 0., 0., 0.],\n",
      "          [0., 0., 0., 0., 0., 0., 0., 0., 0., 0., 0., 0., 0., 0., 0., 0., 0., 0., 0., 0., 0., 0., 0.,\n",
      "           0., 0., 0., 0., 0.],\n",
      "          [0., 0., 0., 0., 0., 0., 0., 0., 0., 0., 0., 0., 0., 0., 0., 0., 0., 0., 0., 0., 0., 0., 0.,\n",
      "           0., 0., 0., 0., 0.],\n",
      "          [0., 0., 0., 0., 0., 0., 0., 0., 0., 0., 0., 0., 0., 0., 0., 0., 0., 0., 0., 0., 0., 0., 0.,\n",
      "           0., 0., 0., 0., 0.],\n",
      "          [0., 0., 0., 0., 0., 0., 0., 0., 0., 0., 0., 0., 0., 0., 0., 0., 0., 0., 0., 0., 0., 0., 0.,\n",
      "           0., 0., 0., 0., 0.],\n",
      "          [0., 0., 0., 0., 0., 0., 0., 0., 0., 0., 0., 0., 0., 0., 0., 0., 0., 0., 0., 0., 0., 0., 0.,\n",
      "           0., 0., 0., 0., 0.],\n",
      "          [0., 0., 0., 0., 0., 0., 0., 0., 0., 0., 0., 0., 0., 0., 0., 0., 0., 0., 0., 0., 0., 0., 0.,\n",
      "           0., 0., 0., 0., 0.],\n",
      "          [0., 0., 0., 0., 0., 0., 0., 0., 0., 0., 0., 0., 0., 0., 0., 0., 0., 0., 0., 0., 0., 0., 0.,\n",
      "           0., 0., 0., 0., 0.],\n",
      "          [0., 0., 0., 0., 0., 0., 0., 0., 0., 0., 0., 0., 0., 0., 0., 0., 0., 0., 0., 0., 0., 0., 0.,\n",
      "           0., 0., 0., 0., 0.],\n",
      "          [0., 0., 0., 0., 0., 0., 0., 0., 0., 0., 0., 0., 0., 0., 0., 0., 0., 0., 0., 0., 0., 0., 0.,\n",
      "           0., 0., 0., 0., 0.],\n",
      "          [0., 0., 0., 0., 0., 0., 0., 0., 0., 0., 0., 0., 0., 0., 0., 0., 0., 0., 0., 0., 0., 0., 0.,\n",
      "           0., 0., 0., 0., 0.],\n",
      "          [0., 0., 0., 0., 0., 0., 0., 0., 0., 0., 0., 0., 0., 0., 0., 0., 0., 0., 0., 0., 0., 0., 0.,\n",
      "           0., 0., 0., 0., 0.],\n",
      "          [0., 0., 0., 0., 0., 0., 0., 0., 0., 0., 0., 0., 0., 0., 0., 0., 0., 0., 0., 0., 0., 0., 0.,\n",
      "           0., 0., 0., 0., 0.],\n",
      "          [0., 0., 0., 0., 0., 0., 0., 0., 0., 0., 0., 0., 0., 0., 0., 0., 0., 0., 0., 0., 0., 0., 0.,\n",
      "           0., 0., 0., 0., 0.],\n",
      "          [0., 0., 0., 0., 0., 0., 0., 0., 0., 0., 0., 0., 0., 0., 0., 0., 0., 0., 0., 0., 0., 0., 0.,\n",
      "           0., 0., 0., 0., 0.],\n",
      "          [0., 0., 0., 0., 0., 0., 0., 0., 0., 0., 0., 0., 0., 0., 0., 0., 0., 0., 0., 0., 0., 0., 0.,\n",
      "           0., 0., 0., 0., 0.],\n",
      "          [0., 0., 0., 0., 0., 0., 0., 0., 0., 0., 0., 0., 0., 0., 0., 0., 0., 0., 0., 0., 0., 0., 0.,\n",
      "           0., 0., 0., 0., 0.]]]])\n"
     ]
    },
    {
     "data": {
      "image/png": "[encoded data removed]",
      "text/plain": [
       "<Figure size 432x288 with 1 Axes>"
      ]
     },
     "metadata": {
      "needs_background": "light"
     },
     "output_type": "display_data"
    }
   ],
   "source": [
    "j = 2\n",
    "MnistData.display(benign_examples[j], scale=True)\n",
    "MnistData.display(fgsm(benign_examples[j].unsqueeze(0), labels[j].unsqueeze(0)), scale=True)"
   ]
  }
 ],
 "metadata": {
  "interpreter": {
   "hash": "b9d03d93fdbeeb361cc45deae4888a34596acc9ca3c93366af240ad46910d2d2"
  },
  "kernelspec": {
   "display_name": "Python 3.8.10 64-bit",
   "language": "python",
   "name": "python3"
  },
  "language_info": {
   "codemirror_mode": {
    "name": "ipython",
    "version": 3
   },
   "file_extension": ".py",
   "mimetype": "text/x-python",
   "name": "python",
   "nbconvert_exporter": "python",
   "pygments_lexer": "ipython3",
   "version": "3.8.10"
  },
  "orig_nbformat": 4
 },
 "nbformat": 4,
 "nbformat_minor": 2
}
